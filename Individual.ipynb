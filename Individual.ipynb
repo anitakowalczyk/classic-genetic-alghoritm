{
 "cells": [
  {
   "cell_type": "markdown",
   "metadata": {},
   "source": [
    "## Implementacja osobnika o dwóch chromosomach\n",
    "\n",
    "#### o __init__ - konstruktor\n",
    "- `bits` - liczba bitów chromosomu, liczba całkowita\n",
    "- `X` - chromosom X osobnika, obiekt typu Chromosome\n",
    "- `Y` - chromosom Y osobnika, obiekt typu Chromosome\n",
    "\n",
    "#### o boothFunc - implementacja wartości funkcji Booth osobnika\n",
    "#### o reciprocalBoothFunc - implementacja odwotności wartości funkcji Booth osobnika"
   ]
  },
  {
   "cell_type": "code",
   "execution_count": 17,
   "metadata": {},
   "outputs": [],
   "source": [
    "class Individual:\n",
    "    def __init__(self, bits):\n",
    "        self.bits = bits\n",
    "        self.X = self.setChromosome()\n",
    "        self.Y = self.setChromosome()\n",
    "        \n",
    "    def setChromosome(self):\n",
    "        return Chromosome(self.bits)\n",
    "    \n",
    "    def setX(self, binary):\n",
    "        self.X.binary = binary\n",
    "        self.X.decimal = self.X.setDecimal()\n",
    "        \n",
    "    def setY(self, binary):\n",
    "        self.Y.binary = binary\n",
    "        self.Y.decimal = self.Y.setDecimal()\n",
    "    \n",
    "    def boothFunc(self):\n",
    "        return pow((self.X.decimal + 2 * self.Y.decimal - 7), 2) \\\n",
    "                + pow((2 * self.X.decimal + self.Y.decimal - 5), 2)\n",
    "    \n",
    "    def reciprocalBoothFunc(self):\n",
    "        return 1 / self.boothFunc()"
   ]
  },
  {
   "cell_type": "markdown",
   "metadata": {},
   "source": [
    "# Przykłady użycia"
   ]
  },
  {
   "cell_type": "code",
   "execution_count": 18,
   "metadata": {},
   "outputs": [],
   "source": [
    "from ipynb.fs.full.Chromosome import Chromosome"
   ]
  },
  {
   "cell_type": "code",
   "execution_count": 22,
   "metadata": {},
   "outputs": [],
   "source": [
    "ind = Individual(8)"
   ]
  },
  {
   "cell_type": "code",
   "execution_count": 23,
   "metadata": {},
   "outputs": [
    {
     "name": "stdout",
     "output_type": "stream",
     "text": [
      "[1, 0, 1, 1, 0, 1, 1, 0] [1, 1, 0, 1, 1, 0, 0, 0]\n",
      "182 216\n"
     ]
    }
   ],
   "source": [
    "print(ind.X.binary, ind.Y.binary)\n",
    "print(ind.X.decimal, ind.Y.decimal)"
   ]
  },
  {
   "cell_type": "code",
   "execution_count": 25,
   "metadata": {},
   "outputs": [
    {
     "name": "stdout",
     "output_type": "stream",
     "text": [
      "699074\n"
     ]
    }
   ],
   "source": [
    "print(ind.boothFunc())"
   ]
  },
  {
   "cell_type": "code",
   "execution_count": 26,
   "metadata": {},
   "outputs": [
    {
     "name": "stdout",
     "output_type": "stream",
     "text": [
      "1.430463727731256e-06\n"
     ]
    }
   ],
   "source": [
    "print(ind.reciprocalBoothFunc())"
   ]
  },
  {
   "cell_type": "code",
   "execution_count": null,
   "metadata": {},
   "outputs": [],
   "source": []
  }
 ],
 "metadata": {
  "kernelspec": {
   "display_name": "Python 3",
   "language": "python",
   "name": "python3"
  },
  "language_info": {
   "codemirror_mode": {
    "name": "ipython",
    "version": 3
   },
   "file_extension": ".py",
   "mimetype": "text/x-python",
   "name": "python",
   "nbconvert_exporter": "python",
   "pygments_lexer": "ipython3",
   "version": "3.7.4"
  }
 },
 "nbformat": 4,
 "nbformat_minor": 2
}
