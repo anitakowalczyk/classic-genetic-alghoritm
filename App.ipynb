{
 "cells": [
  {
   "cell_type": "code",
   "execution_count": 596,
   "metadata": {},
   "outputs": [],
   "source": [
    "# import sys\n",
    "# !pip install --prefix {sys.prefix} ipywidgets"
   ]
  },
  {
   "cell_type": "code",
   "execution_count": 621,
   "metadata": {},
   "outputs": [],
   "source": [
    "from ipywidgets import Text, ToggleButton, ToggleButtons, FloatSlider\n",
    "from ipywidgets import IntSlider, Layout, Button, Box, AppLayout, IntProgress"
   ]
  },
  {
   "cell_type": "markdown",
   "metadata": {},
   "source": [
    "#### Nagłówek: konfiguracja"
   ]
  },
  {
   "cell_type": "code",
   "execution_count": 599,
   "metadata": {},
   "outputs": [],
   "source": [
    "confHeader = ToggleButton(\n",
    "    description = 'Konfiguracja',\n",
    "    disabled = False,\n",
    "    button_style = 'danger', \n",
    "    layout = Layout(width = '72%', height = '50px')\n",
    ")"
   ]
  },
  {
   "cell_type": "markdown",
   "metadata": {},
   "source": [
    "#### Slidery: wielkość populacji, ilość bitów, liczba epok"
   ]
  },
  {
   "cell_type": "code",
   "execution_count": 600,
   "metadata": {},
   "outputs": [],
   "source": [
    "populationSl = HBox([\n",
    "    Label(\n",
    "        'Liczba osobników populacji', \n",
    "        layout = Layout(width = '22%')), \n",
    "    IntSlider(\n",
    "        min = 0, max = 200, step = 1, value = 20, \n",
    "        layout = Layout(width = '50%'),\n",
    "    )\n",
    "])\n",
    "\n",
    "bitsSl = HBox([\n",
    "    Label(\n",
    "        'Liczba bitów w chromosomie', \n",
    "        layout = Layout(width = '22%')), \n",
    "    IntSlider(\n",
    "        min = 0, max = 20, step = 1, value = 8, \n",
    "        layout = Layout(width = '50%'),\n",
    "    )\n",
    "])\n",
    "\n",
    "epochSl = HBox([\n",
    "    Label(\n",
    "        'Liczba epok', \n",
    "        layout = Layout(width = '22%')), \n",
    "    IntSlider(\n",
    "        min = 0, max = 500, step = 1, value = 100, \n",
    "        layout = Layout(width = '50%'),\n",
    "    )\n",
    "])"
   ]
  },
  {
   "cell_type": "code",
   "execution_count": 601,
   "metadata": {},
   "outputs": [],
   "source": [
    "confSliders = Box(\n",
    "    children = [populationSl, bitsSl, epochSl], \n",
    "    layout = Layout(display = 'flex', flex_flow = 'column', padding = \"15px\")\n",
    ")\n",
    "configLayout = AppLayout(header = confHeader, center = confSliders)"
   ]
  },
  {
   "cell_type": "markdown",
   "metadata": {},
   "source": [
    "#### Nagłówek: operatory genetyczne"
   ]
  },
  {
   "cell_type": "code",
   "execution_count": 602,
   "metadata": {},
   "outputs": [],
   "source": [
    "genHeader = ToggleButton(\n",
    "    description = 'Operatory genetyczne',\n",
    "    disabled = False,\n",
    "    button_style = 'danger', \n",
    "    layout = Layout(width = '72%', height = '50px')\n",
    ")"
   ]
  },
  {
   "cell_type": "markdown",
   "metadata": {},
   "source": [
    "#### Przyciski: selekcja, krzyżowanie, mutacja"
   ]
  },
  {
   "cell_type": "code",
   "execution_count": 603,
   "metadata": {},
   "outputs": [],
   "source": [
    "selectionBtn = ToggleButtons(\n",
    "    options = ['najlepszych', 'kołem ruletki', 'turniejowa', 'strategia elitarna'],\n",
    "    description = 'Selekcja: ',\n",
    "    button_style = 'danger',\n",
    ")\n",
    "\n",
    "crossoverBtn = ToggleButtons(\n",
    "    options = ['jednopunktowe', 'dwupunktowe', 'trzypunktowe', 'jednorodne'],\n",
    "    description = 'Krzyżowanie: ',\n",
    "    button_style = 'warning',\n",
    ")\n",
    "\n",
    "mutationBtn = ToggleButtons(\n",
    "    options = ['jednopunktowa', 'dwupunktowa', 'brzegowa'],\n",
    "    description = 'Mutacja: ',\n",
    "    button_style = 'success',\n",
    ")"
   ]
  },
  {
   "cell_type": "markdown",
   "metadata": {},
   "source": [
    "#### Slidery: selekcja, krzyżowanie, mutacja"
   ]
  },
  {
   "cell_type": "code",
   "execution_count": 604,
   "metadata": {},
   "outputs": [],
   "source": [
    "selectionSl = HBox([\n",
    "    Label(\n",
    "        'Procent osobników', \n",
    "        layout = Layout(width = '22%')), \n",
    "    IntSlider(\n",
    "        min = 0, max = 100, step = 1, value = 30, \n",
    "        layout = Layout(width = '50%'), \n",
    "    )\n",
    "])\n",
    "\n",
    "crossoverSl = HBox([\n",
    "    Label(\n",
    "        'Prawdopodobieństwo krzyżowania', \n",
    "        layout = Layout(width = '22%')), \n",
    "    FloatSlider(\n",
    "        min = 0, max = 1, step = 0.1, value = 0.9, \n",
    "        layout = Layout(width = '50%'),\n",
    "    )\n",
    "])\n",
    "\n",
    "mutationSl = HBox([\n",
    "    Label(\n",
    "        'Prawdopodobieństwo mutacji', \n",
    "        layout = Layout(width = '22%')), \n",
    "    FloatSlider(\n",
    "        min = 0, max = 1, step = 0.1, value = 0.2, \n",
    "        layout = Layout(width = '50%'),\n",
    "    )\n",
    "])"
   ]
  },
  {
   "cell_type": "markdown",
   "metadata": {},
   "source": [
    "#### Layout: operatory genetyczne"
   ]
  },
  {
   "cell_type": "code",
   "execution_count": 605,
   "metadata": {},
   "outputs": [],
   "source": [
    "buttons = Box(\n",
    "    children = [selectionBtn, crossoverBtn, mutationBtn], \n",
    "    layout = Layout(display = 'flex', flex_flow = 'column')\n",
    ")\n",
    "geneticSliders = Box(\n",
    "    children = [selectionSl, crossoverSl, mutationSl], \n",
    "    layout = Layout(display = 'flex', flex_flow = 'column', padding = \"15px\")\n",
    ")\n",
    "box = Box(\n",
    "    children = [buttons, secondSliders], \n",
    "    layout = Layout(display = 'flex', flex_flow = 'column')\n",
    ")\n",
    "\n",
    "geneticLayout = AppLayout(header = genHeader, center = box)"
   ]
  },
  {
   "cell_type": "code",
   "execution_count": 606,
   "metadata": {},
   "outputs": [],
   "source": [
    "startButton = ToggleButton(\n",
    "    description = 'Rozpocznij',\n",
    "    disabled = False,\n",
    "    button_style = 'success', \n",
    "    layout = Layout(width = '72%', height = '50px')\n",
    ")"
   ]
  },
  {
   "cell_type": "code",
   "execution_count": 607,
   "metadata": {},
   "outputs": [],
   "source": [
    "app = Box(\n",
    "    children = [configLayout, geneticLayout, startButton], \n",
    "    layout = Layout(display = 'flex', flex_flow = 'column')\n",
    ")"
   ]
  },
  {
   "cell_type": "code",
   "execution_count": 608,
   "metadata": {},
   "outputs": [
    {
     "data": {
      "application/vnd.jupyter.widget-view+json": {
       "model_id": "c10a417595324679a363a5af9d571703",
       "version_major": 2,
       "version_minor": 0
      },
      "text/plain": [
       "Box(children=(AppLayout(children=(ToggleButton(value=False, button_style='danger', description='Konfiguracja',…"
      ]
     },
     "metadata": {},
     "output_type": "display_data"
    }
   ],
   "source": [
    "app"
   ]
  },
  {
   "cell_type": "code",
   "execution_count": null,
   "metadata": {},
   "outputs": [],
   "source": []
  },
  {
   "cell_type": "code",
   "execution_count": null,
   "metadata": {},
   "outputs": [],
   "source": []
  },
  {
   "cell_type": "code",
   "execution_count": 609,
   "metadata": {},
   "outputs": [
    {
     "data": {
      "application/vnd.jupyter.widget-view+json": {
       "model_id": "",
       "version_major": 2,
       "version_minor": 0
      },
      "text/plain": [
       "IntProgress(value=7, description='Epoka:', max=10)"
      ]
     },
     "metadata": {},
     "output_type": "display_data"
    }
   ],
   "source": [
    "epochProgress = IntProgress(\n",
    "    value = 7,\n",
    "    min = 0,\n",
    "    max = 10,\n",
    "    step = 1,\n",
    "    description = 'Epoka:',\n",
    "    bar_style = '',\n",
    ")\n",
    "\n",
    "epochProgress"
   ]
  },
  {
   "cell_type": "markdown",
   "metadata": {},
   "source": [
    "#### Rezultaty: czas obliczeń, buttony do wyświetlenia wykresów, zapis wyników do pliku"
   ]
  },
  {
   "cell_type": "code",
   "execution_count": 760,
   "metadata": {},
   "outputs": [],
   "source": [
    "timeOutput = HBox([\n",
    "    Label(\n",
    "        'Czas obliczeń: ', \n",
    "        layout = Layout(width = '100px')), \n",
    "    Label(\n",
    "        '00.00 sek', \n",
    "        layout = Layout(width = '100px'))\n",
    "])"
   ]
  },
  {
   "cell_type": "code",
   "execution_count": 754,
   "metadata": {},
   "outputs": [],
   "source": [
    "boothFuncBtn = ToggleButton(\n",
    "    description = 'Wykres zależności wartości funkcji celu od kolejnej iteracji',\n",
    "    disabled = False,\n",
    "    layout = Layout(width = '50%')\n",
    ")\n",
    "meanBoothFuncBtn = ToggleButton(\n",
    "    description = 'Wykres zależności średniej wartości funkcji celu od kolejnej iteracji',\n",
    "    disabled = False,\n",
    "    layout = Layout(width = '50%')\n",
    ")\n",
    "stdBtn = ToggleButton(\n",
    "    description = 'Wykres zależności odchylenia standardowego od kolejnej iteracji',\n",
    "    disabled = False,\n",
    "    layout = Layout(width = '50%')\n",
    ")"
   ]
  },
  {
   "cell_type": "code",
   "execution_count": 755,
   "metadata": {},
   "outputs": [],
   "source": [
    "plotsBox = Box(\n",
    "    children = [boothFuncBtn, meanBoothFuncBtn, stdBtn], \n",
    "    layout = Layout(display = 'flex', flex_flow = 'column', margin = \"10px\")\n",
    ")"
   ]
  },
  {
   "cell_type": "code",
   "execution_count": 756,
   "metadata": {},
   "outputs": [],
   "source": [
    "fileInput = HBox([\n",
    "    Label(\n",
    "        'Zapis wyników do pliku:', \n",
    "        layout = Layout(width = '200px')), \n",
    "    Text(\n",
    "        value = '',\n",
    "        placeholder = 'lokalizacja pliku',\n",
    "        disabled = False,\n",
    "        layout = Layout(width = '80%')\n",
    "    )\n",
    "])\n",
    "\n",
    "fileButton = ToggleButton(\n",
    "    description = 'Zapisz',\n",
    "    disabled = False,\n",
    "    layout = Layout(width = '11%')\n",
    ")"
   ]
  },
  {
   "cell_type": "code",
   "execution_count": 757,
   "metadata": {},
   "outputs": [],
   "source": [
    "fileBox = Box(\n",
    "    children = [fileInput, fileButton], \n",
    "    layout = Layout(display = 'flex', flex_flow = 'row', margin = \"10px\")\n",
    ")"
   ]
  },
  {
   "cell_type": "code",
   "execution_count": 758,
   "metadata": {},
   "outputs": [],
   "source": [
    "outputBox = Box(\n",
    "    children = [timeOutput, plotsBox, fileBox], \n",
    "    layout = Layout(display = 'flex', flex_flow = 'column')\n",
    ")"
   ]
  },
  {
   "cell_type": "code",
   "execution_count": 759,
   "metadata": {},
   "outputs": [
    {
     "data": {
      "application/vnd.jupyter.widget-view+json": {
       "model_id": "7b862e6be11d44bbab982a3cf5386d57",
       "version_major": 2,
       "version_minor": 0
      },
      "text/plain": [
       "Box(children=(HBox(children=(Label(value='Czas obliczeń: ', layout=Layout(width='100px')), Label(value='00.00 …"
      ]
     },
     "metadata": {},
     "output_type": "display_data"
    }
   ],
   "source": [
    "outputBox"
   ]
  },
  {
   "cell_type": "code",
   "execution_count": null,
   "metadata": {},
   "outputs": [],
   "source": []
  }
 ],
 "metadata": {
  "kernelspec": {
   "display_name": "Python 3",
   "language": "python",
   "name": "python3"
  },
  "language_info": {
   "codemirror_mode": {
    "name": "ipython",
    "version": 3
   },
   "file_extension": ".py",
   "mimetype": "text/x-python",
   "name": "python",
   "nbconvert_exporter": "python",
   "pygments_lexer": "ipython3",
   "version": "3.7.4"
  }
 },
 "nbformat": 4,
 "nbformat_minor": 2
}
