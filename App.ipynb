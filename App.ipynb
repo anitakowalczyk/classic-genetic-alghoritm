{
 "cells": [
  {
   "cell_type": "code",
   "execution_count": 542,
   "metadata": {},
   "outputs": [],
   "source": [
    "# import sys\n",
    "# !pip install --prefix {sys.prefix} ipywidgets"
   ]
  },
  {
   "cell_type": "code",
   "execution_count": 543,
   "metadata": {},
   "outputs": [],
   "source": [
    "from ipywidgets import ToggleButton, ToggleButtons, FloatSlider, IntSlider, Layout, Button, Box, AppLayout, IntProgress"
   ]
  },
  {
   "cell_type": "markdown",
   "metadata": {},
   "source": [
    "#### Nagłówek: konfiguracja"
   ]
  },
  {
   "cell_type": "code",
   "execution_count": 544,
   "metadata": {},
   "outputs": [],
   "source": [
    "confHeader = ToggleButton(\n",
    "    description = 'Konfiguracja',\n",
    "    disabled = False,\n",
    "    button_style = 'danger', \n",
    "    layout = Layout(width = '72%', height = '50px')\n",
    ")"
   ]
  },
  {
   "cell_type": "markdown",
   "metadata": {},
   "source": [
    "#### Slidery: wielkość populacji, ilość bitów, liczba epok"
   ]
  },
  {
   "cell_type": "code",
   "execution_count": 545,
   "metadata": {},
   "outputs": [],
   "source": [
    "populationSl = HBox([\n",
    "    Label(\n",
    "        'Liczba osobników populacji', \n",
    "        layout = Layout(width = '22%')), \n",
    "    IntSlider(\n",
    "        min = 0, max = 200, step = 1, value = 20, \n",
    "        layout = Layout(width = '50%'),\n",
    "    )\n",
    "])\n",
    "\n",
    "bitsSl = HBox([\n",
    "    Label(\n",
    "        'Liczba bitów w chromosomie', \n",
    "        layout = Layout(width = '22%')), \n",
    "    IntSlider(\n",
    "        min = 0, max = 20, step = 1, value = 8, \n",
    "        layout = Layout(width = '50%'),\n",
    "    )\n",
    "])\n",
    "\n",
    "epochSl = HBox([\n",
    "    Label(\n",
    "        'Liczba epok', \n",
    "        layout = Layout(width = '22%')), \n",
    "    IntSlider(\n",
    "        min = 0, max = 500, step = 1, value = 100, \n",
    "        layout = Layout(width = '50%'),\n",
    "    )\n",
    "])"
   ]
  },
  {
   "cell_type": "code",
   "execution_count": 546,
   "metadata": {},
   "outputs": [],
   "source": [
    "confSliders = Box(\n",
    "    children = [populationSl, bitsSl, epochSl], \n",
    "    layout = Layout(display = 'flex', flex_flow = 'column', padding = \"15px\")\n",
    ")\n",
    "configLayout = AppLayout(header = confHeader, center = confSliders)"
   ]
  },
  {
   "cell_type": "markdown",
   "metadata": {},
   "source": [
    "#### Nagłówek: operatory genetyczne"
   ]
  },
  {
   "cell_type": "code",
   "execution_count": 547,
   "metadata": {},
   "outputs": [],
   "source": [
    "genHeader = ToggleButton(\n",
    "    description = 'Operatory genetyczne',\n",
    "    disabled = False,\n",
    "    button_style = 'danger', \n",
    "    layout = Layout(width = '72%', height = '50px')\n",
    ")"
   ]
  },
  {
   "cell_type": "markdown",
   "metadata": {},
   "source": [
    "#### Przyciski: selekcja, krzyżowanie, mutacja"
   ]
  },
  {
   "cell_type": "code",
   "execution_count": 548,
   "metadata": {},
   "outputs": [],
   "source": [
    "selectionBtn = ToggleButtons(\n",
    "    options = ['najlepszych', 'kołem ruletki', 'turniejowa', 'strategia elitarna'],\n",
    "    description = 'Selekcja: ',\n",
    "    button_style = 'danger',\n",
    ")\n",
    "\n",
    "crossoverBtn = ToggleButtons(\n",
    "    options = ['jednopunktowe', 'dwupunktowe', 'trzypunktowe', 'jednorodne'],\n",
    "    description = 'Krzyżowanie: ',\n",
    "    button_style = 'warning',\n",
    ")\n",
    "\n",
    "mutationBtn = ToggleButtons(\n",
    "    options = ['jednopunktowa', 'dwupunktowa', 'brzegowa'],\n",
    "    description = 'Mutacja: ',\n",
    "    button_style = 'success',\n",
    ")"
   ]
  },
  {
   "cell_type": "markdown",
   "metadata": {},
   "source": [
    "#### Slidery: selekcja, krzyżowanie, mutacja"
   ]
  },
  {
   "cell_type": "code",
   "execution_count": 549,
   "metadata": {},
   "outputs": [],
   "source": [
    "selectionSl = HBox([\n",
    "    Label(\n",
    "        'Procent osobników', \n",
    "        layout = Layout(width = '22%')), \n",
    "    IntSlider(\n",
    "        min = 0, max = 100, step = 1, value = 30, \n",
    "        layout = Layout(width = '50%'), \n",
    "    )\n",
    "])\n",
    "\n",
    "crossoverSl = HBox([\n",
    "    Label(\n",
    "        'Prawdopodobieństwo krzyżowania', \n",
    "        layout = Layout(width = '22%')), \n",
    "    FloatSlider(\n",
    "        min = 0, max = 1, step = 0.1, value = 0.9, \n",
    "        layout = Layout(width = '50%'),\n",
    "    )\n",
    "])\n",
    "\n",
    "mutationSl = HBox([\n",
    "    Label(\n",
    "        'Prawdopodobieństwo mutacji', \n",
    "        layout = Layout(width = '22%')), \n",
    "    FloatSlider(\n",
    "        min = 0, max = 1, step = 0.1, value = 0.2, \n",
    "        layout = Layout(width = '50%'),\n",
    "    )\n",
    "])"
   ]
  },
  {
   "cell_type": "markdown",
   "metadata": {},
   "source": [
    "#### Layout: operatory genetyczne"
   ]
  },
  {
   "cell_type": "code",
   "execution_count": 550,
   "metadata": {},
   "outputs": [],
   "source": [
    "buttons = Box(\n",
    "    children = [selectionBtn, crossoverBtn, mutationBtn], \n",
    "    layout = Layout(display = 'flex', flex_flow = 'column')\n",
    ")\n",
    "geneticSliders = Box(\n",
    "    children = [selectionSl, crossoverSl, mutationSl], \n",
    "    layout = Layout(display = 'flex', flex_flow = 'column', padding = \"15px\")\n",
    ")\n",
    "box = Box(\n",
    "    children = [buttons, secondSliders], \n",
    "    layout = Layout(display = 'flex', flex_flow = 'column')\n",
    ")\n",
    "\n",
    "geneticLayout = AppLayout(header = genHeader, center = box)"
   ]
  },
  {
   "cell_type": "code",
   "execution_count": 551,
   "metadata": {},
   "outputs": [],
   "source": [
    "startButton = ToggleButton(\n",
    "    description = 'Rozpocznij',\n",
    "    disabled = False,\n",
    "    button_style = 'success', \n",
    "    layout = Layout(width = '72%', height = '50px')\n",
    ")"
   ]
  },
  {
   "cell_type": "code",
   "execution_count": 552,
   "metadata": {},
   "outputs": [],
   "source": [
    "app = Box(\n",
    "    children = [configLayout, geneticLayout, startButton], \n",
    "    layout = Layout(display = 'flex', flex_flow = 'column')\n",
    ")"
   ]
  },
  {
   "cell_type": "code",
   "execution_count": 553,
   "metadata": {},
   "outputs": [
    {
     "data": {
      "application/vnd.jupyter.widget-view+json": {
       "model_id": "3f17dc35b31f44869a78362923132fba",
       "version_major": 2,
       "version_minor": 0
      },
      "text/plain": [
       "Box(children=(AppLayout(children=(ToggleButton(value=False, button_style='danger', description='Konfiguracja',…"
      ]
     },
     "metadata": {},
     "output_type": "display_data"
    }
   ],
   "source": [
    "app"
   ]
  },
  {
   "cell_type": "code",
   "execution_count": 554,
   "metadata": {},
   "outputs": [
    {
     "data": {
      "application/vnd.jupyter.widget-view+json": {
       "model_id": "27ee58fc37fe45d3b6f5c83f1a938d34",
       "version_major": 2,
       "version_minor": 0
      },
      "text/plain": [
       "IntProgress(value=7, description='Epoka:', max=10)"
      ]
     },
     "metadata": {},
     "output_type": "display_data"
    }
   ],
   "source": [
    "epochProgress = IntProgress(\n",
    "    value = 7,\n",
    "    min = 0,\n",
    "    max = 10,\n",
    "    step = 1,\n",
    "    description = 'Epoka:',\n",
    "    bar_style = '',\n",
    ")\n",
    "\n",
    "epochProgress"
   ]
  },
  {
   "cell_type": "code",
   "execution_count": null,
   "metadata": {},
   "outputs": [],
   "source": []
  }
 ],
 "metadata": {
  "kernelspec": {
   "display_name": "Python 3",
   "language": "python",
   "name": "python3"
  },
  "language_info": {
   "codemirror_mode": {
    "name": "ipython",
    "version": 3
   },
   "file_extension": ".py",
   "mimetype": "text/x-python",
   "name": "python",
   "nbconvert_exporter": "python",
   "pygments_lexer": "ipython3",
   "version": "3.7.4"
  }
 },
 "nbformat": 4,
 "nbformat_minor": 2
}
