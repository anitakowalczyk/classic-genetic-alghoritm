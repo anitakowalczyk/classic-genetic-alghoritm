{
 "cells": [
  {
   "cell_type": "code",
   "execution_count": 133,
   "metadata": {},
   "outputs": [],
   "source": [
    "from ipynb.fs.full.Chromosome import Chromosome\n",
    "from ipynb.fs.full.Individual import Individual\n",
    "from ipynb.fs.full.Population import Population, tournamentSelection\n",
    "from ipynb.fs.full.Crossovers import singlePointCrossoverObj, twoPointsCrossoverObj, threePointsCrossoverObj, probUniformCrossoverObj\n",
    "\n",
    "from ipywidgets import Text, ToggleButton, ToggleButtons, FloatSlider, HBox, Label, VBox\n",
    "from ipywidgets import IntSlider, Layout, Button, AppLayout, IntProgress, Box, Textarea\n",
    "\n",
    "import time\n",
    "import matplotlib.pyplot as plt\n",
    "import pandas as pd"
   ]
  },
  {
   "cell_type": "code",
   "execution_count": 60,
   "metadata": {},
   "outputs": [],
   "source": [
    "def initButton(desc, color, width, height):\n",
    "    return ToggleButton(description = desc, disabled = False, button_style = color, \n",
    "                        layout = Layout(width = width, height = height))\n",
    "\n",
    "def initHbox(text, maximum, step, val):\n",
    "    return HBox([\n",
    "        Label(text, layout = Layout(width = '22%')), \n",
    "        IntSlider(min = 0, max = maximum, step = step, value = val, layout = Layout(width = '50%'))])\n",
    "\n",
    "\n",
    "def initFloatHbox(text, maximum, step, val):\n",
    "    return HBox([\n",
    "        Label(text, layout = Layout(width = '22%')), \n",
    "        FloatSlider(min = 0, max = maximum, step = step, value = val, layout = Layout(width = '50%'))])"
   ]
  },
  {
   "cell_type": "markdown",
   "metadata": {},
   "source": [
    "#### Konfiguracja"
   ]
  },
  {
   "cell_type": "code",
   "execution_count": 61,
   "metadata": {},
   "outputs": [],
   "source": [
    "def initConfPanel():\n",
    "    global populationSl, bitsSl, epochSl\n",
    "    confHeader = initButton('Konfiguracja', 'danger', '72%', '50px')\n",
    "    populationSl = initHbox('Liczba osobników populacji', 200, 1, 20)\n",
    "    bitsSl = initHbox('Dokłandność chromosomów', 20, 1, 8)\n",
    "    epochSl = initHbox('Liczba epok', 500, 1, 100)\n",
    "\n",
    "    confSliders = Box(\n",
    "        children = [populationSl, bitsSl, epochSl], \n",
    "        layout = Layout(display = 'flex', flex_flow = 'column', padding = \"15px\")\n",
    "    )\n",
    "    return AppLayout(header = confHeader, center = confSliders)"
   ]
  },
  {
   "cell_type": "markdown",
   "metadata": {},
   "source": [
    "#### Operatory genetyczne"
   ]
  },
  {
   "cell_type": "code",
   "execution_count": 62,
   "metadata": {},
   "outputs": [],
   "source": [
    "def initGenPanel():\n",
    "    global selectionBtn, crossoverBtn, mutationBtn, selectionSl, crossoverSl, mutationSl\n",
    "    \n",
    "    genHeader = initButton('Operatory genetyczne', 'danger', '72%', '50px')\n",
    "\n",
    "    selectionBtn = ToggleButtons(\n",
    "        options = ['najlepszych', 'kołem ruletki', 'turniejowa', 'strategia elitarna'],\n",
    "        description = 'Selekcja: ', button_style = 'danger')\n",
    "\n",
    "    crossoverBtn = ToggleButtons(\n",
    "        options = ['jednopunktowe', 'dwupunktowe', 'trzypunktowe', 'jednorodne'],\n",
    "        description = 'Krzyżowanie: ', button_style = 'warning')\n",
    "\n",
    "    mutationBtn = ToggleButtons(\n",
    "        options = ['jednopunktowa', 'dwupunktowa', 'brzegowa'],\n",
    "        description = 'Mutacja: ', button_style = 'success')\n",
    "\n",
    "    selectionSl = initHbox('Procent osobników', 100, 1, 30) \n",
    "    crossoverSl = initFloatHbox('Prawdopodobieństwo krzyżowania', 1, 0.1, 0.9)\n",
    "    mutationSl = initFloatHbox('Prawdopodobieństwo mutacji', 1, 0.1, 0.2)\n",
    "\n",
    "    buttons = Box( children = [selectionBtn, crossoverBtn, mutationBtn], \n",
    "        layout = Layout(display = 'flex', flex_flow = 'column')\n",
    "    )\n",
    "    geneticSliders = Box(\n",
    "        children = [selectionSl, crossoverSl, mutationSl], \n",
    "        layout = Layout(display = 'flex', flex_flow = 'column', padding = \"15px\")\n",
    "    )\n",
    "    selectionBtn.observe(selectionBtnClicked, 'value')\n",
    "    box = Box(children = [buttons, geneticSliders], layout = Layout(display = 'flex', flex_flow = 'column'))\n",
    "    \n",
    "    return AppLayout(header = genHeader, center = box)"
   ]
  },
  {
   "cell_type": "markdown",
   "metadata": {},
   "source": [
    "#### Event listeners"
   ]
  },
  {
   "cell_type": "code",
   "execution_count": 63,
   "metadata": {},
   "outputs": [],
   "source": [
    "def updateSelectionSlider(minimum, text):\n",
    "    selectionSl.layout.display = 'block'\n",
    "    selectionSl.layout.display = 'flex'\n",
    "    selectionSl.layout.flex_flow = 'row'\n",
    "    selectionSl.children[1].min = minimum\n",
    "    selectionSl.children[0].value = text\n",
    "\n",
    "def selectionBtnClicked(change):\n",
    "    if change['new'] == 'najlepszych' or change['new'] == 'strategia elitarna':\n",
    "        updateSelectionSlider(0, 'Procent osobników')\n",
    "    if change['new'] == 'kołem ruletki':\n",
    "        selectionSl.layout.display = 'none'\n",
    "    if change['new'] == 'turniejowa':\n",
    "        updateSelectionSlider(1, 'Wielkość turnieju')\n",
    "    \n",
    "def incrementEpochProgress():\n",
    "    epochProgress.value += 1\n",
    "\n",
    "def startApp(change):\n",
    "    popSize = populationSl.children[1].value\n",
    "    chromoPrec = bitsSl.children[1].value\n",
    "    epoch = epochSl.children[1].value\n",
    "    selection = selectionBtn.value\n",
    "    crossover = crossoverBtn.value\n",
    "    mutation = mutationBtn.value\n",
    "    if selection != 'kołem ruletki':\n",
    "        selectionParam = selectionSl.children[1].value\n",
    "    else: \n",
    "        selectionParam = 0\n",
    "    crossoverProb = crossoverSl.children[1].value\n",
    "    mutationProb = mutationSl.children[1].value  \n",
    "    \n",
    "    app.children[0].layout.display = 'none'\n",
    "    app.children[1].layout = Layout()\n",
    "    epochProgress.max = epoch\n",
    "    \n",
    "    updateConfInfo(popSize, chromoPrec, epoch, selection, selectionParam, \n",
    "                   crossover, crossoverProb, mutation, mutationProb)\n",
    "    \n",
    "    # to delete !!!\n",
    "    for i in range(50):\n",
    "        time.sleep(0.1)\n",
    "        incrementEpochProgress()"
   ]
  },
  {
   "cell_type": "markdown",
   "metadata": {},
   "source": [
    "#### Panel konfiguracji parametrów"
   ]
  },
  {
   "cell_type": "code",
   "execution_count": 64,
   "metadata": {},
   "outputs": [],
   "source": [
    "def initFirstPanel():\n",
    "    global startBtn\n",
    "    \n",
    "    configLayout = initConfPanel()\n",
    "    geneticLayout = initGenPanel()\n",
    "    startBtn = initButton('Rozpocznij', 'success', '72%', '50px')\n",
    "    startBtn.observe(startApp, 'value')\n",
    "    \n",
    "    return Box(\n",
    "        children = [configLayout, geneticLayout, startBtn], \n",
    "        layout = Layout(display = 'flex', flex_flow = 'column'))"
   ]
  },
  {
   "cell_type": "markdown",
   "metadata": {},
   "source": [
    "#### Panel progresu epok"
   ]
  },
  {
   "cell_type": "code",
   "execution_count": 65,
   "metadata": {},
   "outputs": [],
   "source": [
    "def initProgressPanel():\n",
    "    global epochProgress\n",
    "    epochProgress = IntProgress(\n",
    "        value = 0, min = 0, max = 10, step = 1, description = 'Epoka:', \n",
    "        bar_style = '', layout = Layout(display = 'none'))\n",
    "    return epochProgress\n",
    "\n",
    "def updateTime(value):\n",
    "    timeOutput.children[1].value = value"
   ]
  },
  {
   "cell_type": "markdown",
   "metadata": {},
   "source": [
    "#### Panel wyników: czas obliczeń, wykresy, zapis do pliku"
   ]
  },
  {
   "cell_type": "code",
   "execution_count": 66,
   "metadata": {},
   "outputs": [],
   "source": [
    "def showPlot(data, ylabel):\n",
    "    plt.figure(figsize = (20, 30))\n",
    "    plt.plot(data, color = 'red')\n",
    "    plt.xlabel('Epoka')\n",
    "    plt.ylabel(ylabel)\n",
    "    plt.show()\n",
    "\n",
    "def showFirstPlot(value):\n",
    "    if value['new'] == True:\n",
    "        showPlot(getDataPlot1(), 'Wykres zależności wartości funkcji celu od kolejnej iteracji') # to change\n",
    "    boothFuncBtn.value = False\n",
    "\n",
    "def showSecondPlot(value):\n",
    "    if value['new'] == True:\n",
    "        showPlot(getDataPlot2(), 'Wykres zależności średniej wartości funkcji celu od kolejnej iteracji') # to change\n",
    "    meanBoothFuncBtn.value = False\n",
    "    \n",
    "def showThreePlot(value):\n",
    "    if value['new'] == True:\n",
    "        showPlot(getDataPlot3(), 'Wykres zależności odchylenia standardowego od kolejnej iteracji') # to change\n",
    "    stdBtn.value = False\n",
    "    \n",
    "global dataPlot1\n",
    "\n",
    "def setDataPlot1(newData):\n",
    "    global dataPlot1\n",
    "    dataPlot1 = newData\n",
    "\n",
    "def getDataPlot1():\n",
    "    global dataPlot1\n",
    "    return dataPlot1 if 'dataPlot1' in globals() else []\n",
    "\n",
    "global dataPlot2\n",
    "\n",
    "def setDataPlot2(newData):\n",
    "    global dataPlot2\n",
    "    dataPlot2 = newData\n",
    "\n",
    "def getDataPlot2():\n",
    "    global dataPlot2\n",
    "    return dataPlot2 if 'dataPlot2' in globals() else []\n",
    "\n",
    "global dataPlot3\n",
    "\n",
    "def setDataPlot3(newData):\n",
    "    global dataPlot3\n",
    "    dataPlot3 = newData\n",
    "\n",
    "def getDataPlot3():\n",
    "    global dataPlot3\n",
    "    return dataPlot3 if 'dataPlot3' in globals() else []"
   ]
  },
  {
   "cell_type": "code",
   "execution_count": 67,
   "metadata": {},
   "outputs": [],
   "source": [
    "def restartApp(change):\n",
    "    app.children[2].layout.display = 'none'\n",
    "    app.children[0].layout =  Layout(display = 'flex', flex_flow = 'column')\n",
    "    epochProgress.value = 0\n",
    "\n",
    "def ifFinished(change):\n",
    "    if change['new'] == epochProgress.max:\n",
    "        app.children[1].layout.display = 'none'\n",
    "        app.children[2].layout = Layout(display = 'flex', flex_flow = 'row')"
   ]
  },
  {
   "cell_type": "code",
   "execution_count": 73,
   "metadata": {},
   "outputs": [],
   "source": [
    "def saveFile(value):\n",
    "    if value['new'] == True:\n",
    "        results = { \n",
    "            'wartości funkcji celu' : getDataPlot1(),\n",
    "            'średnie wartości funkcji celu' : getDataPlot2(),\n",
    "            'odchylenie standardowe' : getDataPlot3(),\n",
    "        } \n",
    "        path = fileInput.children[1].value  \n",
    "        df = pd.DataFrame(results)\n",
    "        try:\n",
    "            df.to_csv(path)\n",
    "        except Exception as f:\n",
    "            f.write('an error message')\n",
    "    fileButton.value = False"
   ]
  },
  {
   "cell_type": "code",
   "execution_count": 171,
   "metadata": {},
   "outputs": [],
   "source": [
    "def initResultPanel():\n",
    "    global infoDesc, resultsArea, boothFuncBtn, meanBoothFuncBtn, stdBtn, fileInput, fileButton, returnBtn\n",
    "    \n",
    "    params = initButton('Wybrane parametry', '', '100%', '50px')\n",
    "    infoDesc = Textarea(\n",
    "        value = '', disabled = True, \n",
    "        layout = Layout(width = \"480px\", height = \"250px\")\n",
    "    )\n",
    "    \n",
    "    resultsHeader = initButton('Uzyskane rezultaty', '', '100%', '50px')\n",
    "    resultsArea = Textarea(\n",
    "        value = '', disabled = True, \n",
    "        layout = Layout(width = \"480px\", height = \"50px\")\n",
    "    )\n",
    "\n",
    "    boothFuncBtn = initButton('Wykres zależności wartości funkcji celu od kolejnej iteracji', 'danger', '100%', '') \n",
    "    meanBoothFuncBtn = initButton('Wykres zależności średniej wartości funkcji celu od kolejnej iteracji', 'danger', '100%', '')\n",
    "    stdBtn = initButton('Wykres zależności odchylenia standardowego od kolejnej iteracji', 'danger', '100%', '') \n",
    "    plotsBox = Box(children = [boothFuncBtn, meanBoothFuncBtn, stdBtn], \n",
    "        layout = Layout(display = 'flex', flex_flow = 'column', margin = \"10px\"))\n",
    "\n",
    "    fileInput = HBox([Label('Zapis do pliku:', layout = Layout(width = '180px')), \n",
    "        Text(value = '', placeholder = 'lokalizacja pliku', disabled = False, layout = Layout(width = '80%cd'))])\n",
    "    fileButton = initButton('Zapisz', 'warning', '20%', '')\n",
    "    fileBox = Box(children = [fileInput, fileButton], \n",
    "              layout = Layout(display = 'flex', flex_flow = 'row', margin = \"10px\"))\n",
    "\n",
    "    returnBtn = initButton('Skonfiguruj ustawienia algorytmu ponownie', 'success', '100%', '')\n",
    "    \n",
    "    left = VBox(children = [params, infoDesc])\n",
    "    right = VBox(children = [resultsHeader, resultsArea, plotsBox, fileBox, returnBtn])\n",
    "\n",
    "    boothFuncBtn.observe(showFirstPlot, 'value')\n",
    "    meanBoothFuncBtn.observe(showSecondPlot, 'value')\n",
    "    stdBtn.observe(showThreePlot, 'value')\n",
    "    returnBtn.observe(restartApp, 'value')\n",
    "    fileButton.observe(saveFile, 'value')\n",
    "    epochProgress.observe(ifFinished, 'value')\n",
    "\n",
    "    return Box([left, right], layout = Layout(display = 'none'))"
   ]
  },
  {
   "cell_type": "code",
   "execution_count": 166,
   "metadata": {},
   "outputs": [],
   "source": [
    "def updateConfInfo(popSize, prec, epoch, selection, selParam, crossover, crProb, mutation, mutProb):\n",
    "    out = 'Liczba osobników populacji: ' + str(popSize) + \\\n",
    "        '\\nDokładność reprezentacji chromosomów: ' + str(prec) + \\\n",
    "        '\\nLiczba epok: ' + str(epoch) + \\\n",
    "        '\\nSelekcja: ' + selection\n",
    "    if selection == 'najlepszych' or selection == 'strategia elitarna':\n",
    "        out += '\\nProcent osobników: ' + str(selParam)\n",
    "    if selection == 'turniejowa':\n",
    "        out += '\\nWielkość turnieju: ' + str(selParam)    \n",
    "    out += '\\nKrzyżowanie: ' + crossover + \\\n",
    "        '\\nPrawdopodobieństwo krzyżowania: ' + str(crProb) + \\\n",
    "        '\\nMutacja: ' + mutation + \\\n",
    "        '\\nPrawdopodobieństwo krzyżowania: ' + str(mutProb)\n",
    "\n",
    "    infoDesc.value = out\n",
    "    \n",
    "def updateResults(time, timeUnit, result):\n",
    "    resultsArea.value = 'Czas wykonania: ' + str(time) + ' ' + timeUnit + '\\nWynik: ' + str(result)"
   ]
  },
  {
   "cell_type": "code",
   "execution_count": 85,
   "metadata": {},
   "outputs": [],
   "source": [
    "def initApp(): \n",
    "    global app\n",
    "    app = Box(\n",
    "        children = [initFirstPanel(), initProgressPanel(), initResultPanel()], \n",
    "        layout = Layout(display = 'flex', flex_flow = 'column'))\n",
    "    return app"
   ]
  }
 ],
 "metadata": {
  "kernelspec": {
   "display_name": "Python 3",
   "language": "python",
   "name": "python3"
  },
  "language_info": {
   "codemirror_mode": {
    "name": "ipython",
    "version": 3
   },
   "file_extension": ".py",
   "mimetype": "text/x-python",
   "name": "python",
   "nbconvert_exporter": "python",
   "pygments_lexer": "ipython3",
   "version": "3.7.4"
  }
 },
 "nbformat": 4,
 "nbformat_minor": 2
}
