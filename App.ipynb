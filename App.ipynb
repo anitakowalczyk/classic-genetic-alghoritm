{
 "cells": [
  {
   "cell_type": "code",
   "execution_count": 596,
   "metadata": {
    "slideshow": {
     "slide_type": "-"
    }
   },
   "outputs": [],
   "source": [
    "# import sys\n",
    "# !pip install --prefix {sys.prefix} ipywidgets"
   ]
  },
  {
   "cell_type": "code",
   "execution_count": 1,
   "metadata": {},
   "outputs": [],
   "source": [
    "def initButton(desc, color, width, height):\n",
    "    return ToggleButton(description = desc, disabled = False, button_style = color, \n",
    "                        layout = Layout(width = width, height = height))\n",
    "\n",
    "def initHbox(text, maximum, step, val):\n",
    "    return HBox([\n",
    "        Label(text, layout = Layout(width = '22%')), \n",
    "        IntSlider(min = 0, max = maximum, step = step, value = val, layout = Layout(width = '50%'))])\n",
    "\n",
    "\n",
    "def initFloatHbox(text, maximum, step, val):\n",
    "    return HBox([\n",
    "        Label(text, layout = Layout(width = '22%')), \n",
    "        FloatSlider(min = 0, max = maximum, step = step, value = val, layout = Layout(width = '50%'))])"
   ]
  },
  {
   "cell_type": "markdown",
   "metadata": {},
   "source": [
    "#### Konfiguracja"
   ]
  },
  {
   "cell_type": "code",
   "execution_count": 2,
   "metadata": {},
   "outputs": [],
   "source": [
    "def initConfPanel():\n",
    "    global populationSl, bitsSl, epochSl\n",
    "    confHeader = initButton('Konfiguracja', 'danger', '72%', '50px')\n",
    "    populationSl = initHbox('Liczba osobników populacji', 200, 1, 20)\n",
    "    bitsSl = initHbox('Dokłandność chromosomów', 20, 1, 8)\n",
    "    epochSl = initHbox('Liczba epok', 500, 1, 100)\n",
    "\n",
    "    confSliders = Box(\n",
    "        children = [populationSl, bitsSl, epochSl], \n",
    "        layout = Layout(display = 'flex', flex_flow = 'column', padding = \"15px\")\n",
    "    )\n",
    "    return AppLayout(header = confHeader, center = confSliders)"
   ]
  },
  {
   "cell_type": "markdown",
   "metadata": {},
   "source": [
    "#### Operatory genetyczne"
   ]
  },
  {
   "cell_type": "code",
   "execution_count": 3,
   "metadata": {},
   "outputs": [],
   "source": [
    "def initGenPanel():\n",
    "    global selectionBtn, crossoverBtn, mutationBtn, selectionSl, crossoverSl, mutationSl\n",
    "    \n",
    "    genHeader = initButton('Operatory genetyczne', 'danger', '72%', '50px')\n",
    "\n",
    "    selectionBtn = ToggleButtons(\n",
    "        options = ['najlepszych', 'kołem ruletki', 'turniejowa', 'strategia elitarna'],\n",
    "        description = 'Selekcja: ', button_style = 'danger')\n",
    "\n",
    "    crossoverBtn = ToggleButtons(\n",
    "        options = ['jednopunktowe', 'dwupunktowe', 'trzypunktowe', 'jednorodne'],\n",
    "        description = 'Krzyżowanie: ', button_style = 'warning')\n",
    "\n",
    "    mutationBtn = ToggleButtons(\n",
    "        options = ['jednopunktowa', 'dwupunktowa', 'brzegowa'],\n",
    "        description = 'Mutacja: ', button_style = 'success')\n",
    "\n",
    "    selectionSl = initHbox('Procent osobników', 100, 1, 30) \n",
    "    crossoverSl = initFloatHbox('Prawdopodobieństwo krzyżowania', 1, 0.1, 0.9)\n",
    "    mutationSl = initFloatHbox('Prawdopodobieństwo mutacji', 1, 0.1, 0.2)\n",
    "\n",
    "    buttons = Box(\n",
    "        children = [selectionBtn, crossoverBtn, mutationBtn], \n",
    "        layout = Layout(display = 'flex', flex_flow = 'column')\n",
    "    )\n",
    "    geneticSliders = Box(\n",
    "        children = [selectionSl, crossoverSl, mutationSl], \n",
    "        layout = Layout(display = 'flex', flex_flow = 'column', padding = \"15px\")\n",
    "    )\n",
    "    selectionBtn.observe(selectionBtnClicked, 'value')\n",
    "    box = Box(children = [buttons, geneticSliders], layout = Layout(display = 'flex', flex_flow = 'column'))\n",
    "    \n",
    "    return AppLayout(header = genHeader, center = box)"
   ]
  },
  {
   "cell_type": "markdown",
   "metadata": {},
   "source": [
    "#### Event listeners"
   ]
  },
  {
   "cell_type": "code",
   "execution_count": 4,
   "metadata": {},
   "outputs": [],
   "source": [
    "def incrementEpochProgress():\n",
    "    epochProgress.value += 1\n",
    "    \n",
    "def updateSelectionSlider(minimum, text):\n",
    "    selectionSl.layout.display = 'block'\n",
    "    selectionSl.layout.display = 'flex'\n",
    "    selectionSl.layout.flex_flow = 'row'\n",
    "    selectionSl.children[1].min = minimum\n",
    "    selectionSl.children[0].value = text\n",
    "\n",
    "def selectionBtnClicked(change):\n",
    "    if change['new'] == 'najlepszych' or change['new'] == 'strategia elitarna':\n",
    "        updateSelectionSlider(0, 'Procent osobników')\n",
    "    if change['new'] == 'kołem ruletki':\n",
    "        selectionSl.layout.display = 'none'\n",
    "    if change['new'] == 'turniejowa':\n",
    "        updateSelectionSlider(1, 'Wielkość turnieju')\n",
    "\n",
    "def startApp(change):\n",
    "    popSize = populationSl.children[1].value\n",
    "    chromoBits = bitsSl.children[1].value\n",
    "    epoch = epochSl.children[1].value\n",
    "    selection = selectionBtn.value\n",
    "    crossover = crossoverBtn.value\n",
    "    mutation = mutationBtn.value\n",
    "    if selection != 'kołem ruletki':\n",
    "        selectionParam = selectionSl.children[1].value\n",
    "    crossoverProb = crossoverSl.children[1].value\n",
    "    mutationProb = mutationSl.children[1].value  \n",
    "    \n",
    "    app.children[0].layout.display = 'none'\n",
    "    app.children[1].layout = Layout()\n",
    "    epochProgress.max = epoch\n",
    "    \n",
    "    for i in range(epoch):\n",
    "        time.sleep(0.1)\n",
    "        incrementEpochProgress()"
   ]
  },
  {
   "cell_type": "markdown",
   "metadata": {},
   "source": [
    "#### Panel konfiguracji parametrów"
   ]
  },
  {
   "cell_type": "code",
   "execution_count": 5,
   "metadata": {},
   "outputs": [],
   "source": [
    "def initFirstPanel():\n",
    "    global startBtn\n",
    "    \n",
    "    configLayout = initConfPanel()\n",
    "    geneticLayout = initGenPanel()\n",
    "    startBtn = initButton('Rozpocznij', 'success', '72%', '50px')\n",
    "    startBtn.observe(startApp, 'value')\n",
    "    \n",
    "    return Box(\n",
    "        children = [configLayout, geneticLayout, startBtn], \n",
    "        layout = Layout(display = 'flex', flex_flow = 'column'))"
   ]
  },
  {
   "cell_type": "markdown",
   "metadata": {},
   "source": [
    "#### Panel progresu epok"
   ]
  },
  {
   "cell_type": "code",
   "execution_count": 6,
   "metadata": {},
   "outputs": [],
   "source": [
    "def initProgressPanel():\n",
    "    global epochProgress\n",
    "    epochProgress = IntProgress(\n",
    "        value = 0, min = 0, max = 10, step = 1, description = 'Epoka:', \n",
    "        bar_style = '', layout = Layout(display = 'none'))\n",
    "    return epochProgress"
   ]
  },
  {
   "cell_type": "markdown",
   "metadata": {},
   "source": [
    "#### Panel wyników: czas obliczeń, wykresy, zapis do pliku"
   ]
  },
  {
   "cell_type": "code",
   "execution_count": 7,
   "metadata": {},
   "outputs": [],
   "source": [
    "def updateTime(value):\n",
    "    timeOutput.children[1].value = value\n",
    "\n",
    "def showPlot():\n",
    "    pyplot.figure()\n",
    "    pyplot.plot([0, 1, 2, 3, 4], [0, 3, 5, 9, 11])\n",
    "    pyplot.xlabel('Months')\n",
    "    pyplot.ylabel('Books Read')\n",
    "    pyplot.show()\n",
    "\n",
    "def showFirstPlot(value):\n",
    "    if value['new'] == True:\n",
    "        showPlot() # to change\n",
    "    boothFuncBtn.value = False\n",
    "\n",
    "def showSecondPlot(value):\n",
    "    if value['new'] == True:\n",
    "        showPlot() # to change\n",
    "    meanBoothFuncBtn.value = False\n",
    "    \n",
    "def showThreePlot(value):\n",
    "    if value['new'] == True:\n",
    "        showPlot() # to change\n",
    "    stdBtn.value = False\n",
    "\n",
    "def restartApp(change):\n",
    "    app.children[2].layout.display = 'none'\n",
    "    app.children[0].layout =  Layout(display = 'flex', flex_flow = 'column')\n",
    "    epochProgress.value = 0\n",
    "\n",
    "def ifFinished(change):\n",
    "    if change['new'] == epochProgress.max:\n",
    "        app.children[1].layout.display = 'none'\n",
    "        app.children[2].layout = Layout(display = 'flex', flex_flow = 'column')"
   ]
  },
  {
   "cell_type": "code",
   "execution_count": 8,
   "metadata": {},
   "outputs": [],
   "source": [
    "def initResultPanel():\n",
    "    global timeOutput, boothFuncBtn, meanBoothFuncBtn, stdBtn, fileInput, fileButton, returnBtn\n",
    "    timeOutput = HBox([\n",
    "        Label('Czas obliczeń: ', layout = Layout(width = '100px')), \n",
    "        Label('00.00 sek', layout = Layout(width = '100px'))])\n",
    "\n",
    "    boothFuncBtn = initButton('Wykres zależności wartości funkcji celu od kolejnej iteracji', 'danger', '50%', '') \n",
    "    meanBoothFuncBtn = initButton('Wykres zależności średniej wartości funkcji celu od kolejnej iteracji', 'danger', '50%', '')\n",
    "    stdBtn = initButton('Wykres zależności odchylenia standardowego od kolejnej iteracji', 'danger', '50%', '') \n",
    "    plotsBox = Box(children = [boothFuncBtn, meanBoothFuncBtn, stdBtn], \n",
    "        layout = Layout(display = 'flex', flex_flow = 'column', margin = \"10px\"))\n",
    "\n",
    "    fileInput = HBox([Label('Zapis wyników do pliku:', layout = Layout(width = '200px')), \n",
    "        Text(value = '', placeholder = 'lokalizacja pliku', disabled = False, layout = Layout(width = '80%'))])\n",
    "    fileButton = initButton('Zapisz', 'warning', '11%', '')\n",
    "    fileBox = Box(children = [fileInput, fileButton], \n",
    "              layout = Layout(display = 'flex', flex_flow = 'row', margin = \"10px\"))\n",
    "\n",
    "    returnBtn = initButton('Skonfiguruj ustawienia algorytmu ponownie', 'success', '50%', '')\n",
    "\n",
    "    boothFuncBtn.observe(showFirstPlot, 'value')\n",
    "    meanBoothFuncBtn.observe(showSecondPlot, 'value')\n",
    "    stdBtn.observe(showThreePlot, 'value')\n",
    "    returnBtn.observe(restartApp, 'value')\n",
    "    epochProgress.observe(ifFinished, 'value')\n",
    "\n",
    "    return Box(children = [timeOutput, plotsBox, fileBox, returnBtn], layout = Layout(display = 'none'))"
   ]
  },
  {
   "cell_type": "code",
   "execution_count": 9,
   "metadata": {},
   "outputs": [],
   "source": [
    "def initApp(): \n",
    "    global app\n",
    "    app = Box(\n",
    "        children = [initFirstPanel(), initProgressPanel(), initResultPanel()], \n",
    "        layout = Layout(display = 'flex', flex_flow = 'column'))\n",
    "    return app"
   ]
  },
  {
   "cell_type": "code",
   "execution_count": null,
   "metadata": {},
   "outputs": [],
   "source": []
  },
  {
   "cell_type": "code",
   "execution_count": null,
   "metadata": {},
   "outputs": [],
   "source": []
  }
 ],
 "metadata": {
  "kernelspec": {
   "display_name": "Python 3",
   "language": "python",
   "name": "python3"
  },
  "language_info": {
   "codemirror_mode": {
    "name": "ipython",
    "version": 3
   },
   "file_extension": ".py",
   "mimetype": "text/x-python",
   "name": "python",
   "nbconvert_exporter": "python",
   "pygments_lexer": "ipython3",
   "version": "3.7.4"
  }
 },
 "nbformat": 4,
 "nbformat_minor": 2
}
