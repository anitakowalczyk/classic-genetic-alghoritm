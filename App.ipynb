{
 "cells": [
  {
   "cell_type": "code",
   "execution_count": 596,
   "metadata": {},
   "outputs": [],
   "source": [
    "# import sys\n",
    "# !pip install --prefix {sys.prefix} ipywidgets"
   ]
  },
  {
   "cell_type": "code",
   "execution_count": 1,
   "metadata": {},
   "outputs": [],
   "source": [
    "from ipywidgets import Text, ToggleButton, ToggleButtons, FloatSlider, HBox, Label\n",
    "from ipywidgets import IntSlider, Layout, Button, Box, AppLayout, IntProgress\n",
    "import time"
   ]
  },
  {
   "cell_type": "markdown",
   "metadata": {},
   "source": [
    "#### Nagłówek: konfiguracja"
   ]
  },
  {
   "cell_type": "code",
   "execution_count": 75,
   "metadata": {},
   "outputs": [],
   "source": [
    "confHeader = ToggleButton(\n",
    "    description = 'Konfiguracja',\n",
    "    disabled = False,\n",
    "    button_style = 'danger', \n",
    "    layout = Layout(width = '72%', height = '50px')\n",
    ")"
   ]
  },
  {
   "cell_type": "markdown",
   "metadata": {},
   "source": [
    "#### Slidery: wielkość populacji, ilość bitów, liczba epok"
   ]
  },
  {
   "cell_type": "code",
   "execution_count": 76,
   "metadata": {},
   "outputs": [],
   "source": [
    "populationSl = HBox([\n",
    "    Label(\n",
    "        'Liczba osobników populacji', \n",
    "        layout = Layout(width = '22%')), \n",
    "    IntSlider(\n",
    "        min = 0, max = 200, step = 1, value = 20, \n",
    "        layout = Layout(width = '50%'),\n",
    "    )\n",
    "])\n",
    "\n",
    "bitsSl = HBox([\n",
    "    Label(\n",
    "        'Dokłandność chromosomów', \n",
    "        layout = Layout(width = '22%')), \n",
    "    IntSlider(\n",
    "        min = 0, max = 20, step = 1, value = 8, \n",
    "        layout = Layout(width = '50%'),\n",
    "    )\n",
    "])\n",
    "\n",
    "epochSl = HBox([\n",
    "    Label(\n",
    "        'Liczba epok', \n",
    "        layout = Layout(width = '22%')), \n",
    "    IntSlider(\n",
    "        min = 0, max = 500, step = 1, value = 100, \n",
    "        layout = Layout(width = '50%'),\n",
    "    )\n",
    "])"
   ]
  },
  {
   "cell_type": "code",
   "execution_count": 77,
   "metadata": {},
   "outputs": [],
   "source": [
    "confSliders = Box(\n",
    "    children = [populationSl, bitsSl, epochSl], \n",
    "    layout = Layout(display = 'flex', flex_flow = 'column', padding = \"15px\")\n",
    ")\n",
    "configLayout = AppLayout(header = confHeader, center = confSliders)"
   ]
  },
  {
   "cell_type": "markdown",
   "metadata": {},
   "source": [
    "#### Nagłówek: operatory genetyczne"
   ]
  },
  {
   "cell_type": "code",
   "execution_count": 78,
   "metadata": {},
   "outputs": [],
   "source": [
    "genHeader = ToggleButton(\n",
    "    description = 'Operatory genetyczne',\n",
    "    disabled = False,\n",
    "    button_style = 'danger', \n",
    "    layout = Layout(width = '72%', height = '50px')\n",
    ")"
   ]
  },
  {
   "cell_type": "markdown",
   "metadata": {},
   "source": [
    "#### Przyciski: selekcja, krzyżowanie, mutacja"
   ]
  },
  {
   "cell_type": "code",
   "execution_count": 79,
   "metadata": {},
   "outputs": [],
   "source": [
    "selectionBtn = ToggleButtons(\n",
    "    options = ['najlepszych', 'kołem ruletki', 'turniejowa', 'strategia elitarna'],\n",
    "    description = 'Selekcja: ',\n",
    "    button_style = 'danger',\n",
    ")\n",
    "\n",
    "crossoverBtn = ToggleButtons(\n",
    "    options = ['jednopunktowe', 'dwupunktowe', 'trzypunktowe', 'jednorodne'],\n",
    "    description = 'Krzyżowanie: ',\n",
    "    button_style = 'warning',\n",
    ")\n",
    "\n",
    "mutationBtn = ToggleButtons(\n",
    "    options = ['jednopunktowa', 'dwupunktowa', 'brzegowa'],\n",
    "    description = 'Mutacja: ',\n",
    "    button_style = 'success',\n",
    ")"
   ]
  },
  {
   "cell_type": "markdown",
   "metadata": {},
   "source": [
    "#### Slidery: selekcja, krzyżowanie, mutacja"
   ]
  },
  {
   "cell_type": "code",
   "execution_count": 80,
   "metadata": {},
   "outputs": [],
   "source": [
    "selectionSl = HBox([\n",
    "    Label(\n",
    "        'Procent osobników', \n",
    "        layout = Layout(width = '22%')), \n",
    "    IntSlider(\n",
    "        min = 0, max = 100, step = 1, value = 30, \n",
    "        layout = Layout(width = '50%'), \n",
    "    )\n",
    "])\n",
    "\n",
    "crossoverSl = HBox([\n",
    "    Label(\n",
    "        'Prawdopodobieństwo krzyżowania', \n",
    "        layout = Layout(width = '22%')), \n",
    "    FloatSlider(\n",
    "        min = 0, max = 1, step = 0.1, value = 0.9, \n",
    "        layout = Layout(width = '50%'),\n",
    "    )\n",
    "])\n",
    "\n",
    "mutationSl = HBox([\n",
    "    Label(\n",
    "        'Prawdopodobieństwo mutacji', \n",
    "        layout = Layout(width = '22%')), \n",
    "    FloatSlider(\n",
    "        min = 0, max = 1, step = 0.1, value = 0.2, \n",
    "        layout = Layout(width = '50%'),\n",
    "    )\n",
    "])"
   ]
  },
  {
   "cell_type": "markdown",
   "metadata": {},
   "source": [
    "#### Layout: operatory genetyczne"
   ]
  },
  {
   "cell_type": "code",
   "execution_count": 81,
   "metadata": {},
   "outputs": [],
   "source": [
    "buttons = Box(\n",
    "    children = [selectionBtn, crossoverBtn, mutationBtn], \n",
    "    layout = Layout(display = 'flex', flex_flow = 'column')\n",
    ")\n",
    "geneticSliders = Box(\n",
    "    children = [selectionSl, crossoverSl, mutationSl], \n",
    "    layout = Layout(display = 'flex', flex_flow = 'column', padding = \"15px\")\n",
    ")\n",
    "box = Box(\n",
    "    children = [buttons, geneticSliders], \n",
    "    layout = Layout(display = 'flex', flex_flow = 'column')\n",
    ")\n",
    "\n",
    "geneticLayout = AppLayout(header = genHeader, center = box)"
   ]
  },
  {
   "cell_type": "code",
   "execution_count": 82,
   "metadata": {},
   "outputs": [],
   "source": [
    "startButton = ToggleButton(\n",
    "    description = 'Rozpocznij',\n",
    "    disabled = False,\n",
    "    button_style = 'success', \n",
    "    layout = Layout(width = '72%', height = '50px')\n",
    ")\n",
    "firstPanel = Box(\n",
    "    children = [configLayout, geneticLayout, startButton], \n",
    "    layout = Layout(display = 'flex', flex_flow = 'column')\n",
    ")"
   ]
  },
  {
   "cell_type": "code",
   "execution_count": 83,
   "metadata": {},
   "outputs": [],
   "source": [
    "epochProgress = IntProgress(\n",
    "    value = 0,\n",
    "    min = 0,\n",
    "    max = 10,\n",
    "    step = 1,\n",
    "    description = 'Epoka:',\n",
    "    bar_style = '',\n",
    "    layout = Layout(display = 'none')\n",
    ")"
   ]
  },
  {
   "cell_type": "code",
   "execution_count": null,
   "metadata": {},
   "outputs": [],
   "source": []
  },
  {
   "cell_type": "code",
   "execution_count": 84,
   "metadata": {},
   "outputs": [],
   "source": [
    "def incrementEpochProgress():\n",
    "    epochProgress.value += 1"
   ]
  },
  {
   "cell_type": "code",
   "execution_count": 85,
   "metadata": {},
   "outputs": [],
   "source": [
    "def updateSelectionSlider(minimum, text):\n",
    "    selectionSl.layout.display = 'block'\n",
    "    selectionSl.layout.display = 'flex'\n",
    "    selectionSl.layout.flex_flow = 'row'\n",
    "    selectionSl.children[1].min = minimum\n",
    "    selectionSl.children[0].value = text\n",
    "\n",
    "def selectionBtnClicked(change):\n",
    "    if change['new'] == 'najlepszych' or change['new'] == 'strategia elitarna':\n",
    "        updateSelectionSlider(0, 'Procent osobników')\n",
    "    if change['new'] == 'kołem ruletki':\n",
    "        selectionSl.layout.display = 'none'\n",
    "    if change['new'] == 'turniejowa':\n",
    "        updateSelectionSlider(1, 'Wielkość turnieju')\n",
    "\n",
    "selectionBtn.observe(selectionBtnClicked, 'value')"
   ]
  },
  {
   "cell_type": "code",
   "execution_count": 86,
   "metadata": {},
   "outputs": [],
   "source": [
    "def startApp(change):\n",
    "    popSize = populationSl.children[1].value\n",
    "    chromoBits = bitsSl.children[1].value\n",
    "    epoch = epochSl.children[1].value\n",
    "    selection = selectionBtn.value\n",
    "    crossover = crossoverBtn.value\n",
    "    mutation = mutationBtn.value\n",
    "    if selection != 'kołem ruletki':\n",
    "        selectionParam = selectionSl.children[1].value\n",
    "    crossoverProb = crossoverSl.children[1].value\n",
    "    mutationProb = mutationSl.children[1].value  \n",
    "    \n",
    "    app.children[0].layout.display = 'none'\n",
    "    app.children[1].layout = Layout()\n",
    "    epochProgress.max = epoch\n",
    "    \n",
    "    for i in range(epoch):\n",
    "        time.sleep(0.1)\n",
    "        incrementEpochProgress()\n",
    "    \n",
    "\n",
    "startButton.observe(startApp, 'value')"
   ]
  },
  {
   "cell_type": "code",
   "execution_count": null,
   "metadata": {},
   "outputs": [],
   "source": []
  },
  {
   "cell_type": "code",
   "execution_count": null,
   "metadata": {},
   "outputs": [],
   "source": []
  },
  {
   "cell_type": "markdown",
   "metadata": {},
   "source": [
    "#### Rezultaty: czas obliczeń, buttony do wyświetlenia wykresów, zapis wyników do pliku"
   ]
  },
  {
   "cell_type": "code",
   "execution_count": 87,
   "metadata": {},
   "outputs": [],
   "source": [
    "timeOutput = HBox([\n",
    "    Label(\n",
    "        'Czas obliczeń: ', \n",
    "        layout = Layout(width = '100px')), \n",
    "    Label(\n",
    "        '00.00 sek', \n",
    "        layout = Layout(width = '100px'))\n",
    "])"
   ]
  },
  {
   "cell_type": "code",
   "execution_count": 88,
   "metadata": {},
   "outputs": [],
   "source": [
    "boothFuncBtn = ToggleButton(\n",
    "    description = 'Wykres zależności wartości funkcji celu od kolejnej iteracji',\n",
    "    disabled = False,\n",
    "    value = False,\n",
    "    button_style = 'danger',\n",
    "    layout = Layout(width = '50%')\n",
    ")\n",
    "meanBoothFuncBtn = ToggleButton(\n",
    "    description = 'Wykres zależności średniej wartości funkcji celu od kolejnej iteracji',\n",
    "    disabled = False,\n",
    "    value = False,\n",
    "    button_style = 'danger',\n",
    "    layout = Layout(width = '50%')\n",
    ")\n",
    "stdBtn = ToggleButton(\n",
    "    description = 'Wykres zależności odchylenia standardowego od kolejnej iteracji',\n",
    "    disabled = False,\n",
    "    value = False,\n",
    "    button_style = 'danger',\n",
    "    layout = Layout(width = '50%')\n",
    ")"
   ]
  },
  {
   "cell_type": "code",
   "execution_count": 89,
   "metadata": {},
   "outputs": [],
   "source": [
    "plotsBox = Box(\n",
    "    children = [boothFuncBtn, meanBoothFuncBtn, stdBtn], \n",
    "    layout = Layout(display = 'flex', flex_flow = 'column', margin = \"10px\")\n",
    ")"
   ]
  },
  {
   "cell_type": "code",
   "execution_count": 90,
   "metadata": {},
   "outputs": [],
   "source": [
    "fileInput = HBox([\n",
    "    Label(\n",
    "        'Zapis wyników do pliku:', \n",
    "        layout = Layout(width = '200px')), \n",
    "    Text(\n",
    "        value = '',\n",
    "        placeholder = 'lokalizacja pliku',\n",
    "        disabled = False,\n",
    "        layout = Layout(width = '80%')\n",
    "    )\n",
    "])\n",
    "\n",
    "fileButton = ToggleButton(\n",
    "    description = 'Zapisz',\n",
    "    button_style = 'warning',\n",
    "    disabled = False,\n",
    "    layout = Layout(width = '11%')\n",
    ")"
   ]
  },
  {
   "cell_type": "code",
   "execution_count": 91,
   "metadata": {},
   "outputs": [],
   "source": [
    "returnBtn = ToggleButton(\n",
    "    description = 'Skonfiguruj ustawienia algorytmu ponownie',\n",
    "    disabled = False,\n",
    "    button_style = 'success',\n",
    "    layout = Layout(width = '50%')\n",
    ")"
   ]
  },
  {
   "cell_type": "code",
   "execution_count": 92,
   "metadata": {},
   "outputs": [],
   "source": [
    "fileBox = Box(\n",
    "    children = [fileInput, fileButton], \n",
    "    layout = Layout(display = 'flex', flex_flow = 'row', margin = \"10px\")\n",
    ")"
   ]
  },
  {
   "cell_type": "code",
   "execution_count": 93,
   "metadata": {},
   "outputs": [],
   "source": [
    "outputBox = Box(\n",
    "    children = [timeOutput, plotsBox, fileBox, returnBtn], \n",
    "    layout = Layout(display = 'none')\n",
    ")"
   ]
  },
  {
   "cell_type": "code",
   "execution_count": 94,
   "metadata": {},
   "outputs": [],
   "source": [
    "def updateTime(value):\n",
    "    timeOutput.children[1].value = value\n",
    "\n",
    "updateTime('120.50 ms')"
   ]
  },
  {
   "cell_type": "code",
   "execution_count": 95,
   "metadata": {},
   "outputs": [],
   "source": [
    "def showPlot():\n",
    "    plt.figure()\n",
    "    plt.plot([0, 1, 2, 3, 4], [0, 3, 5, 9, 11])\n",
    "    plt.xlabel('Months')\n",
    "    plt.ylabel('Books Read')\n",
    "    plt.show()\n",
    "\n",
    "def showFirstPlot(value):\n",
    "    if value['new'] == True:\n",
    "        showPlot() # to change\n",
    "    boothFuncBtn.value = False\n",
    "\n",
    "def showSecondPlot(value):\n",
    "    if value['new'] == True:\n",
    "        showPlot() # to change\n",
    "    meanBoothFuncBtn.value = False\n",
    "    \n",
    "def showThreePlot(value):\n",
    "    if value['new'] == True:\n",
    "        showPlot() # to change\n",
    "    stdBtn.value = False"
   ]
  },
  {
   "cell_type": "code",
   "execution_count": 96,
   "metadata": {},
   "outputs": [],
   "source": [
    "%matplotlib qt\n",
    "import matplotlib.pyplot as plt\n",
    "\n",
    "boothFuncBtn.observe(showFirstPlot, 'value')\n",
    "meanBoothFuncBtn.observe(showSecondPlot, 'value')\n",
    "stdBtn.observe(showThreePlot, 'value')"
   ]
  },
  {
   "cell_type": "code",
   "execution_count": null,
   "metadata": {},
   "outputs": [],
   "source": []
  },
  {
   "cell_type": "code",
   "execution_count": 97,
   "metadata": {},
   "outputs": [],
   "source": [
    "def restartApp(change):\n",
    "    app.children[2].layout.display = 'none'\n",
    "    app.children[0].layout =  Layout(display = 'flex', flex_flow = 'column')\n",
    "    epochProgress.value = 0\n",
    "    \n",
    "\n",
    "returnBtn.observe(restartApp, 'value')"
   ]
  },
  {
   "cell_type": "code",
   "execution_count": 98,
   "metadata": {},
   "outputs": [],
   "source": [
    "def ifFinished(change):\n",
    "    if change['new'] == epochProgress.max:\n",
    "        app.children[1].layout.display = 'none'\n",
    "        app.children[2].layout = Layout(display = 'flex', flex_flow = 'column')\n",
    "\n",
    "epochProgress.observe(ifFinished, 'value')"
   ]
  },
  {
   "cell_type": "code",
   "execution_count": 99,
   "metadata": {},
   "outputs": [],
   "source": [
    "app = Box(\n",
    "    children = [firstPanel, epochProgress, outputBox], \n",
    "    layout = Layout(display = 'flex', flex_flow = 'column')\n",
    ")"
   ]
  },
  {
   "cell_type": "code",
   "execution_count": 101,
   "metadata": {},
   "outputs": [
    {
     "data": {
      "application/vnd.jupyter.widget-view+json": {
       "model_id": "ed64877456ef4e53a84b374714b7ea64",
       "version_major": 2,
       "version_minor": 0
      },
      "text/plain": [
       "Box(children=(Box(children=(AppLayout(children=(ToggleButton(value=False, button_style='danger', description='…"
      ]
     },
     "metadata": {},
     "output_type": "display_data"
    }
   ],
   "source": [
    "app"
   ]
  },
  {
   "cell_type": "code",
   "execution_count": null,
   "metadata": {},
   "outputs": [],
   "source": []
  },
  {
   "cell_type": "code",
   "execution_count": null,
   "metadata": {},
   "outputs": [],
   "source": []
  },
  {
   "cell_type": "code",
   "execution_count": null,
   "metadata": {},
   "outputs": [],
   "source": []
  }
 ],
 "metadata": {
  "kernelspec": {
   "display_name": "Python 3",
   "language": "python",
   "name": "python3"
  },
  "language_info": {
   "codemirror_mode": {
    "name": "ipython",
    "version": 3
   },
   "file_extension": ".py",
   "mimetype": "text/x-python",
   "name": "python",
   "nbconvert_exporter": "python",
   "pygments_lexer": "ipython3",
   "version": "3.7.4"
  }
 },
 "nbformat": 4,
 "nbformat_minor": 2
}
