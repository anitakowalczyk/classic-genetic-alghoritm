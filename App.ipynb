{
 "cells": [
  {
   "cell_type": "code",
<<<<<<< HEAD
   "execution_count": 1,
   "metadata": {},
=======
   "execution_count": 596,
   "metadata": {
    "slideshow": {
     "slide_type": "-"
    }
   },
>>>>>>> 8044ae1cd5ebc9fa4168225f5e02cf10f70c1882
   "outputs": [],
   "source": [
    "# import sys\n",
    "# !pip install --prefix {sys.prefix} ipywidgets"
   ]
  },
  {
   "cell_type": "code",
<<<<<<< HEAD
   "execution_count": 2,
=======
   "execution_count": 1,
>>>>>>> 8c289e41907c5d6cd8dcfe6d39682996a749b1b6
   "metadata": {},
   "outputs": [],
   "source": [
<<<<<<< HEAD
    "from ipywidgets import Text, ToggleButton, ToggleButtons, FloatSlider, HBox, Label\n",
    "from ipywidgets import IntSlider, Layout, Button, Box, AppLayout, IntProgress\n",
    "import time"
   ]
  },
  {
   "cell_type": "markdown",
   "metadata": {},
   "source": [
    "#### Nagłówek: konfiguracja"
   ]
  },
  {
   "cell_type": "code",
<<<<<<< HEAD
   "execution_count": 3,
=======
   "execution_count": 75,
>>>>>>> 8c289e41907c5d6cd8dcfe6d39682996a749b1b6
   "metadata": {},
   "outputs": [],
   "source": [
    "confHeader = ToggleButton(\n",
    "    description = 'Konfiguracja',\n",
    "    disabled = False,\n",
    "    button_style = 'danger', \n",
    "    layout = Layout(width = '72%', height = '50px')\n",
    ")"
   ]
  },
  {
   "cell_type": "markdown",
   "metadata": {},
   "source": [
    "#### Slidery: wielkość populacji, ilość bitów, liczba epok"
   ]
  },
  {
   "cell_type": "code",
<<<<<<< HEAD
   "execution_count": 4,
=======
   "execution_count": 76,
>>>>>>> 8c289e41907c5d6cd8dcfe6d39682996a749b1b6
   "metadata": {},
   "outputs": [],
   "source": [
    "populationSl = HBox([\n",
    "    Label(\n",
    "        'Liczba osobników populacji', \n",
    "        layout = Layout(width = '22%')), \n",
    "    IntSlider(\n",
    "        min = 0, max = 200, step = 1, value = 20, \n",
    "        layout = Layout(width = '50%'),\n",
    "    )\n",
    "])\n",
=======
    "def initButton(desc, color, width, height):\n",
    "    return ToggleButton(description = desc, disabled = False, button_style = color, \n",
    "                        layout = Layout(width = width, height = height))\n",
>>>>>>> 8044ae1cd5ebc9fa4168225f5e02cf10f70c1882
    "\n",
    "def initHbox(text, maximum, step, val):\n",
    "    return HBox([\n",
    "        Label(text, layout = Layout(width = '22%')), \n",
    "        IntSlider(min = 0, max = maximum, step = step, value = val, layout = Layout(width = '50%'))])\n",
    "\n",
<<<<<<< HEAD
    "epochSl = HBox([\n",
    "    Label(\n",
    "        'Liczba epok', \n",
    "        layout = Layout(width = '22%')), \n",
    "    IntSlider(\n",
    "        min = 0, max = 500, step = 1, value = 100, \n",
    "        layout = Layout(width = '50%'),\n",
    "    )\n",
    "])"
   ]
  },
  {
   "cell_type": "code",
<<<<<<< HEAD
   "execution_count": 5,
=======
   "execution_count": 77,
>>>>>>> 8c289e41907c5d6cd8dcfe6d39682996a749b1b6
   "metadata": {},
   "outputs": [],
   "source": [
    "confSliders = Box(\n",
    "    children = [populationSl, bitsSl, epochSl], \n",
    "    layout = Layout(display = 'flex', flex_flow = 'column', padding = \"15px\")\n",
    ")\n",
    "configLayout = AppLayout(header = confHeader, center = confSliders)"
=======
    "\n",
    "def initFloatHbox(text, maximum, step, val):\n",
    "    return HBox([\n",
    "        Label(text, layout = Layout(width = '22%')), \n",
    "        FloatSlider(min = 0, max = maximum, step = step, value = val, layout = Layout(width = '50%'))])"
>>>>>>> 8044ae1cd5ebc9fa4168225f5e02cf10f70c1882
   ]
  },
  {
   "cell_type": "markdown",
   "metadata": {},
   "source": [
    "#### Konfiguracja"
   ]
  },
  {
   "cell_type": "code",
<<<<<<< HEAD
<<<<<<< HEAD
   "execution_count": 6,
=======
   "execution_count": 78,
>>>>>>> 8c289e41907c5d6cd8dcfe6d39682996a749b1b6
=======
   "execution_count": 2,
>>>>>>> 8044ae1cd5ebc9fa4168225f5e02cf10f70c1882
   "metadata": {},
   "outputs": [],
   "source": [
    "def initConfPanel():\n",
    "    global populationSl, bitsSl, epochSl\n",
    "    confHeader = initButton('Konfiguracja', 'danger', '72%', '50px')\n",
    "    populationSl = initHbox('Liczba osobników populacji', 200, 1, 20)\n",
    "    bitsSl = initHbox('Dokłandność chromosomów', 20, 1, 8)\n",
    "    epochSl = initHbox('Liczba epok', 500, 1, 100)\n",
    "\n",
    "    confSliders = Box(\n",
    "        children = [populationSl, bitsSl, epochSl], \n",
    "        layout = Layout(display = 'flex', flex_flow = 'column', padding = \"15px\")\n",
    "    )\n",
    "    return AppLayout(header = confHeader, center = confSliders)"
   ]
  },
  {
   "cell_type": "markdown",
   "metadata": {},
   "source": [
    "#### Operatory genetyczne"
   ]
  },
  {
   "cell_type": "code",
<<<<<<< HEAD
<<<<<<< HEAD
   "execution_count": 7,
=======
   "execution_count": 79,
>>>>>>> 8c289e41907c5d6cd8dcfe6d39682996a749b1b6
=======
   "execution_count": 3,
>>>>>>> 8044ae1cd5ebc9fa4168225f5e02cf10f70c1882
   "metadata": {},
   "outputs": [],
   "source": [
    "def initGenPanel():\n",
    "    global selectionBtn, crossoverBtn, mutationBtn, selectionSl, crossoverSl, mutationSl\n",
    "    \n",
    "    genHeader = initButton('Operatory genetyczne', 'danger', '72%', '50px')\n",
    "\n",
    "    selectionBtn = ToggleButtons(\n",
    "        options = ['najlepszych', 'kołem ruletki', 'turniejowa', 'strategia elitarna'],\n",
    "        description = 'Selekcja: ', button_style = 'danger')\n",
    "\n",
<<<<<<< HEAD
    "mutationBtn = ToggleButtons(\n",
    "    options = ['jednopunktowa', 'dwupunktowa', 'brzegowa'],\n",
    "    description = 'Mutacja: ',\n",
    "    button_style = 'success',\n",
    ")"
   ]
  },
  {
   "cell_type": "markdown",
   "metadata": {},
   "source": [
    "#### Slidery: selekcja, krzyżowanie, mutacja"
   ]
  },
  {
   "cell_type": "code",
<<<<<<< HEAD
   "execution_count": 8,
=======
   "execution_count": 80,
>>>>>>> 8c289e41907c5d6cd8dcfe6d39682996a749b1b6
   "metadata": {},
   "outputs": [],
   "source": [
    "selectionSl = HBox([\n",
    "    Label(\n",
    "        'Procent osobników', \n",
    "        layout = Layout(width = '22%')), \n",
    "    IntSlider(\n",
    "        min = 0, max = 100, step = 1, value = 30, \n",
    "        layout = Layout(width = '50%'), \n",
    "    )\n",
    "])\n",
=======
    "    crossoverBtn = ToggleButtons(\n",
    "        options = ['jednopunktowe', 'dwupunktowe', 'trzypunktowe', 'jednorodne'],\n",
    "        description = 'Krzyżowanie: ', button_style = 'warning')\n",
>>>>>>> 8044ae1cd5ebc9fa4168225f5e02cf10f70c1882
    "\n",
    "    mutationBtn = ToggleButtons(\n",
    "        options = ['jednopunktowa', 'dwupunktowa', 'brzegowa'],\n",
    "        description = 'Mutacja: ', button_style = 'success')\n",
    "\n",
    "    selectionSl = initHbox('Procent osobników', 100, 1, 30) \n",
    "    crossoverSl = initFloatHbox('Prawdopodobieństwo krzyżowania', 1, 0.1, 0.9)\n",
    "    mutationSl = initFloatHbox('Prawdopodobieństwo mutacji', 1, 0.1, 0.2)\n",
    "\n",
    "    buttons = Box(\n",
    "        children = [selectionBtn, crossoverBtn, mutationBtn], \n",
    "        layout = Layout(display = 'flex', flex_flow = 'column')\n",
    "    )\n",
    "    geneticSliders = Box(\n",
    "        children = [selectionSl, crossoverSl, mutationSl], \n",
    "        layout = Layout(display = 'flex', flex_flow = 'column', padding = \"15px\")\n",
    "    )\n",
    "    selectionBtn.observe(selectionBtnClicked, 'value')\n",
    "    box = Box(children = [buttons, geneticSliders], layout = Layout(display = 'flex', flex_flow = 'column'))\n",
    "    \n",
    "    return AppLayout(header = genHeader, center = box)"
   ]
  },
  {
   "cell_type": "markdown",
   "metadata": {},
   "source": [
<<<<<<< HEAD
    "#### Layout: operatory genetyczne"
   ]
  },
  {
   "cell_type": "code",
<<<<<<< HEAD
   "execution_count": 9,
=======
   "execution_count": 81,
>>>>>>> 8c289e41907c5d6cd8dcfe6d39682996a749b1b6
   "metadata": {},
   "outputs": [],
   "source": [
    "buttons = Box(\n",
    "    children = [selectionBtn, crossoverBtn, mutationBtn], \n",
    "    layout = Layout(display = 'flex', flex_flow = 'column')\n",
    ")\n",
    "geneticSliders = Box(\n",
    "    children = [selectionSl, crossoverSl, mutationSl], \n",
    "    layout = Layout(display = 'flex', flex_flow = 'column', padding = \"15px\")\n",
    ")\n",
    "box = Box(\n",
    "    children = [buttons, geneticSliders], \n",
    "    layout = Layout(display = 'flex', flex_flow = 'column')\n",
    ")\n",
    "\n",
    "geneticLayout = AppLayout(header = genHeader, center = box)"
=======
    "#### Event listeners"
>>>>>>> 8044ae1cd5ebc9fa4168225f5e02cf10f70c1882
   ]
  },
  {
   "cell_type": "code",
<<<<<<< HEAD
<<<<<<< HEAD
   "execution_count": 10,
=======
   "execution_count": 82,
>>>>>>> 8c289e41907c5d6cd8dcfe6d39682996a749b1b6
   "metadata": {},
   "outputs": [],
   "source": [
    "startButton = ToggleButton(\n",
    "    description = 'Rozpocznij',\n",
    "    disabled = False,\n",
    "    button_style = 'success', \n",
    "    layout = Layout(width = '72%', height = '50px')\n",
    ")\n",
    "firstPanel = Box(\n",
    "    children = [configLayout, geneticLayout, startButton], \n",
    "    layout = Layout(display = 'flex', flex_flow = 'column')\n",
    ")"
   ]
  },
  {
   "cell_type": "code",
<<<<<<< HEAD
   "execution_count": 11,
=======
   "execution_count": 83,
>>>>>>> 8c289e41907c5d6cd8dcfe6d39682996a749b1b6
   "metadata": {},
   "outputs": [],
   "source": [
    "epochProgress = IntProgress(\n",
    "    value = 0,\n",
    "    min = 0,\n",
    "    max = 10,\n",
    "    step = 1,\n",
    "    description = 'Epoka:',\n",
    "    bar_style = '',\n",
    "    layout = Layout(display = 'none')\n",
    ")"
   ]
  },
  {
   "cell_type": "code",
   "execution_count": null,
   "metadata": {},
   "outputs": [],
   "source": []
  },
  {
   "cell_type": "code",
<<<<<<< HEAD
   "execution_count": 12,
=======
   "execution_count": 84,
>>>>>>> 8c289e41907c5d6cd8dcfe6d39682996a749b1b6
=======
   "execution_count": 4,
>>>>>>> 8044ae1cd5ebc9fa4168225f5e02cf10f70c1882
   "metadata": {},
   "outputs": [],
   "source": [
    "def incrementEpochProgress():\n",
<<<<<<< HEAD
    "    epochProgress.value += 1"
   ]
  },
  {
   "cell_type": "code",
<<<<<<< HEAD
   "execution_count": 13,
=======
   "execution_count": 85,
>>>>>>> 8c289e41907c5d6cd8dcfe6d39682996a749b1b6
   "metadata": {},
   "outputs": [],
   "source": [
=======
    "    epochProgress.value += 1\n",
    "    \n",
>>>>>>> 8044ae1cd5ebc9fa4168225f5e02cf10f70c1882
    "def updateSelectionSlider(minimum, text):\n",
    "    selectionSl.layout.display = 'block'\n",
    "    selectionSl.layout.display = 'flex'\n",
    "    selectionSl.layout.flex_flow = 'row'\n",
    "    selectionSl.children[1].min = minimum\n",
    "    selectionSl.children[0].value = text\n",
    "\n",
    "def selectionBtnClicked(change):\n",
    "    if change['new'] == 'najlepszych' or change['new'] == 'strategia elitarna':\n",
    "        updateSelectionSlider(0, 'Procent osobników')\n",
    "    if change['new'] == 'kołem ruletki':\n",
    "        selectionSl.layout.display = 'none'\n",
    "    if change['new'] == 'turniejowa':\n",
    "        updateSelectionSlider(1, 'Wielkość turnieju')\n",
    "\n",
<<<<<<< HEAD
    "selectionBtn.observe(selectionBtnClicked, 'value')"
   ]
  },
  {
   "cell_type": "code",
<<<<<<< HEAD
   "execution_count": 14,
=======
   "execution_count": 86,
>>>>>>> 8c289e41907c5d6cd8dcfe6d39682996a749b1b6
   "metadata": {},
   "outputs": [],
   "source": [
=======
>>>>>>> 8044ae1cd5ebc9fa4168225f5e02cf10f70c1882
    "def startApp(change):\n",
    "    popSize = populationSl.children[1].value\n",
    "    chromoBits = bitsSl.children[1].value\n",
    "    epoch = epochSl.children[1].value\n",
    "    selection = selectionBtn.value\n",
    "    crossover = crossoverBtn.value\n",
    "    mutation = mutationBtn.value\n",
    "    if selection != 'kołem ruletki':\n",
    "        selectionParam = selectionSl.children[1].value\n",
    "    crossoverProb = crossoverSl.children[1].value\n",
    "    mutationProb = mutationSl.children[1].value  \n",
    "    \n",
    "    app.children[0].layout.display = 'none'\n",
    "    app.children[1].layout = Layout()\n",
    "    epochProgress.max = epoch\n",
    "    \n",
    "    for i in range(epoch):\n",
    "        time.sleep(0.1)\n",
    "        incrementEpochProgress()"
   ]
  },
  {
   "cell_type": "markdown",
   "metadata": {},
   "source": [
<<<<<<< HEAD
    "#### Rezultaty: czas obliczeń, buttony do wyświetlenia wykresów, zapis wyników do pliku"
   ]
  },
  {
   "cell_type": "code",
<<<<<<< HEAD
   "execution_count": 15,
=======
   "execution_count": 87,
>>>>>>> 8c289e41907c5d6cd8dcfe6d39682996a749b1b6
   "metadata": {},
   "outputs": [],
   "source": [
    "timeOutput = HBox([\n",
    "    Label(\n",
    "        'Czas obliczeń: ', \n",
    "        layout = Layout(width = '100px')), \n",
    "    Label(\n",
    "        '00.00 sek', \n",
    "        layout = Layout(width = '100px'))\n",
    "])"
=======
    "#### Panel konfiguracji parametrów"
>>>>>>> 8044ae1cd5ebc9fa4168225f5e02cf10f70c1882
   ]
  },
  {
   "cell_type": "code",
<<<<<<< HEAD
<<<<<<< HEAD
   "execution_count": 16,
=======
   "execution_count": 88,
>>>>>>> 8c289e41907c5d6cd8dcfe6d39682996a749b1b6
   "metadata": {},
   "outputs": [],
   "source": [
    "boothFuncBtn = ToggleButton(\n",
    "    description = 'Wykres zależności wartości funkcji celu od kolejnej iteracji',\n",
    "    disabled = False,\n",
    "    value = False,\n",
    "    button_style = 'danger',\n",
    "    layout = Layout(width = '50%')\n",
    ")\n",
    "meanBoothFuncBtn = ToggleButton(\n",
    "    description = 'Wykres zależności średniej wartości funkcji celu od kolejnej iteracji',\n",
    "    disabled = False,\n",
    "    value = False,\n",
    "    button_style = 'danger',\n",
    "    layout = Layout(width = '50%')\n",
    ")\n",
    "stdBtn = ToggleButton(\n",
    "    description = 'Wykres zależności odchylenia standardowego od kolejnej iteracji',\n",
    "    disabled = False,\n",
    "    value = False,\n",
    "    button_style = 'danger',\n",
    "    layout = Layout(width = '50%')\n",
    ")"
   ]
  },
  {
   "cell_type": "code",
<<<<<<< HEAD
   "execution_count": 17,
=======
   "execution_count": 89,
>>>>>>> 8c289e41907c5d6cd8dcfe6d39682996a749b1b6
   "metadata": {},
   "outputs": [],
   "source": [
    "plotsBox = Box(\n",
    "    children = [boothFuncBtn, meanBoothFuncBtn, stdBtn], \n",
    "    layout = Layout(display = 'flex', flex_flow = 'column', margin = \"10px\")\n",
    ")"
   ]
  },
  {
   "cell_type": "code",
<<<<<<< HEAD
   "execution_count": 18,
=======
   "execution_count": 90,
>>>>>>> 8c289e41907c5d6cd8dcfe6d39682996a749b1b6
   "metadata": {},
   "outputs": [],
   "source": [
    "fileInput = HBox([\n",
    "    Label(\n",
    "        'Zapis wyników do pliku:', \n",
    "        layout = Layout(width = '200px')), \n",
    "    Text(\n",
    "        value = '',\n",
    "        placeholder = 'lokalizacja pliku',\n",
    "        disabled = False,\n",
    "        layout = Layout(width = '80%')\n",
    "    )\n",
    "])\n",
    "\n",
    "fileButton = ToggleButton(\n",
    "    description = 'Zapisz',\n",
    "    button_style = 'warning',\n",
    "    disabled = False,\n",
    "    layout = Layout(width = '11%')\n",
    ")"
   ]
  },
  {
   "cell_type": "code",
<<<<<<< HEAD
   "execution_count": 19,
=======
   "execution_count": 91,
>>>>>>> 8c289e41907c5d6cd8dcfe6d39682996a749b1b6
=======
   "execution_count": 5,
   "metadata": {},
   "outputs": [],
   "source": [
    "def initFirstPanel():\n",
    "    global startBtn\n",
    "    \n",
    "    configLayout = initConfPanel()\n",
    "    geneticLayout = initGenPanel()\n",
    "    startBtn = initButton('Rozpocznij', 'success', '72%', '50px')\n",
    "    startBtn.observe(startApp, 'value')\n",
    "    \n",
    "    return Box(\n",
    "        children = [configLayout, geneticLayout, startBtn], \n",
    "        layout = Layout(display = 'flex', flex_flow = 'column'))"
   ]
  },
  {
   "cell_type": "markdown",
>>>>>>> 8044ae1cd5ebc9fa4168225f5e02cf10f70c1882
   "metadata": {},
   "source": [
    "#### Panel progresu epok"
   ]
  },
  {
   "cell_type": "code",
<<<<<<< HEAD
<<<<<<< HEAD
   "execution_count": 20,
=======
   "execution_count": 92,
>>>>>>> 8c289e41907c5d6cd8dcfe6d39682996a749b1b6
=======
   "execution_count": 6,
>>>>>>> 8044ae1cd5ebc9fa4168225f5e02cf10f70c1882
   "metadata": {},
   "outputs": [],
   "source": [
    "def initProgressPanel():\n",
    "    global epochProgress\n",
    "    epochProgress = IntProgress(\n",
    "        value = 0, min = 0, max = 10, step = 1, description = 'Epoka:', \n",
    "        bar_style = '', layout = Layout(display = 'none'))\n",
    "    return epochProgress"
   ]
  },
  {
<<<<<<< HEAD
   "cell_type": "code",
<<<<<<< HEAD
   "execution_count": 21,
=======
   "execution_count": 93,
>>>>>>> 8c289e41907c5d6cd8dcfe6d39682996a749b1b6
=======
   "cell_type": "markdown",
>>>>>>> 8044ae1cd5ebc9fa4168225f5e02cf10f70c1882
   "metadata": {},
   "source": [
    "#### Panel wyników: czas obliczeń, wykresy, zapis do pliku"
   ]
  },
  {
   "cell_type": "code",
<<<<<<< HEAD
<<<<<<< HEAD
   "execution_count": 22,
=======
   "execution_count": 94,
>>>>>>> 8c289e41907c5d6cd8dcfe6d39682996a749b1b6
=======
   "execution_count": 7,
>>>>>>> 8044ae1cd5ebc9fa4168225f5e02cf10f70c1882
   "metadata": {},
   "outputs": [],
   "source": [
    "def updateTime(value):\n",
    "    timeOutput.children[1].value = value\n",
    "\n",
<<<<<<< HEAD
    "updateTime('120.50 ms')"
   ]
  },
  {
   "cell_type": "code",
<<<<<<< HEAD
   "execution_count": 23,
=======
   "execution_count": 95,
>>>>>>> 8c289e41907c5d6cd8dcfe6d39682996a749b1b6
   "metadata": {},
   "outputs": [],
   "source": [
=======
>>>>>>> 8044ae1cd5ebc9fa4168225f5e02cf10f70c1882
    "def showPlot():\n",
    "    pyplot.figure()\n",
    "    pyplot.plot([0, 1, 2, 3, 4], [0, 3, 5, 9, 11])\n",
    "    pyplot.xlabel('Months')\n",
    "    pyplot.ylabel('Books Read')\n",
    "    pyplot.show()\n",
    "\n",
    "def showFirstPlot(value):\n",
    "    if value['new'] == True:\n",
    "        showPlot() # to change\n",
    "    boothFuncBtn.value = False\n",
    "\n",
    "def showSecondPlot(value):\n",
    "    if value['new'] == True:\n",
    "        showPlot() # to change\n",
    "    meanBoothFuncBtn.value = False\n",
    "    \n",
    "def showThreePlot(value):\n",
    "    if value['new'] == True:\n",
    "        showPlot() # to change\n",
<<<<<<< HEAD
    "    stdBtn.value = False"
   ]
  },
  {
   "cell_type": "code",
<<<<<<< HEAD
   "execution_count": 24,
=======
   "execution_count": 96,
>>>>>>> 8c289e41907c5d6cd8dcfe6d39682996a749b1b6
   "metadata": {},
   "outputs": [],
   "source": [
    "%matplotlib qt\n",
    "import matplotlib.pyplot as plt\n",
    "\n",
    "boothFuncBtn.observe(showFirstPlot, 'value')\n",
    "meanBoothFuncBtn.observe(showSecondPlot, 'value')\n",
    "stdBtn.observe(showThreePlot, 'value')"
   ]
  },
  {
   "cell_type": "code",
   "execution_count": null,
   "metadata": {},
   "outputs": [],
   "source": []
  },
  {
   "cell_type": "code",
<<<<<<< HEAD
   "execution_count": 25,
=======
   "execution_count": 97,
>>>>>>> 8c289e41907c5d6cd8dcfe6d39682996a749b1b6
   "metadata": {},
   "outputs": [],
   "source": [
=======
    "    stdBtn.value = False\n",
    "\n",
>>>>>>> 8044ae1cd5ebc9fa4168225f5e02cf10f70c1882
    "def restartApp(change):\n",
    "    app.children[2].layout.display = 'none'\n",
    "    app.children[0].layout =  Layout(display = 'flex', flex_flow = 'column')\n",
    "    epochProgress.value = 0\n",
    "\n",
<<<<<<< HEAD
    "returnBtn.observe(restartApp, 'value')"
   ]
  },
  {
   "cell_type": "code",
<<<<<<< HEAD
   "execution_count": 26,
=======
   "execution_count": 98,
>>>>>>> 8c289e41907c5d6cd8dcfe6d39682996a749b1b6
   "metadata": {},
   "outputs": [],
   "source": [
=======
>>>>>>> 8044ae1cd5ebc9fa4168225f5e02cf10f70c1882
    "def ifFinished(change):\n",
    "    if change['new'] == epochProgress.max:\n",
    "        app.children[1].layout.display = 'none'\n",
    "        app.children[2].layout = Layout(display = 'flex', flex_flow = 'column')"
   ]
  },
  {
   "cell_type": "code",
<<<<<<< HEAD
<<<<<<< HEAD
   "execution_count": 27,
=======
   "execution_count": 99,
>>>>>>> 8c289e41907c5d6cd8dcfe6d39682996a749b1b6
=======
   "execution_count": 8,
>>>>>>> 8044ae1cd5ebc9fa4168225f5e02cf10f70c1882
   "metadata": {},
   "outputs": [],
   "source": [
    "def initResultPanel():\n",
    "    global timeOutput, boothFuncBtn, meanBoothFuncBtn, stdBtn, fileInput, fileButton, returnBtn\n",
    "    timeOutput = HBox([\n",
    "        Label('Czas obliczeń: ', layout = Layout(width = '100px')), \n",
    "        Label('00.00 sek', layout = Layout(width = '100px'))])\n",
    "\n",
    "    boothFuncBtn = initButton('Wykres zależności wartości funkcji celu od kolejnej iteracji', 'danger', '50%', '') \n",
    "    meanBoothFuncBtn = initButton('Wykres zależności średniej wartości funkcji celu od kolejnej iteracji', 'danger', '50%', '')\n",
    "    stdBtn = initButton('Wykres zależności odchylenia standardowego od kolejnej iteracji', 'danger', '50%', '') \n",
    "    plotsBox = Box(children = [boothFuncBtn, meanBoothFuncBtn, stdBtn], \n",
    "        layout = Layout(display = 'flex', flex_flow = 'column', margin = \"10px\"))\n",
    "\n",
    "    fileInput = HBox([Label('Zapis wyników do pliku:', layout = Layout(width = '200px')), \n",
    "        Text(value = '', placeholder = 'lokalizacja pliku', disabled = False, layout = Layout(width = '80%'))])\n",
    "    fileButton = initButton('Zapisz', 'warning', '11%', '')\n",
    "    fileBox = Box(children = [fileInput, fileButton], \n",
    "              layout = Layout(display = 'flex', flex_flow = 'row', margin = \"10px\"))\n",
    "\n",
    "    returnBtn = initButton('Skonfiguruj ustawienia algorytmu ponownie', 'success', '50%', '')\n",
    "\n",
    "    boothFuncBtn.observe(showFirstPlot, 'value')\n",
    "    meanBoothFuncBtn.observe(showSecondPlot, 'value')\n",
    "    stdBtn.observe(showThreePlot, 'value')\n",
    "    returnBtn.observe(restartApp, 'value')\n",
    "    epochProgress.observe(ifFinished, 'value')\n",
    "\n",
    "    return Box(children = [timeOutput, plotsBox, fileBox, returnBtn], layout = Layout(display = 'none'))"
   ]
  },
  {
   "cell_type": "code",
<<<<<<< HEAD
<<<<<<< HEAD
   "execution_count": 28,
=======
   "execution_count": 101,
>>>>>>> 8c289e41907c5d6cd8dcfe6d39682996a749b1b6
   "metadata": {},
   "outputs": [
    {
     "data": {
      "application/vnd.jupyter.widget-view+json": {
<<<<<<< HEAD
       "model_id": "f6288488e4704435a3b5e0913ef43afe",
=======
       "model_id": "ed64877456ef4e53a84b374714b7ea64",
>>>>>>> 8c289e41907c5d6cd8dcfe6d39682996a749b1b6
       "version_major": 2,
       "version_minor": 0
      },
      "text/plain": [
       "Box(children=(Box(children=(AppLayout(children=(ToggleButton(value=False, button_style='danger', description='…"
      ]
     },
     "metadata": {},
     "output_type": "display_data"
    }
   ],
=======
   "execution_count": 9,
   "metadata": {},
   "outputs": [],
>>>>>>> 8044ae1cd5ebc9fa4168225f5e02cf10f70c1882
   "source": [
    "def initApp(): \n",
    "    global app\n",
    "    app = Box(\n",
    "        children = [initFirstPanel(), initProgressPanel(), initResultPanel()], \n",
    "        layout = Layout(display = 'flex', flex_flow = 'column'))\n",
    "    return app"
   ]
  },
  {
   "cell_type": "code",
   "execution_count": null,
   "metadata": {},
   "outputs": [],
   "source": []
  },
  {
   "cell_type": "code",
   "execution_count": null,
   "metadata": {},
   "outputs": [],
   "source": []
  }
 ],
 "metadata": {
  "kernelspec": {
   "display_name": "Python 3",
   "language": "python",
   "name": "python3"
  },
  "language_info": {
   "codemirror_mode": {
    "name": "ipython",
    "version": 3
   },
   "file_extension": ".py",
   "mimetype": "text/x-python",
   "name": "python",
   "nbconvert_exporter": "python",
   "pygments_lexer": "ipython3",
   "version": "3.7.4"
  }
 },
 "nbformat": 4,
 "nbformat_minor": 4
}
