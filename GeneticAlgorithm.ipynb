{
 "cells": [
  {
   "cell_type": "markdown",
   "metadata": {},
   "source": [
    "## Implementacja klasycznego algorytmu genetycznego\n",
    "\n",
    "#### o __init__ - konstruktor\n",
    "- `populationSize` -  liczba osobnikow w populacji, liczba całkowita\n",
    "- `crossoverProb` - prawdopodobieństwo krzyżowania, liczba z zakresu 0,1\n",
    "- `mutationProb` - prawdopodobieństwo mutacji, liczba z zakresu 0,1\n",
    "- `inversionProb` - prawdopodobieństwo inwersji, liczba z zakresu 0,1\n",
    "- `generations` - liczba generacji (epok/pokoleń)\n",
    "- `bits` - liczba bitów chromosomu, liczba całkowita\n",
    "\n"
   ]
  },
  {
   "cell_type": "code",
   "execution_count": null,
   "metadata": {},
   "outputs": [],
   "source": [
    "import copy\n",
    "import random \n",
    "import plotly.graph_objects as go\n",
    "\n",
    "from ipynb.fs.full.Population import Population\n",
    "from ipynb.fs.full.Chromosome import Chromosome\n",
    "from ipynb.fs.full.Individual import Individual\n",
    "\n",
    "class GeneticAlgorithm():\n",
    "    def __init__(self, populationSize, crossoverProb, mutationProb, inversionProb, generations, bits, selectionType, cross):\n",
    "        self.populationSize = populationSize\n",
    "        self.crossoverProb = crossoverProb\n",
    "        self.mutationProb = mutationProb\n",
    "        self.inversionProb = inversionProb\n",
    "        self.generations = generations\n",
    "        self.bits = bits\n",
    "        \n",
    "    def run():\n",
    "        population = Population(populationSize, bits)\n",
    "        \n",
    "        \n",
    "        \n",
    "        for i in range(0,generations):\n",
    "            evaluatePopulation(population)\n",
    "            \n",
    "\n",
    "def geneticAlgorithm(fun, pop_size, pk, pm, generations, dx):\n",
    "    a = -10\n",
    "    b = 10\n",
    "    B,dx_new = nbits(a,b,dx)\n",
    "    pop=gen_population(pop_size,2,B)\n",
    "    best_sol = None\n",
    "    best_generation = -1\n",
    "    list_best = []\n",
    "    list_best_generation = []\n",
    "    list_mean = []\n",
    "    for i in range(0,generations):\n",
    "        eval_pop = evaluate_population(fun,pop,2,B,a,dx_new)\n",
    "        best_individual, best_value = get_best(pop,eval_pop)\n",
    "        list_best_generation.append(best_value)\n",
    "        list_mean.append(np.average(eval_pop))\n",
    "        if(len(list_best)==0 or list_best[-1]<best_value):\n",
    "            list_best.append(best_value)\n",
    "            best_generation = i\n",
    "            best_sol = best_individual\n",
    "        # Generacja populacji potomnej\n",
    "        pop = roulette(pop,eval_pop)\n",
    "        pop = cross(pop,pk)\n",
    "        pop = mutate(pop,pm)\n",
    "    return best_sol, best_generation, list_best, list_best_generation, list_mean"
   ]
  }
 ],
 "metadata": {
  "kernelspec": {
   "display_name": "Python 3",
   "language": "python",
   "name": "python3"
  },
  "language_info": {
   "codemirror_mode": {
    "name": "ipython",
    "version": 3
   },
   "file_extension": ".py",
   "mimetype": "text/x-python",
   "name": "python",
   "nbconvert_exporter": "python",
   "pygments_lexer": "ipython3",
   "version": "3.7.4"
  }
 },
 "nbformat": 4,
 "nbformat_minor": 4
}
