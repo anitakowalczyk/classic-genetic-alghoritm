{
 "cells": [
  {
   "cell_type": "markdown",
   "metadata": {},
   "source": [
    "## Implementacja chromosomu\n",
    "\n",
    "#### o __init__ - konstruktor\n",
    "- `bits` - liczba bitów chromosomu, liczba całkowita\n",
    "- `binary` - chromosom w reprezentacji binarnej, tablica jednowymiarowa `ndarray`\n",
    "- `decimal` - chromosom w reprezentacji dziesiętnej, liczba całkowita\n",
    "\n",
    "#### o setBinary - implementacja binarnej reprezentacji chromosomu + konfiguracja dokładności\n",
    "- `precision` - dokładność do określonej liczby cyfr znaczących, liczba całkowita\n",
    "\n",
    "#### o setDecimal - implementacja rozkodowania chromosomu - konwersji  z reprezentacji binarnej do reprezentacji dziesiętnej\n",
    "- `binary` - chromosom w reprezentacji binarnej, tablica jednowymiarowa `ndarray`\n",
    "- `decimal` - chromosom w reprezentacji dziesiętnej, liczba całkowita\n",
    "\n",
    "#### o onePointMutation, twoPointsMutation, edgeMutation -  implementacja mutacji jedno i dwupunktowej, brzegowej\n",
    "- `mutationProb` - prawdopodobieństwo mutacji, liczba z zakresu 0,1\n",
    "\n",
    "#### o inversion - implementacja operatora inwersji\n",
    "- `inversionProb` - prawdopodobieństwo inwersji, liczba z zakresu 0,1"
   ]
  },
  {
   "cell_type": "code",
   "execution_count": 84,
   "metadata": {},
   "outputs": [],
   "source": [
    "class Chromosome:\n",
    "    def __init__(self, precision):\n",
    "        self.precision = precision\n",
    "        self.bits = self.setBits()\n",
    "        self.binary = self.setBinary()\n",
    "        self.decimal = self.decodeBinary()\n",
    "       \n",
    "    def setBits(self):\n",
    "        return math.ceil(math.log2(20 * math.pow(10, self.precision)) + math.log2(1))\n",
    "        \n",
    "    def setBinary(self):\n",
    "        return [random.randrange(0, 2) for row in range(self.bits)]\n",
    "    \n",
    "    def setDecimal(self):\n",
    "        decimal = 0\n",
    "        position = len(self.binary)\n",
    "        for bit in self.binary:\n",
    "            position -= 1\n",
    "            decimal += bit * pow(2, position)\n",
    "        return decimal\n",
    "    \n",
    "    def decodeBinary(self):\n",
    "        return -10 + self.setDecimal() * 20/(math.pow(2, 24) - 1)\n",
    "    \n",
    "    def onePointMutation(self, mutationProb):\n",
    "        prob = random.random()\n",
    "        if prob < mutationProb:\n",
    "            point = random.randrange(0, self.bits)\n",
    "            self.binary[point] = 1 if self.binary[point] == 0 else 0\n",
    "        self.decimal = self.setDecimal()\n",
    "        \n",
    "    def twoPointsMutation(self, mutationProb):\n",
    "        points = random.sample(range(0, self.bits), 2)\n",
    "        for point in points:\n",
    "            prob = random.random()\n",
    "            if prob < mutationProb:\n",
    "                self.binary[point] = 1 if self.binary[point] == 0 else 0\n",
    "        self.decimal = self.setDecimal()\n",
    "        \n",
    "    def edgeMutation(self, mutationProb):\n",
    "        points = [0, self.bits - 1]\n",
    "        for point in points:\n",
    "            prob = random.random()\n",
    "            if prob < mutationProb:\n",
    "                self.binary[point] = 1 if self.binary[point] == 0 else 0\n",
    "        self.decimal = self.setDecimal()\n",
    "        \n",
    "    def inversion(self, inversionProb):\n",
    "        prob = random.random()\n",
    "        if prob < inversionProb:\n",
    "            disables = True\n",
    "            while(disables):\n",
    "                points = random.sample(range(1, self.bits), 2)\n",
    "                point1 = min(points)\n",
    "                point2 = max(points)\n",
    "                disables = False if (point2 >= point1 + 2) else True\n",
    "            inversion = self.binary[point1:point2]\n",
    "            inversion.reverse()\n",
    "            self.binary = self.binary[:point1] + inversion + self.binary[point2:] \n",
    "        self.decimal = self.setDecimal()"
   ]
  },
  {
   "cell_type": "markdown",
   "metadata": {},
   "source": [
    "# Przykłady użycia"
   ]
  },
  {
   "cell_type": "code",
   "execution_count": 85,
   "metadata": {},
   "outputs": [],
   "source": [
    "import random\n",
    "import math"
   ]
  },
  {
   "cell_type": "code",
   "execution_count": 86,
   "metadata": {},
   "outputs": [],
   "source": [
    "chromosome = Chromosome(6)"
   ]
  },
  {
   "cell_type": "code",
   "execution_count": 87,
   "metadata": {},
   "outputs": [
    {
     "data": {
      "text/plain": [
       "[0, 0, 1, 0, 0, 0, 1, 1, 0, 1, 1, 1, 0, 1, 0, 1, 1, 0, 0, 1, 0, 1, 1, 1, 1]"
      ]
     },
     "execution_count": 87,
     "metadata": {},
     "output_type": "execute_result"
    }
   ],
   "source": [
    "chromosome.binary"
   ]
  },
  {
   "cell_type": "code",
   "execution_count": 88,
   "metadata": {},
   "outputs": [
    {
     "data": {
      "text/plain": [
       "25"
      ]
     },
     "execution_count": 88,
     "metadata": {},
     "output_type": "execute_result"
    }
   ],
   "source": [
    "chromosome.bits"
   ]
  },
  {
   "cell_type": "code",
   "execution_count": 89,
   "metadata": {},
   "outputs": [
    {
     "data": {
      "text/plain": [
       "-4.459477332799276"
      ]
     },
     "execution_count": 89,
     "metadata": {},
     "output_type": "execute_result"
    }
   ],
   "source": [
    "chromosome.decimal"
   ]
  },
  {
   "cell_type": "code",
   "execution_count": 69,
   "metadata": {},
   "outputs": [
    {
     "data": {
      "text/plain": [
       "[0, 0, 0, 0, 1, 1, 0, 0, 1, 0, 0, 1, 0, 0, 1, 0, 0, 1, 0, 1, 1, 0, 1, 0]"
      ]
     },
     "execution_count": 69,
     "metadata": {},
     "output_type": "execute_result"
    }
   ],
   "source": [
    "chromosome.binary"
   ]
  },
  {
   "cell_type": "code",
   "execution_count": 70,
   "metadata": {},
   "outputs": [],
   "source": [
    "chromosome.onePointMutation(0.2)"
   ]
  },
  {
   "cell_type": "code",
   "execution_count": 71,
   "metadata": {},
   "outputs": [
    {
     "data": {
      "text/plain": [
       "[0, 0, 0, 0, 1, 1, 0, 0, 1, 0, 0, 1, 0, 0, 1, 0, 0, 1, 0, 1, 1, 0, 1, 0]"
      ]
     },
     "execution_count": 71,
     "metadata": {},
     "output_type": "execute_result"
    }
   ],
   "source": [
    "chromosome.binary"
   ]
  },
  {
   "cell_type": "code",
   "execution_count": 72,
   "metadata": {},
   "outputs": [],
   "source": [
    "chromosome.twoPointsMutation(0.2)"
   ]
  },
  {
   "cell_type": "code",
   "execution_count": 73,
   "metadata": {},
   "outputs": [
    {
     "data": {
      "text/plain": [
       "[0, 0, 0, 0, 1, 1, 0, 0, 1, 0, 0, 1, 0, 0, 1, 0, 0, 1, 0, 1, 1, 0, 1, 0]"
      ]
     },
     "execution_count": 73,
     "metadata": {},
     "output_type": "execute_result"
    }
   ],
   "source": [
    "chromosome.binary"
   ]
  },
  {
   "cell_type": "code",
   "execution_count": 74,
   "metadata": {},
   "outputs": [],
   "source": [
    "chromosome.edgeMutation(0.2)"
   ]
  },
  {
   "cell_type": "code",
   "execution_count": 75,
   "metadata": {},
   "outputs": [
    {
     "data": {
      "text/plain": [
       "[0, 0, 0, 0, 1, 1, 0, 0, 1, 0, 0, 1, 0, 0, 1, 0, 0, 1, 0, 1, 1, 0, 1, 0]"
      ]
     },
     "execution_count": 75,
     "metadata": {},
     "output_type": "execute_result"
    }
   ],
   "source": [
    "chromosome.binary"
   ]
  },
  {
   "cell_type": "code",
   "execution_count": 76,
   "metadata": {},
   "outputs": [],
   "source": [
    "chromosome.inversion(0.2)"
   ]
  },
  {
   "cell_type": "code",
   "execution_count": 77,
   "metadata": {},
   "outputs": [
    {
     "data": {
      "text/plain": [
       "[0, 0, 0, 0, 1, 1, 0, 0, 1, 0, 0, 1, 0, 0, 1, 0, 0, 1, 0, 1, 1, 0, 1, 0]"
      ]
     },
     "execution_count": 77,
     "metadata": {},
     "output_type": "execute_result"
    }
   ],
   "source": [
    "chromosome.binary"
   ]
  },
  {
   "cell_type": "code",
   "execution_count": null,
   "metadata": {},
   "outputs": [],
   "source": []
  },
  {
   "cell_type": "code",
   "execution_count": null,
   "metadata": {},
   "outputs": [],
   "source": []
  }
 ],
 "metadata": {
  "kernelspec": {
   "display_name": "Python 3",
   "language": "python",
   "name": "python3"
  },
  "language_info": {
   "codemirror_mode": {
    "name": "ipython",
    "version": 3
   },
   "file_extension": ".py",
   "mimetype": "text/x-python",
   "name": "python",
   "nbconvert_exporter": "python",
   "pygments_lexer": "ipython3",
   "version": "3.7.4"
  }
 },
 "nbformat": 4,
 "nbformat_minor": 2
}
