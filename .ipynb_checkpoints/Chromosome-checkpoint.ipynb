{
 "cells": [
  {
   "cell_type": "code",
   "execution_count": 7,
   "metadata": {},
   "outputs": [],
   "source": [
    "import math\n",
    "import random"
   ]
  },
  {
   "cell_type": "markdown",
   "metadata": {},
   "source": [
    "## Implementacja chromosomu\n",
    "\n",
    "#### o __init__ - konstruktor\n",
    "- `bits` - liczba bitów chromosomu, liczba całkowita\n",
    "- `binary` - chromosom w reprezentacji binarnej, tablica jednowymiarowa `ndarray`\n",
    "- `decimal` - chromosom w reprezentacji dziesiętnej, liczba całkowita\n",
    "\n",
    "#### o setBinary - implementacja binarnej reprezentacji chromosomu + konfiguracja dokładności\n",
    "- `precision` - dokładność do określonej liczby cyfr znaczących, liczba całkowita\n",
    "\n",
    "#### o setDecimal - implementacja rozkodowania chromosomu - konwersji  z reprezentacji binarnej do reprezentacji dziesiętnej\n",
    "- `binary` - chromosom w reprezentacji binarnej, tablica jednowymiarowa `ndarray`\n",
    "- `decimal` - chromosom w reprezentacji dziesiętnej, liczba całkowita\n",
    "\n",
    "#### o onePointMutation, twoPointsMutation, edgeMutation -  implementacja mutacji jedno i dwupunktowej, brzegowej\n",
    "- `mutationProb` - prawdopodobieństwo mutacji, liczba z zakresu 0,1\n",
    "\n",
    "#### o inversion - implementacja operatora inwersji\n",
    "- `inversionProb` - prawdopodobieństwo inwersji, liczba z zakresu 0,1"
   ]
  },
  {
   "cell_type": "code",
   "execution_count": 27,
   "metadata": {},
   "outputs": [],
   "source": [
    "class Chromosome:\n",
    "    def __init__(self, precision):\n",
    "        self.precision = precision\n",
    "        self.bits = self.setBits()\n",
    "        self.binary = self.setBinary()\n",
    "        self.decimal = self.decodeBinary()\n",
    "       \n",
    "    def setBits(self):\n",
    "        return math.ceil(math.log2(20 * math.pow(10, self.precision)) + math.log2(1))\n",
    "        \n",
    "    def setBinary(self):\n",
    "        return [random.randrange(0, 2) for row in range(self.bits)]\n",
    "    \n",
    "    def setDecimal(self):\n",
    "        decimal = 0\n",
    "        position = len(self.binary)\n",
    "        for bit in self.binary:\n",
    "            position -= 1\n",
    "            decimal += bit * pow(2, position)\n",
    "        return decimal\n",
    "    \n",
    "    def decodeBinary(self):\n",
    "        return -10 + self.setDecimal() * 20 / (math.pow(2, self.bits) - 1)\n",
    "    \n",
    "    def onePointMutation(self, mutationProb):\n",
    "        prob = random.random()\n",
    "        if prob < mutationProb:\n",
    "            point = random.randrange(0, self.bits)\n",
    "            self.binary[point] = 1 if self.binary[point] == 0 else 0\n",
    "        self.decimal = self.setDecimal()\n",
    "        \n",
    "    def twoPointsMutation(self, mutationProb):\n",
    "        points = random.sample(range(0, self.bits), 2)\n",
    "        for point in points:\n",
    "            prob = random.random()\n",
    "            if prob < mutationProb:\n",
    "                self.binary[point] = 1 if self.binary[point] == 0 else 0\n",
    "        self.decimal = self.setDecimal()\n",
    "        \n",
    "    def edgeMutation(self, mutationProb):\n",
    "        points = [0, self.bits - 1]\n",
    "        for point in points:\n",
    "            prob = random.random()\n",
    "            if prob < mutationProb:\n",
    "                self.binary[point] = 1 if self.binary[point] == 0 else 0\n",
    "        self.decimal = self.setDecimal()\n",
    "        \n",
    "    def inversion(self, inversionProb):\n",
    "        prob = random.random()\n",
    "        if prob < inversionProb:\n",
    "            disables = True\n",
    "            while(disables):\n",
    "                points = random.sample(range(1, self.bits), 2)\n",
    "                point1 = min(points)\n",
    "                point2 = max(points)\n",
    "                disables = False if (point2 >= point1 + 2) else True\n",
    "            inversion = self.binary[point1:point2]\n",
    "            inversion.reverse()\n",
    "            self.binary = self.binary[:point1] + inversion + self.binary[point2:] \n",
    "        self.decimal = self.setDecimal()"
   ]
  },
  {
   "cell_type": "code",
   "execution_count": null,
   "metadata": {},
   "outputs": [],
   "source": []
  }
 ],
 "metadata": {
  "kernelspec": {
   "display_name": "Python 3",
   "language": "python",
   "name": "python3"
  },
  "language_info": {
   "codemirror_mode": {
    "name": "ipython",
    "version": 3
   },
   "file_extension": ".py",
   "mimetype": "text/x-python",
   "name": "python",
   "nbconvert_exporter": "python",
   "pygments_lexer": "ipython3",
   "version": "3.7.4"
  }
 },
 "nbformat": 4,
 "nbformat_minor": 2
}
