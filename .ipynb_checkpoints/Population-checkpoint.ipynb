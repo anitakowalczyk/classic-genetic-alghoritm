{
 "cells": [
  {
   "cell_type": "code",
   "execution_count": null,
   "metadata": {},
   "outputs": [],
   "source": [
    "from ipynb.fs.full.Chromosome import Chromosome\n",
    "from ipynb.fs.full.Individual import Individual\n",
    "\n",
    "import random"
   ]
  },
  {
   "cell_type": "markdown",
   "metadata": {},
   "source": [
    "## Implementacja populacji\n",
    "\n",
    "#### o __init__ - konstruktor\n",
    "- `chromoPrec` - dokładność reprezentacji chromosomów osobników populacji, liczba całkowita\n",
    "- `size` - liczba osobnikow w populacji, liczba całkowita\n",
    "\n",
    "####  o setPopulation - implementacja utworzenia populacji o rozmiarze `size`\n",
    "\n",
    "#### o addIndividual - implementacja dodania osobnika do populacji\n",
    "- `ind` - osobnik, obiekty klasy Individual\n",
    "\n",
    "#### o bestSelection - implementacja selekcji najlepszych\n",
    "- `percent` - procent najlepszych osobników, liczba całkowita\n",
    "- `newPopulation` - najlepiej przystostowane osobniki z populacji, nowa populacja osobników\n",
    "\n",
    "##### o calculateDistribution - implementacja wyznaczenia dystrybucji osobników dla danej populacji\n",
    "- `temp` - dystrybucje osobników z populacji, lista\n",
    "   \n",
    "#### o rouletteWheelSelection - implementacja selekcji kołem ruletki\n",
    "- `populationDist` - dystrybucja osobników populacji, lista\n",
    "- `self.individuals[bestIndex]` - osobnik wybrany z populacji selekcją kołem ruletki, obiekt klasy Individual"
   ]
  },
  {
   "cell_type": "code",
   "execution_count": 1,
   "metadata": {},
   "outputs": [],
   "source": [
    "class Population:\n",
    "    def __init__(self, size, chromoPrec):\n",
    "        self.size = size\n",
    "        self.chromoPrec = chromoPrec\n",
    "        if size > 0:\n",
    "            self.individuals = self.setPopulation()\n",
    "        else :\n",
    "            self.individuals = []\n",
    "        \n",
    "    def setPopulation(self):    \n",
    "        return [Individual(self.chromoPrec) for row in range(self.size)]\n",
    "    \n",
    "    def addIndividual(self, ind):    \n",
    "        self.individuals.append(ind)\n",
    "        self.size += 1\n",
    "        \n",
    "    def bestSelection(self, percent = 30):\n",
    "        popAdaptation = []\n",
    "        bestSelected = []\n",
    "        N = int(self.size * percent / 100)\n",
    "\n",
    "        for ind in self.individuals:\n",
    "            popAdaptation.append(ind.boothFunc())  \n",
    "\n",
    "        for i in range(0, N):  \n",
    "            best = max(popAdaptation)\n",
    "            bestSelected.append(best)\n",
    "            popAdaptation.remove(best) \n",
    "\n",
    "        newPopulation = Population(0, 8)\n",
    "        for best in bestSelected:\n",
    "            for ind in self.individuals:\n",
    "                if ind.boothFunc() == best:\n",
    "                    newPopulation.addIndividual(ind)\n",
    "        return newPopulation\n",
    "        \n",
    "    def calculateDistribution(self):\n",
    "        temp = [] \n",
    "        # adaptation function\n",
    "        for ind in self.individuals:\n",
    "            temp.append(ind.reciprocalBoothFunc())\n",
    "        adaptSum = sum(temp)\n",
    "        # calculate every individual probability\n",
    "        temp = [adaptation/adaptSum for adaptation in temp] \n",
    "        # calculate every individual probability\n",
    "        for i in range(1, len(temp)):\n",
    "            temp[i] += temp[i-1]\n",
    "        return temp\n",
    "    \n",
    "    \n",
    "    def rouletteWheelSelection(self, populationDist):\n",
    "        # spin roulette wheel and find the best individual\n",
    "        rand = random.random()\n",
    "        previous = 0\n",
    "        bestIndex = -1\n",
    "        for index, value in enumerate(populationDist):\n",
    "            if(previous <= rand <= value):\n",
    "                bestIndex = index\n",
    "            previous = value\n",
    "        return self.individuals[bestIndex]"
   ]
  },
  {
   "cell_type": "markdown",
   "metadata": {},
   "source": [
    "#### o tournamentSelection - implementacja selekcji turniejowej\n",
    "- `population` - populacja, obiekt klasy Population\n",
    "- `k` -  wielkość turnieju, liczba całkowita\n",
    "- `pop.individuals[0]` - osobnik wybrany z populacji selekcją turniejową, obiekt klasy Individual"
   ]
  },
  {
   "cell_type": "code",
   "execution_count": 65,
   "metadata": {},
   "outputs": [],
   "source": [
    "def tournamentSelection(population, k):\n",
    "    pop = copy.deepcopy(population)\n",
    "    popSize = len(pop.individuals)\n",
    "\n",
    "    if popSize == 1:\n",
    "        return pop.individuals[0]\n",
    "    else:\n",
    "        bits = pop.individuals[0].X.bits\n",
    "        best = Population(0, bits)\n",
    "        # create tournaments using all individuals from population\n",
    "        while(popSize > 0):\n",
    "            popSize = len(pop.individuals)\n",
    "            tournament = Population(0, bits)\n",
    "\n",
    "            # select k random individuals from population to new tournament (without repetition)\n",
    "            if popSize >= k:\n",
    "                for i in range(k):\n",
    "                    randInd = random.choice(pop.individuals)\n",
    "                    tournament.addIndividual(randInd)\n",
    "                    pop.individuals.remove(randInd)\n",
    "            elif popSize > 1:\n",
    "                tournament = copy.deepcopy(pop)    \n",
    "                pop.individuals.clear() \n",
    "            else:\n",
    "                break\n",
    "\n",
    "            # select the best individuals tournament (stochastic tournament selection)\n",
    "            best.addIndividual(random.choice(tournament.individuals)) \n",
    "\n",
    "        return tournamentSelection(best, k)"
   ]
  },
  {
   "cell_type": "markdown",
   "metadata": {},
   "source": [
    "#### o showRouletteWheel - implementacja prezentacji koła ruletki dla populacji\n",
    "   - `individuals` - lista osobników, lista obiektów typu Individual\n",
    "   - `populationDist` - dystrybucje osobników, lista "
   ]
  },
  {
   "cell_type": "code",
   "execution_count": 62,
   "metadata": {},
   "outputs": [],
   "source": [
    "def showRouletteWheel(individuals, populationDist):\n",
    "    stringPop = []\n",
    "    for ind in individuals:\n",
    "        stringPop.append(str(ind.X.binary) + str(ind.Y.binary))\n",
    "    fig = go.Figure(data = [go.Pie(labels = stringPop, values = populationDist)])\n",
    "    fig.update_layout(legend = dict(x = 0, y = -2))\n",
    "    fig.show()"
   ]
  }
 ],
 "metadata": {
  "kernelspec": {
   "display_name": "Python 3",
   "language": "python",
   "name": "python3"
  },
  "language_info": {
   "codemirror_mode": {
    "name": "ipython",
    "version": 3
   },
   "file_extension": ".py",
   "mimetype": "text/x-python",
   "name": "python",
   "nbconvert_exporter": "python",
   "pygments_lexer": "ipython3",
   "version": "3.7.4"
  }
 },
 "nbformat": 4,
 "nbformat_minor": 2
}
