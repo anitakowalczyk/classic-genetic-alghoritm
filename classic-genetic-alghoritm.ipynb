{
 "cells": [
  {
   "cell_type": "code",
   "execution_count": 1358,
   "metadata": {},
   "outputs": [],
   "source": [
    "import random\n",
    "import copy "
   ]
  },
  {
   "cell_type": "markdown",
   "metadata": {},
   "source": [
    "#### Implementacja krzyżowania jedno, dwu i trzy punktowego oraz krzyżowania jednorodnego\n",
    "- `x1` - chromosom pierwszy, lista\n",
    "- `x2` - chromosom drugi, lista\n",
    "- `crossoverProb` - prawdopodobieństwo krzyżowania, liczba z zakresu 0,1"
   ]
  },
  {
   "cell_type": "code",
   "execution_count": 756,
   "metadata": {},
   "outputs": [],
   "source": [
    "def singlePointCrossover(x1, x2):\n",
    "    point = random.randrange(1, len(x1))\n",
    "    temp = x1[:point]\n",
    "    x1[:point] = x2[:point]\n",
    "    x2[:point] = temp\n",
    "    return x1, x2"
   ]
  },
  {
   "cell_type": "code",
   "execution_count": 1108,
   "metadata": {},
   "outputs": [],
   "source": [
    "def twoPointsCrossover(x1, x2):\n",
    "    points = random.sample(range(1, len(x1)), 2)\n",
    "    point1 = min(points)\n",
    "    point2 = max(points)\n",
    "    temp = x1[point1:point2]\n",
    "    x1[point1:point2] = x2[point1:point2]\n",
    "    x2[point1:point2] = temp\n",
    "    return x1, x2"
   ]
  },
  {
   "cell_type": "code",
   "execution_count": 787,
   "metadata": {},
   "outputs": [],
   "source": [
    "def threePointsCrossover(x1, x2):\n",
    "    points = random.sample(range(1, len(x1)), 3)\n",
    "    point1 = min(points)\n",
    "    point2 = max(points)\n",
    "    point3 = [i for i in points if i != point1 and i != point2][0]\n",
    "\n",
    "    temp = x1[point1:point2]\n",
    "    x1[point1:point2] = x2[point1:point2]\n",
    "    x2[point1:point2] = temp\n",
    "    temp = x1[point3:]\n",
    "    x1[point3:] = x2[point3:]\n",
    "    x2[point3:] = temp\n",
    "    \n",
    "    return x1, x2"
   ]
  },
  {
   "cell_type": "code",
   "execution_count": 1113,
   "metadata": {},
   "outputs": [],
   "source": [
    "def probUniformCrossover(x1, x2, crossoverProb):\n",
    "    for index in range(len(x1)):\n",
    "        prob = random.random()\n",
    "        if prob < crossoverProb:\n",
    "            temp = x1[index]\n",
    "            x1[index] = x2[index]\n",
    "            x2[index] = temp\n",
    "    return x1, x2"
   ]
  },
  {
   "cell_type": "markdown",
   "metadata": {},
   "source": [
    "### Implementacja krzyżowania jedno, dwu i trzy punktowego oraz krzyżowania jednorodnego obiektowo\n",
    "- `ind1` - pierwszy osobnik, obiekt typu Individual\n",
    "- `ind2` - pierwszy osobnik, obiekt typu Individual\n",
    "- `crossoverProb` - prawdopodobieństwo krzyżowania, liczba z zakresu 0,1"
   ]
  },
  {
   "cell_type": "code",
   "execution_count": 1105,
   "metadata": {},
   "outputs": [],
   "source": [
    "def singlePointCrossoverObj(ind1, ind2):\n",
    "    x1, x2 = singlePointCrossover(ind1.X.binary, ind2.X.binary)\n",
    "    ind1.setX(x1)\n",
    "    ind2.setX(x2)\n",
    "\n",
    "    y1, y2 = singlePointCrossover(ind1.Y.binary, ind2.Y.binary)\n",
    "    ind1.setY(y1)\n",
    "    ind2.setY(y2)"
   ]
  },
  {
   "cell_type": "code",
   "execution_count": 1109,
   "metadata": {},
   "outputs": [],
   "source": [
    "def twoPointsCrossoverObj(ind1, ind2):\n",
    "    x1, x2 = twoPointsCrossover(ind1.X.binary, ind2.X.binary)\n",
    "    ind1.setX(x1)\n",
    "    ind2.setX(x2)\n",
    "\n",
    "    y1, y2 = twoPointsCrossover(ind1.Y.binary, ind2.Y.binary)\n",
    "    ind1.setY(y1)\n",
    "    ind2.setY(y2)"
   ]
  },
  {
   "cell_type": "code",
   "execution_count": 1110,
   "metadata": {},
   "outputs": [],
   "source": [
    "def threePointsCrossoverObj(ind1, ind2):\n",
    "    x1, x2 = threePointsCrossover(ind1.X.binary, ind2.X.binary)\n",
    "    ind1.setX(x1)\n",
    "    ind2.setX(x2)\n",
    "\n",
    "    y1, y2 = threePointsCrossover(ind1.Y.binary, ind2.Y.binary)\n",
    "    ind1.setY(y1)\n",
    "    ind2.setY(y2)"
   ]
  },
  {
   "cell_type": "code",
   "execution_count": 1141,
   "metadata": {},
   "outputs": [],
   "source": [
    "def probUniformCrossoverObj(ind1, ind2, crossoverProb):\n",
    "    x1, x2 = probUniformCrossover(ind1.X.binary, ind2.X.binary, crossoverProb)\n",
    "    ind1.setX(x1)\n",
    "    ind2.setX(x2)\n",
    "\n",
    "    y1, y2 = probUniformCrossover(ind1.Y.binary, ind2.Y.binary, crossoverProb)\n",
    "    ind1.setY(y1)\n",
    "    ind2.setY(y2)"
   ]
  },
  {
   "cell_type": "markdown",
   "metadata": {},
   "source": [
    "## Implementacja chromosomu\n",
    "- `bits` - liczba bitów chromosomu, liczba całkowita\n",
    "- `binary` - chromosom w reprezentacji binarnej, tablica jednowymiarowa `ndarray`\n",
    "- `decimal` - chromosom w reprezentacji dziesiętnej, liczba całkowita\n",
    "\n",
    "#### setBinary - implementacja binarnej reprezentacji chromosomu + konfiguracja dokładności\n",
    "- `bits` - liczba bitów chromosomu, liczba całkowita\n",
    "\n",
    "#### setDecimal - implementacja rozkodowania chromosomu - konwersji  z reprezentacji binarnej do reprezentacji dziesiętnej\n",
    "- `binary` - chromosom w reprezentacji binarnej, tablica jednowymiarowa `ndarray`\n",
    "- `decimal` - chromosom w reprezentacji dziesiętnej, liczba całkowita\n",
    "\n",
    "#### onePointMutation, twoPointsMutation, edgeMutation -  implementacja mutacji jedno i dwupunktowej, brzegowej\n",
    "- `mutationProb` - prawdopodobieństwo mutacji, liczba z zakresu 0,1\n",
    "\n",
    "#### inversion - implementacja operatora inwersji\n",
    "- `inversionProb` - prawdopodobieństwo inwersji, liczba z zakresu 0,1"
   ]
  },
  {
   "cell_type": "code",
   "execution_count": 1133,
   "metadata": {},
   "outputs": [],
   "source": [
    "class Chromosome:\n",
    "    def __init__(self, bits):\n",
    "        self.bits = bits\n",
    "        self.binary = self.setBinary()\n",
    "        self.decimal = self.setDecimal()\n",
    "        \n",
    "    def setBinary(self):\n",
    "        return [random.randrange(0, 2) for row in range(self.bits)]\n",
    "    \n",
    "    def setDecimal(self):\n",
    "        decimal = 0\n",
    "        position = len(self.binary)\n",
    "        for bit in self.binary:\n",
    "            position -= 1\n",
    "            decimal += bit * pow(2, position)\n",
    "        return decimal\n",
    "    \n",
    "    def oppositeBit(bit):\n",
    "        return 1 if bit == 0 else 0\n",
    "    \n",
    "    def onePointMutation(self, mutationProb):\n",
    "        prob = random.random()\n",
    "        if prob < mutationProb:\n",
    "            point = random.randrange(0, self.bits)\n",
    "            self.binary[point] = oppositeBit(self.binary[point])\n",
    "        self.decimal = self.setDecimal()\n",
    "        \n",
    "    def twoPointsMutation(self, mutationProb):\n",
    "        points = random.sample(range(0, self.bits), 2)\n",
    "        for point in points:\n",
    "            prob = random.random()\n",
    "            if prob < mutationProb:\n",
    "                self.binary[point] = oppositeBit(self.binary[point])\n",
    "        self.decimal = self.setDecimal()\n",
    "        \n",
    "    def edgeMutation(self, mutationProb):\n",
    "        points = [0, self.bits - 1]\n",
    "        for point in points:\n",
    "            prob = random.random()\n",
    "            if prob < mutationProb:\n",
    "                self.binary[point] = oppositeBit(self.binary[point])\n",
    "        self.decimal = self.setDecimal()\n",
    "        \n",
    "    def inversion(self, inversionProb):\n",
    "        prob = random.random()\n",
    "        if prob < inversionProb:\n",
    "            disables = True\n",
    "            while(disables):\n",
    "                points = random.sample(range(1, self.bits), 2)\n",
    "                point1 = min(points)\n",
    "                point2 = max(points)\n",
    "                disables = False if (point2 >= point1 + 2) else True\n",
    "            inversion = self.binary[point1:point2]\n",
    "            inversion.reverse()\n",
    "            self.binary = self.binary[:point1] + inversion + self.binary[point2:] \n",
    "        self.decimal = self.setDecimal()"
   ]
  },
  {
   "cell_type": "markdown",
   "metadata": {},
   "source": [
    "## Implementacja osobnika o dwóch chromosomach\n",
    "- `bits` - liczba bitów chromosomu, liczba całkowita\n",
    "- `X` - chromosom X osobnika, obiekt typu Chromosome\n",
    "- `Y` - chromosom Y osobnika, obiekt typu Chromosome\n",
    "\n",
    "#### boothFunc - implementacja wartości funkcji Booth osobnika\n",
    "#### reciprocalBoothFunc - implementacja odwotności wartości funkcji Booth osobnika"
   ]
  },
  {
   "cell_type": "code",
   "execution_count": 1295,
   "metadata": {},
   "outputs": [],
   "source": [
    "class Individual:\n",
    "    def __init__(self, bits):\n",
    "        self.bits = bits\n",
    "        self.X = self.setChromosome()\n",
    "        self.Y = self.setChromosome()\n",
    "        \n",
    "    def setChromosome(self):\n",
    "        return Chromosome(self.bits)\n",
    "    \n",
    "    def setX(self, binary):\n",
    "        self.X.binary = binary\n",
    "        self.X.decimal = self.X.setDecimal()\n",
    "        \n",
    "    def setY(self, binary):\n",
    "        self.Y.binary = binary\n",
    "        self.Y.decimal = self.Y.setDecimal()\n",
    "    \n",
    "    def boothFunc(self):\n",
    "        return pow((self.X.decimal + 2 * self.Y.decimal - 7), 2) + pow((2 * self.X.decimal + self.Y.decimal - 5), 2)\n",
    "    \n",
    "    def reciprocalBoothFunc(self):\n",
    "        return 1 / self.boothFunc()"
   ]
  },
  {
   "cell_type": "markdown",
   "metadata": {},
   "source": [
    "## Implementacja populacji\n",
    "- `chromoBits` - liczba bitów chromosomów osobników populacji, liczba całkowita\n",
    "- `size` - liczba osobnikow w populacji, liczba całkowita\n",
    "\n",
    "#### bestSelection - implementacja selekcji najlepszych\n",
    "- `percent` - procent najlepszych osobników, liczba całkowita\n",
    "- `newPopulation` - najlepiej przystostowane osobniki z populacji, nowa populacja osobników\n",
    "\n",
    "#### tournamentSelection - implementacja selekcji turniejowej\n",
    "- `k` -  wielkość turnieju, liczba całkowita\n",
    "- `pop.individuals[0]` - osobnik wybrany z populacji selekcją turniejową, obiekt klasy Individual\n",
    "\n",
    "#### rouletteWheelSelection - implementacja selekcji kołem ruletki\n",
    "- `self.individuals[bestIndex]` - osobnik wybrany z populacji selekcją kołem ruletki, obiekt klasy Individual\n",
    "\n",
    "##### Dodatkowo: calculateDistribution - implementacja wyznaczenia dystrybucji osobników dla danej populacji\n",
    "   - `temp` - dystrybucje osobników z populacji, lista\n"
   ]
  },
  {
   "cell_type": "code",
   "execution_count": 1339,
   "metadata": {},
   "outputs": [],
   "source": [
    "class Population:\n",
    "    def __init__(self, size, chromoBits):\n",
    "        self.size = size\n",
    "        self.chromoBits = chromoBits\n",
    "        if size > 0:\n",
    "            self.individuals = self.setPopulation()\n",
    "        else :\n",
    "            self.individuals = []\n",
    "        \n",
    "    def setPopulation(self):    \n",
    "        return [Individual(self.chromoBits) for row in range(self.size)]\n",
    "    \n",
    "    def addIndividual(self, ind):    \n",
    "        self.individuals.append(ind)\n",
    "        self.size += 1\n",
    "        \n",
    "    def bestSelection(self, percent = 30):\n",
    "        popAdaptation = []\n",
    "        bestSelected = []\n",
    "        N = int(self.size * percent / 100)\n",
    "\n",
    "        for ind in self.individuals:\n",
    "            popAdaptation.append(ind.boothFunc())  \n",
    "\n",
    "        for i in range(0, N):  \n",
    "            best = max(popAdaptation)\n",
    "            bestSelected.append(best)\n",
    "            popAdaptation.remove(best) \n",
    "\n",
    "        newPopulation = Population(0, 8)\n",
    "        for best in bestSelected:\n",
    "            for ind in self.individuals:\n",
    "                if ind.boothFunc() == best:\n",
    "                    newPopulation.addIndividual(ind)\n",
    "        return newPopulation\n",
    "    \n",
    "    \n",
    "    def tournamentSelection(self, k):\n",
    "        pop = copy.deepcopy(self)    \n",
    "        popSize = len(pop.individuals)\n",
    "\n",
    "        if popSize == 1:\n",
    "            return pop.individuals[0]\n",
    "        else:\n",
    "            best = Population(0, self.chromoBits)\n",
    "            # create tournaments using all individuals from population\n",
    "            while(popSize > 0):\n",
    "                popSize = len(pop.individuals)\n",
    "                tournament = Population(0, self.chromoBits)\n",
    "\n",
    "                # select k random individuals from population to new tournament (without repetition)\n",
    "                if popSize >= k:\n",
    "                    for i in range(k):\n",
    "                        randInd = random.choice(pop.individuals)\n",
    "                        tournament.addIndividual(randInd)\n",
    "                        pop.individuals.remove(randInd)\n",
    "                elif popSize > 1:\n",
    "                    tournament = copy.deepcopy(pop)    \n",
    "                    pop.individuals.clear() \n",
    "                else:\n",
    "                    break\n",
    "\n",
    "                # select the best individuals tournament (stochastic tournament selection)\n",
    "                best.addIndividual(random.choice(tournament.individuals)) \n",
    "\n",
    "            return tournamentSelection(best, k)\n",
    "        \n",
    "    def calculateDistribution(self):\n",
    "        temp = [] \n",
    "        # adaptation function\n",
    "        for ind in self.individuals:\n",
    "            temp.append(ind.reciprocalBoothFunc())\n",
    "        adaptationSum = sum(temp)\n",
    "        # calculate every individual probability\n",
    "        temp = [adaptation/adaptationSum for adaptation in temp] \n",
    "        # calculate every individual probability\n",
    "        for i in range(1, len(temp)):\n",
    "            temp[i] += temp[i-1]\n",
    "        return temp\n",
    "    \n",
    "    \n",
    "    def rouletteWheelSelection(self):\n",
    "        populationDist = self.calculateDistribution()\n",
    "        self.showRouletteWheel(populationDist)\n",
    "        # spin roulette wheel and find the best individual\n",
    "        rand = random.random()\n",
    "        previous = 0\n",
    "        bestIndex = -1\n",
    "        for index, value in enumerate(populationDist):\n",
    "            if(previous <= rand <= value):\n",
    "                bestIndex = index\n",
    "            previous = value\n",
    "        return self.individuals[bestIndex], fig"
   ]
  },
  {
   "cell_type": "markdown",
   "metadata": {},
   "source": [
    "##### showRouletteWheel - implementacja prezentacji koła ruletki dla populacji\n",
    "   - `individuals` - lista osobników, lista obiektów typu Individual\n",
    "   - `populationDist` - dystrybucje osobników, lista "
   ]
  },
  {
   "cell_type": "code",
   "execution_count": 1355,
   "metadata": {},
   "outputs": [],
   "source": [
    "import plotly.graph_objects as go\n",
    "\n",
    "def showRouletteWheel(individuals, populationDist):\n",
    "    stringPop = []\n",
    "    for ind in individuals:\n",
    "        stringPop.append(str(ind.X.binary) + str(ind.Y.binary))\n",
    "    fig = go.Figure(data = [go.Pie(labels = stringPop, values = populationDist)])\n",
    "    fig.show()"
   ]
  },
  {
   "cell_type": "code",
   "execution_count": 1356,
   "metadata": {},
   "outputs": [
    {
     "data": {
      "application/vnd.plotly.v1+json": {
       "config": {
        "plotlyServerURL": "https://plot.ly"
       },
       "data": [
        {
         "labels": [
          "[0, 0, 1, 1, 1, 0, 1, 0][1, 0, 0, 1, 1, 0, 1, 0]",
          "[0, 0, 0, 1, 1, 0, 1, 1][1, 0, 1, 0, 0, 1, 0, 1]",
          "[1, 0, 0, 0, 0, 0, 0, 0][0, 0, 1, 1, 0, 0, 0, 1]",
          "[1, 1, 1, 0, 0, 0, 0, 1][0, 1, 0, 1, 1, 0, 1, 0]",
          "[0, 1, 0, 1, 1, 0, 1, 0][0, 0, 0, 1, 1, 1, 0, 1]",
          "[0, 0, 0, 1, 1, 1, 1, 0][1, 0, 0, 1, 1, 1, 0, 0]",
          "[0, 1, 0, 0, 1, 0, 0, 0][1, 0, 1, 0, 0, 0, 0, 0]",
          "[1, 0, 1, 0, 0, 1, 1, 0][1, 0, 0, 1, 1, 1, 0, 0]",
          "[0, 0, 0, 0, 0, 1, 0, 1][0, 1, 1, 1, 0, 0, 1, 0]",
          "[1, 1, 0, 0, 1, 1, 0, 1][1, 0, 0, 0, 0, 1, 0, 0]",
          "[0, 0, 0, 0, 0, 0, 0, 1][0, 0, 0, 1, 0, 1, 0, 1]",
          "[1, 0, 0, 0, 1, 0, 1, 0][1, 1, 1, 0, 0, 1, 1, 1]",
          "[0, 1, 1, 0, 0, 1, 1, 1][0, 0, 0, 1, 1, 1, 0, 1]",
          "[0, 1, 1, 0, 0, 0, 0, 0][0, 0, 0, 0, 0, 1, 0, 0]",
          "[1, 1, 1, 1, 0, 1, 0, 1][0, 0, 0, 0, 0, 1, 0, 1]",
          "[0, 0, 1, 1, 1, 0, 0, 0][0, 0, 1, 0, 0, 1, 1, 0]",
          "[1, 1, 0, 0, 1, 0, 1, 1][0, 0, 0, 1, 1, 1, 0, 0]",
          "[1, 0, 0, 1, 1, 0, 1, 0][1, 0, 1, 1, 0, 1, 0, 0]",
          "[0, 0, 0, 0, 1, 1, 1, 0][0, 1, 1, 0, 1, 0, 1, 1]",
          "[1, 0, 0, 0, 0, 1, 1, 0][1, 1, 0, 0, 1, 1, 1, 0]"
         ],
         "type": "pie",
         "values": [
          0.006485071658072911,
          0.01415736736059861,
          0.023516654967619906,
          0.02642068659298007,
          0.047417103939391525,
          0.055654741120259074,
          0.06108856013649579,
          0.06392558840875265,
          0.08371829312466947,
          0.08629139640727128,
          0.8833387282296571,
          0.8854777330512222,
          0.9023308274120903,
          0.9304680398233403,
          0.9347492054496326,
          0.9699802198439645,
          0.9751963085452199,
          0.9778296281687291,
          0.9974705931305073,
          0.9999999999999998
         ]
        }
       ],
       "layout": {
        "template": {
         "data": {
          "bar": [
           {
            "error_x": {
             "color": "#2a3f5f"
            },
            "error_y": {
             "color": "#2a3f5f"
            },
            "marker": {
             "line": {
              "color": "#E5ECF6",
              "width": 0.5
             }
            },
            "type": "bar"
           }
          ],
          "barpolar": [
           {
            "marker": {
             "line": {
              "color": "#E5ECF6",
              "width": 0.5
             }
            },
            "type": "barpolar"
           }
          ],
          "carpet": [
           {
            "aaxis": {
             "endlinecolor": "#2a3f5f",
             "gridcolor": "white",
             "linecolor": "white",
             "minorgridcolor": "white",
             "startlinecolor": "#2a3f5f"
            },
            "baxis": {
             "endlinecolor": "#2a3f5f",
             "gridcolor": "white",
             "linecolor": "white",
             "minorgridcolor": "white",
             "startlinecolor": "#2a3f5f"
            },
            "type": "carpet"
           }
          ],
          "choropleth": [
           {
            "colorbar": {
             "outlinewidth": 0,
             "ticks": ""
            },
            "type": "choropleth"
           }
          ],
          "contour": [
           {
            "colorbar": {
             "outlinewidth": 0,
             "ticks": ""
            },
            "colorscale": [
             [
              0,
              "#0d0887"
             ],
             [
              0.1111111111111111,
              "#46039f"
             ],
             [
              0.2222222222222222,
              "#7201a8"
             ],
             [
              0.3333333333333333,
              "#9c179e"
             ],
             [
              0.4444444444444444,
              "#bd3786"
             ],
             [
              0.5555555555555556,
              "#d8576b"
             ],
             [
              0.6666666666666666,
              "#ed7953"
             ],
             [
              0.7777777777777778,
              "#fb9f3a"
             ],
             [
              0.8888888888888888,
              "#fdca26"
             ],
             [
              1,
              "#f0f921"
             ]
            ],
            "type": "contour"
           }
          ],
          "contourcarpet": [
           {
            "colorbar": {
             "outlinewidth": 0,
             "ticks": ""
            },
            "type": "contourcarpet"
           }
          ],
          "heatmap": [
           {
            "colorbar": {
             "outlinewidth": 0,
             "ticks": ""
            },
            "colorscale": [
             [
              0,
              "#0d0887"
             ],
             [
              0.1111111111111111,
              "#46039f"
             ],
             [
              0.2222222222222222,
              "#7201a8"
             ],
             [
              0.3333333333333333,
              "#9c179e"
             ],
             [
              0.4444444444444444,
              "#bd3786"
             ],
             [
              0.5555555555555556,
              "#d8576b"
             ],
             [
              0.6666666666666666,
              "#ed7953"
             ],
             [
              0.7777777777777778,
              "#fb9f3a"
             ],
             [
              0.8888888888888888,
              "#fdca26"
             ],
             [
              1,
              "#f0f921"
             ]
            ],
            "type": "heatmap"
           }
          ],
          "heatmapgl": [
           {
            "colorbar": {
             "outlinewidth": 0,
             "ticks": ""
            },
            "colorscale": [
             [
              0,
              "#0d0887"
             ],
             [
              0.1111111111111111,
              "#46039f"
             ],
             [
              0.2222222222222222,
              "#7201a8"
             ],
             [
              0.3333333333333333,
              "#9c179e"
             ],
             [
              0.4444444444444444,
              "#bd3786"
             ],
             [
              0.5555555555555556,
              "#d8576b"
             ],
             [
              0.6666666666666666,
              "#ed7953"
             ],
             [
              0.7777777777777778,
              "#fb9f3a"
             ],
             [
              0.8888888888888888,
              "#fdca26"
             ],
             [
              1,
              "#f0f921"
             ]
            ],
            "type": "heatmapgl"
           }
          ],
          "histogram": [
           {
            "marker": {
             "colorbar": {
              "outlinewidth": 0,
              "ticks": ""
             }
            },
            "type": "histogram"
           }
          ],
          "histogram2d": [
           {
            "colorbar": {
             "outlinewidth": 0,
             "ticks": ""
            },
            "colorscale": [
             [
              0,
              "#0d0887"
             ],
             [
              0.1111111111111111,
              "#46039f"
             ],
             [
              0.2222222222222222,
              "#7201a8"
             ],
             [
              0.3333333333333333,
              "#9c179e"
             ],
             [
              0.4444444444444444,
              "#bd3786"
             ],
             [
              0.5555555555555556,
              "#d8576b"
             ],
             [
              0.6666666666666666,
              "#ed7953"
             ],
             [
              0.7777777777777778,
              "#fb9f3a"
             ],
             [
              0.8888888888888888,
              "#fdca26"
             ],
             [
              1,
              "#f0f921"
             ]
            ],
            "type": "histogram2d"
           }
          ],
          "histogram2dcontour": [
           {
            "colorbar": {
             "outlinewidth": 0,
             "ticks": ""
            },
            "colorscale": [
             [
              0,
              "#0d0887"
             ],
             [
              0.1111111111111111,
              "#46039f"
             ],
             [
              0.2222222222222222,
              "#7201a8"
             ],
             [
              0.3333333333333333,
              "#9c179e"
             ],
             [
              0.4444444444444444,
              "#bd3786"
             ],
             [
              0.5555555555555556,
              "#d8576b"
             ],
             [
              0.6666666666666666,
              "#ed7953"
             ],
             [
              0.7777777777777778,
              "#fb9f3a"
             ],
             [
              0.8888888888888888,
              "#fdca26"
             ],
             [
              1,
              "#f0f921"
             ]
            ],
            "type": "histogram2dcontour"
           }
          ],
          "mesh3d": [
           {
            "colorbar": {
             "outlinewidth": 0,
             "ticks": ""
            },
            "type": "mesh3d"
           }
          ],
          "parcoords": [
           {
            "line": {
             "colorbar": {
              "outlinewidth": 0,
              "ticks": ""
             }
            },
            "type": "parcoords"
           }
          ],
          "pie": [
           {
            "automargin": true,
            "type": "pie"
           }
          ],
          "scatter": [
           {
            "marker": {
             "colorbar": {
              "outlinewidth": 0,
              "ticks": ""
             }
            },
            "type": "scatter"
           }
          ],
          "scatter3d": [
           {
            "line": {
             "colorbar": {
              "outlinewidth": 0,
              "ticks": ""
             }
            },
            "marker": {
             "colorbar": {
              "outlinewidth": 0,
              "ticks": ""
             }
            },
            "type": "scatter3d"
           }
          ],
          "scattercarpet": [
           {
            "marker": {
             "colorbar": {
              "outlinewidth": 0,
              "ticks": ""
             }
            },
            "type": "scattercarpet"
           }
          ],
          "scattergeo": [
           {
            "marker": {
             "colorbar": {
              "outlinewidth": 0,
              "ticks": ""
             }
            },
            "type": "scattergeo"
           }
          ],
          "scattergl": [
           {
            "marker": {
             "colorbar": {
              "outlinewidth": 0,
              "ticks": ""
             }
            },
            "type": "scattergl"
           }
          ],
          "scattermapbox": [
           {
            "marker": {
             "colorbar": {
              "outlinewidth": 0,
              "ticks": ""
             }
            },
            "type": "scattermapbox"
           }
          ],
          "scatterpolar": [
           {
            "marker": {
             "colorbar": {
              "outlinewidth": 0,
              "ticks": ""
             }
            },
            "type": "scatterpolar"
           }
          ],
          "scatterpolargl": [
           {
            "marker": {
             "colorbar": {
              "outlinewidth": 0,
              "ticks": ""
             }
            },
            "type": "scatterpolargl"
           }
          ],
          "scatterternary": [
           {
            "marker": {
             "colorbar": {
              "outlinewidth": 0,
              "ticks": ""
             }
            },
            "type": "scatterternary"
           }
          ],
          "surface": [
           {
            "colorbar": {
             "outlinewidth": 0,
             "ticks": ""
            },
            "colorscale": [
             [
              0,
              "#0d0887"
             ],
             [
              0.1111111111111111,
              "#46039f"
             ],
             [
              0.2222222222222222,
              "#7201a8"
             ],
             [
              0.3333333333333333,
              "#9c179e"
             ],
             [
              0.4444444444444444,
              "#bd3786"
             ],
             [
              0.5555555555555556,
              "#d8576b"
             ],
             [
              0.6666666666666666,
              "#ed7953"
             ],
             [
              0.7777777777777778,
              "#fb9f3a"
             ],
             [
              0.8888888888888888,
              "#fdca26"
             ],
             [
              1,
              "#f0f921"
             ]
            ],
            "type": "surface"
           }
          ],
          "table": [
           {
            "cells": {
             "fill": {
              "color": "#EBF0F8"
             },
             "line": {
              "color": "white"
             }
            },
            "header": {
             "fill": {
              "color": "#C8D4E3"
             },
             "line": {
              "color": "white"
             }
            },
            "type": "table"
           }
          ]
         },
         "layout": {
          "annotationdefaults": {
           "arrowcolor": "#2a3f5f",
           "arrowhead": 0,
           "arrowwidth": 1
          },
          "coloraxis": {
           "colorbar": {
            "outlinewidth": 0,
            "ticks": ""
           }
          },
          "colorscale": {
           "diverging": [
            [
             0,
             "#8e0152"
            ],
            [
             0.1,
             "#c51b7d"
            ],
            [
             0.2,
             "#de77ae"
            ],
            [
             0.3,
             "#f1b6da"
            ],
            [
             0.4,
             "#fde0ef"
            ],
            [
             0.5,
             "#f7f7f7"
            ],
            [
             0.6,
             "#e6f5d0"
            ],
            [
             0.7,
             "#b8e186"
            ],
            [
             0.8,
             "#7fbc41"
            ],
            [
             0.9,
             "#4d9221"
            ],
            [
             1,
             "#276419"
            ]
           ],
           "sequential": [
            [
             0,
             "#0d0887"
            ],
            [
             0.1111111111111111,
             "#46039f"
            ],
            [
             0.2222222222222222,
             "#7201a8"
            ],
            [
             0.3333333333333333,
             "#9c179e"
            ],
            [
             0.4444444444444444,
             "#bd3786"
            ],
            [
             0.5555555555555556,
             "#d8576b"
            ],
            [
             0.6666666666666666,
             "#ed7953"
            ],
            [
             0.7777777777777778,
             "#fb9f3a"
            ],
            [
             0.8888888888888888,
             "#fdca26"
            ],
            [
             1,
             "#f0f921"
            ]
           ],
           "sequentialminus": [
            [
             0,
             "#0d0887"
            ],
            [
             0.1111111111111111,
             "#46039f"
            ],
            [
             0.2222222222222222,
             "#7201a8"
            ],
            [
             0.3333333333333333,
             "#9c179e"
            ],
            [
             0.4444444444444444,
             "#bd3786"
            ],
            [
             0.5555555555555556,
             "#d8576b"
            ],
            [
             0.6666666666666666,
             "#ed7953"
            ],
            [
             0.7777777777777778,
             "#fb9f3a"
            ],
            [
             0.8888888888888888,
             "#fdca26"
            ],
            [
             1,
             "#f0f921"
            ]
           ]
          },
          "colorway": [
           "#636efa",
           "#EF553B",
           "#00cc96",
           "#ab63fa",
           "#FFA15A",
           "#19d3f3",
           "#FF6692",
           "#B6E880",
           "#FF97FF",
           "#FECB52"
          ],
          "font": {
           "color": "#2a3f5f"
          },
          "geo": {
           "bgcolor": "white",
           "lakecolor": "white",
           "landcolor": "#E5ECF6",
           "showlakes": true,
           "showland": true,
           "subunitcolor": "white"
          },
          "hoverlabel": {
           "align": "left"
          },
          "hovermode": "closest",
          "mapbox": {
           "style": "light"
          },
          "paper_bgcolor": "white",
          "plot_bgcolor": "#E5ECF6",
          "polar": {
           "angularaxis": {
            "gridcolor": "white",
            "linecolor": "white",
            "ticks": ""
           },
           "bgcolor": "#E5ECF6",
           "radialaxis": {
            "gridcolor": "white",
            "linecolor": "white",
            "ticks": ""
           }
          },
          "scene": {
           "xaxis": {
            "backgroundcolor": "#E5ECF6",
            "gridcolor": "white",
            "gridwidth": 2,
            "linecolor": "white",
            "showbackground": true,
            "ticks": "",
            "zerolinecolor": "white"
           },
           "yaxis": {
            "backgroundcolor": "#E5ECF6",
            "gridcolor": "white",
            "gridwidth": 2,
            "linecolor": "white",
            "showbackground": true,
            "ticks": "",
            "zerolinecolor": "white"
           },
           "zaxis": {
            "backgroundcolor": "#E5ECF6",
            "gridcolor": "white",
            "gridwidth": 2,
            "linecolor": "white",
            "showbackground": true,
            "ticks": "",
            "zerolinecolor": "white"
           }
          },
          "shapedefaults": {
           "line": {
            "color": "#2a3f5f"
           }
          },
          "ternary": {
           "aaxis": {
            "gridcolor": "white",
            "linecolor": "white",
            "ticks": ""
           },
           "baxis": {
            "gridcolor": "white",
            "linecolor": "white",
            "ticks": ""
           },
           "bgcolor": "#E5ECF6",
           "caxis": {
            "gridcolor": "white",
            "linecolor": "white",
            "ticks": ""
           }
          },
          "title": {
           "x": 0.05
          },
          "xaxis": {
           "automargin": true,
           "gridcolor": "white",
           "linecolor": "white",
           "ticks": "",
           "title": {
            "standoff": 15
           },
           "zerolinecolor": "white",
           "zerolinewidth": 2
          },
          "yaxis": {
           "automargin": true,
           "gridcolor": "white",
           "linecolor": "white",
           "ticks": "",
           "title": {
            "standoff": 15
           },
           "zerolinecolor": "white",
           "zerolinewidth": 2
          }
         }
        }
       }
      },
      "text/html": [
       "<div>\n",
       "        \n",
       "        \n",
       "            <div id=\"c81ab68c-0667-4fc9-a2a5-9ffc261760c9\" class=\"plotly-graph-div\" style=\"height:525px; width:100%;\"></div>\n",
       "            <script type=\"text/javascript\">\n",
       "                require([\"plotly\"], function(Plotly) {\n",
       "                    window.PLOTLYENV=window.PLOTLYENV || {};\n",
       "                    \n",
       "                if (document.getElementById(\"c81ab68c-0667-4fc9-a2a5-9ffc261760c9\")) {\n",
       "                    Plotly.newPlot(\n",
       "                        'c81ab68c-0667-4fc9-a2a5-9ffc261760c9',\n",
       "                        [{\"labels\": [\"[0, 0, 1, 1, 1, 0, 1, 0][1, 0, 0, 1, 1, 0, 1, 0]\", \"[0, 0, 0, 1, 1, 0, 1, 1][1, 0, 1, 0, 0, 1, 0, 1]\", \"[1, 0, 0, 0, 0, 0, 0, 0][0, 0, 1, 1, 0, 0, 0, 1]\", \"[1, 1, 1, 0, 0, 0, 0, 1][0, 1, 0, 1, 1, 0, 1, 0]\", \"[0, 1, 0, 1, 1, 0, 1, 0][0, 0, 0, 1, 1, 1, 0, 1]\", \"[0, 0, 0, 1, 1, 1, 1, 0][1, 0, 0, 1, 1, 1, 0, 0]\", \"[0, 1, 0, 0, 1, 0, 0, 0][1, 0, 1, 0, 0, 0, 0, 0]\", \"[1, 0, 1, 0, 0, 1, 1, 0][1, 0, 0, 1, 1, 1, 0, 0]\", \"[0, 0, 0, 0, 0, 1, 0, 1][0, 1, 1, 1, 0, 0, 1, 0]\", \"[1, 1, 0, 0, 1, 1, 0, 1][1, 0, 0, 0, 0, 1, 0, 0]\", \"[0, 0, 0, 0, 0, 0, 0, 1][0, 0, 0, 1, 0, 1, 0, 1]\", \"[1, 0, 0, 0, 1, 0, 1, 0][1, 1, 1, 0, 0, 1, 1, 1]\", \"[0, 1, 1, 0, 0, 1, 1, 1][0, 0, 0, 1, 1, 1, 0, 1]\", \"[0, 1, 1, 0, 0, 0, 0, 0][0, 0, 0, 0, 0, 1, 0, 0]\", \"[1, 1, 1, 1, 0, 1, 0, 1][0, 0, 0, 0, 0, 1, 0, 1]\", \"[0, 0, 1, 1, 1, 0, 0, 0][0, 0, 1, 0, 0, 1, 1, 0]\", \"[1, 1, 0, 0, 1, 0, 1, 1][0, 0, 0, 1, 1, 1, 0, 0]\", \"[1, 0, 0, 1, 1, 0, 1, 0][1, 0, 1, 1, 0, 1, 0, 0]\", \"[0, 0, 0, 0, 1, 1, 1, 0][0, 1, 1, 0, 1, 0, 1, 1]\", \"[1, 0, 0, 0, 0, 1, 1, 0][1, 1, 0, 0, 1, 1, 1, 0]\"], \"type\": \"pie\", \"values\": [0.006485071658072911, 0.01415736736059861, 0.023516654967619906, 0.02642068659298007, 0.047417103939391525, 0.055654741120259074, 0.06108856013649579, 0.06392558840875265, 0.08371829312466947, 0.08629139640727128, 0.8833387282296571, 0.8854777330512222, 0.9023308274120903, 0.9304680398233403, 0.9347492054496326, 0.9699802198439645, 0.9751963085452199, 0.9778296281687291, 0.9974705931305073, 0.9999999999999998]}],\n",
       "                        {\"template\": {\"data\": {\"bar\": [{\"error_x\": {\"color\": \"#2a3f5f\"}, \"error_y\": {\"color\": \"#2a3f5f\"}, \"marker\": {\"line\": {\"color\": \"#E5ECF6\", \"width\": 0.5}}, \"type\": \"bar\"}], \"barpolar\": [{\"marker\": {\"line\": {\"color\": \"#E5ECF6\", \"width\": 0.5}}, \"type\": \"barpolar\"}], \"carpet\": [{\"aaxis\": {\"endlinecolor\": \"#2a3f5f\", \"gridcolor\": \"white\", \"linecolor\": \"white\", \"minorgridcolor\": \"white\", \"startlinecolor\": \"#2a3f5f\"}, \"baxis\": {\"endlinecolor\": \"#2a3f5f\", \"gridcolor\": \"white\", \"linecolor\": \"white\", \"minorgridcolor\": \"white\", \"startlinecolor\": \"#2a3f5f\"}, \"type\": \"carpet\"}], \"choropleth\": [{\"colorbar\": {\"outlinewidth\": 0, \"ticks\": \"\"}, \"type\": \"choropleth\"}], \"contour\": [{\"colorbar\": {\"outlinewidth\": 0, \"ticks\": \"\"}, \"colorscale\": [[0.0, \"#0d0887\"], [0.1111111111111111, \"#46039f\"], [0.2222222222222222, \"#7201a8\"], [0.3333333333333333, \"#9c179e\"], [0.4444444444444444, \"#bd3786\"], [0.5555555555555556, \"#d8576b\"], [0.6666666666666666, \"#ed7953\"], [0.7777777777777778, \"#fb9f3a\"], [0.8888888888888888, \"#fdca26\"], [1.0, \"#f0f921\"]], \"type\": \"contour\"}], \"contourcarpet\": [{\"colorbar\": {\"outlinewidth\": 0, \"ticks\": \"\"}, \"type\": \"contourcarpet\"}], \"heatmap\": [{\"colorbar\": {\"outlinewidth\": 0, \"ticks\": \"\"}, \"colorscale\": [[0.0, \"#0d0887\"], [0.1111111111111111, \"#46039f\"], [0.2222222222222222, \"#7201a8\"], [0.3333333333333333, \"#9c179e\"], [0.4444444444444444, \"#bd3786\"], [0.5555555555555556, \"#d8576b\"], [0.6666666666666666, \"#ed7953\"], [0.7777777777777778, \"#fb9f3a\"], [0.8888888888888888, \"#fdca26\"], [1.0, \"#f0f921\"]], \"type\": \"heatmap\"}], \"heatmapgl\": [{\"colorbar\": {\"outlinewidth\": 0, \"ticks\": \"\"}, \"colorscale\": [[0.0, \"#0d0887\"], [0.1111111111111111, \"#46039f\"], [0.2222222222222222, \"#7201a8\"], [0.3333333333333333, \"#9c179e\"], [0.4444444444444444, \"#bd3786\"], [0.5555555555555556, \"#d8576b\"], [0.6666666666666666, \"#ed7953\"], [0.7777777777777778, \"#fb9f3a\"], [0.8888888888888888, \"#fdca26\"], [1.0, \"#f0f921\"]], \"type\": \"heatmapgl\"}], \"histogram\": [{\"marker\": {\"colorbar\": {\"outlinewidth\": 0, \"ticks\": \"\"}}, \"type\": \"histogram\"}], \"histogram2d\": [{\"colorbar\": {\"outlinewidth\": 0, \"ticks\": \"\"}, \"colorscale\": [[0.0, \"#0d0887\"], [0.1111111111111111, \"#46039f\"], [0.2222222222222222, \"#7201a8\"], [0.3333333333333333, \"#9c179e\"], [0.4444444444444444, \"#bd3786\"], [0.5555555555555556, \"#d8576b\"], [0.6666666666666666, \"#ed7953\"], [0.7777777777777778, \"#fb9f3a\"], [0.8888888888888888, \"#fdca26\"], [1.0, \"#f0f921\"]], \"type\": \"histogram2d\"}], \"histogram2dcontour\": [{\"colorbar\": {\"outlinewidth\": 0, \"ticks\": \"\"}, \"colorscale\": [[0.0, \"#0d0887\"], [0.1111111111111111, \"#46039f\"], [0.2222222222222222, \"#7201a8\"], [0.3333333333333333, \"#9c179e\"], [0.4444444444444444, \"#bd3786\"], [0.5555555555555556, \"#d8576b\"], [0.6666666666666666, \"#ed7953\"], [0.7777777777777778, \"#fb9f3a\"], [0.8888888888888888, \"#fdca26\"], [1.0, \"#f0f921\"]], \"type\": \"histogram2dcontour\"}], \"mesh3d\": [{\"colorbar\": {\"outlinewidth\": 0, \"ticks\": \"\"}, \"type\": \"mesh3d\"}], \"parcoords\": [{\"line\": {\"colorbar\": {\"outlinewidth\": 0, \"ticks\": \"\"}}, \"type\": \"parcoords\"}], \"pie\": [{\"automargin\": true, \"type\": \"pie\"}], \"scatter\": [{\"marker\": {\"colorbar\": {\"outlinewidth\": 0, \"ticks\": \"\"}}, \"type\": \"scatter\"}], \"scatter3d\": [{\"line\": {\"colorbar\": {\"outlinewidth\": 0, \"ticks\": \"\"}}, \"marker\": {\"colorbar\": {\"outlinewidth\": 0, \"ticks\": \"\"}}, \"type\": \"scatter3d\"}], \"scattercarpet\": [{\"marker\": {\"colorbar\": {\"outlinewidth\": 0, \"ticks\": \"\"}}, \"type\": \"scattercarpet\"}], \"scattergeo\": [{\"marker\": {\"colorbar\": {\"outlinewidth\": 0, \"ticks\": \"\"}}, \"type\": \"scattergeo\"}], \"scattergl\": [{\"marker\": {\"colorbar\": {\"outlinewidth\": 0, \"ticks\": \"\"}}, \"type\": \"scattergl\"}], \"scattermapbox\": [{\"marker\": {\"colorbar\": {\"outlinewidth\": 0, \"ticks\": \"\"}}, \"type\": \"scattermapbox\"}], \"scatterpolar\": [{\"marker\": {\"colorbar\": {\"outlinewidth\": 0, \"ticks\": \"\"}}, \"type\": \"scatterpolar\"}], \"scatterpolargl\": [{\"marker\": {\"colorbar\": {\"outlinewidth\": 0, \"ticks\": \"\"}}, \"type\": \"scatterpolargl\"}], \"scatterternary\": [{\"marker\": {\"colorbar\": {\"outlinewidth\": 0, \"ticks\": \"\"}}, \"type\": \"scatterternary\"}], \"surface\": [{\"colorbar\": {\"outlinewidth\": 0, \"ticks\": \"\"}, \"colorscale\": [[0.0, \"#0d0887\"], [0.1111111111111111, \"#46039f\"], [0.2222222222222222, \"#7201a8\"], [0.3333333333333333, \"#9c179e\"], [0.4444444444444444, \"#bd3786\"], [0.5555555555555556, \"#d8576b\"], [0.6666666666666666, \"#ed7953\"], [0.7777777777777778, \"#fb9f3a\"], [0.8888888888888888, \"#fdca26\"], [1.0, \"#f0f921\"]], \"type\": \"surface\"}], \"table\": [{\"cells\": {\"fill\": {\"color\": \"#EBF0F8\"}, \"line\": {\"color\": \"white\"}}, \"header\": {\"fill\": {\"color\": \"#C8D4E3\"}, \"line\": {\"color\": \"white\"}}, \"type\": \"table\"}]}, \"layout\": {\"annotationdefaults\": {\"arrowcolor\": \"#2a3f5f\", \"arrowhead\": 0, \"arrowwidth\": 1}, \"coloraxis\": {\"colorbar\": {\"outlinewidth\": 0, \"ticks\": \"\"}}, \"colorscale\": {\"diverging\": [[0, \"#8e0152\"], [0.1, \"#c51b7d\"], [0.2, \"#de77ae\"], [0.3, \"#f1b6da\"], [0.4, \"#fde0ef\"], [0.5, \"#f7f7f7\"], [0.6, \"#e6f5d0\"], [0.7, \"#b8e186\"], [0.8, \"#7fbc41\"], [0.9, \"#4d9221\"], [1, \"#276419\"]], \"sequential\": [[0.0, \"#0d0887\"], [0.1111111111111111, \"#46039f\"], [0.2222222222222222, \"#7201a8\"], [0.3333333333333333, \"#9c179e\"], [0.4444444444444444, \"#bd3786\"], [0.5555555555555556, \"#d8576b\"], [0.6666666666666666, \"#ed7953\"], [0.7777777777777778, \"#fb9f3a\"], [0.8888888888888888, \"#fdca26\"], [1.0, \"#f0f921\"]], \"sequentialminus\": [[0.0, \"#0d0887\"], [0.1111111111111111, \"#46039f\"], [0.2222222222222222, \"#7201a8\"], [0.3333333333333333, \"#9c179e\"], [0.4444444444444444, \"#bd3786\"], [0.5555555555555556, \"#d8576b\"], [0.6666666666666666, \"#ed7953\"], [0.7777777777777778, \"#fb9f3a\"], [0.8888888888888888, \"#fdca26\"], [1.0, \"#f0f921\"]]}, \"colorway\": [\"#636efa\", \"#EF553B\", \"#00cc96\", \"#ab63fa\", \"#FFA15A\", \"#19d3f3\", \"#FF6692\", \"#B6E880\", \"#FF97FF\", \"#FECB52\"], \"font\": {\"color\": \"#2a3f5f\"}, \"geo\": {\"bgcolor\": \"white\", \"lakecolor\": \"white\", \"landcolor\": \"#E5ECF6\", \"showlakes\": true, \"showland\": true, \"subunitcolor\": \"white\"}, \"hoverlabel\": {\"align\": \"left\"}, \"hovermode\": \"closest\", \"mapbox\": {\"style\": \"light\"}, \"paper_bgcolor\": \"white\", \"plot_bgcolor\": \"#E5ECF6\", \"polar\": {\"angularaxis\": {\"gridcolor\": \"white\", \"linecolor\": \"white\", \"ticks\": \"\"}, \"bgcolor\": \"#E5ECF6\", \"radialaxis\": {\"gridcolor\": \"white\", \"linecolor\": \"white\", \"ticks\": \"\"}}, \"scene\": {\"xaxis\": {\"backgroundcolor\": \"#E5ECF6\", \"gridcolor\": \"white\", \"gridwidth\": 2, \"linecolor\": \"white\", \"showbackground\": true, \"ticks\": \"\", \"zerolinecolor\": \"white\"}, \"yaxis\": {\"backgroundcolor\": \"#E5ECF6\", \"gridcolor\": \"white\", \"gridwidth\": 2, \"linecolor\": \"white\", \"showbackground\": true, \"ticks\": \"\", \"zerolinecolor\": \"white\"}, \"zaxis\": {\"backgroundcolor\": \"#E5ECF6\", \"gridcolor\": \"white\", \"gridwidth\": 2, \"linecolor\": \"white\", \"showbackground\": true, \"ticks\": \"\", \"zerolinecolor\": \"white\"}}, \"shapedefaults\": {\"line\": {\"color\": \"#2a3f5f\"}}, \"ternary\": {\"aaxis\": {\"gridcolor\": \"white\", \"linecolor\": \"white\", \"ticks\": \"\"}, \"baxis\": {\"gridcolor\": \"white\", \"linecolor\": \"white\", \"ticks\": \"\"}, \"bgcolor\": \"#E5ECF6\", \"caxis\": {\"gridcolor\": \"white\", \"linecolor\": \"white\", \"ticks\": \"\"}}, \"title\": {\"x\": 0.05}, \"xaxis\": {\"automargin\": true, \"gridcolor\": \"white\", \"linecolor\": \"white\", \"ticks\": \"\", \"title\": {\"standoff\": 15}, \"zerolinecolor\": \"white\", \"zerolinewidth\": 2}, \"yaxis\": {\"automargin\": true, \"gridcolor\": \"white\", \"linecolor\": \"white\", \"ticks\": \"\", \"title\": {\"standoff\": 15}, \"zerolinecolor\": \"white\", \"zerolinewidth\": 2}}}},\n",
       "                        {\"responsive\": true}\n",
       "                    ).then(function(){\n",
       "                            \n",
       "var gd = document.getElementById('c81ab68c-0667-4fc9-a2a5-9ffc261760c9');\n",
       "var x = new MutationObserver(function (mutations, observer) {{\n",
       "        var display = window.getComputedStyle(gd).display;\n",
       "        if (!display || display === 'none') {{\n",
       "            console.log([gd, 'removed!']);\n",
       "            Plotly.purge(gd);\n",
       "            observer.disconnect();\n",
       "        }}\n",
       "}});\n",
       "\n",
       "// Listen for the removal of the full notebook cells\n",
       "var notebookContainer = gd.closest('#notebook-container');\n",
       "if (notebookContainer) {{\n",
       "    x.observe(notebookContainer, {childList: true});\n",
       "}}\n",
       "\n",
       "// Listen for the clearing of the current output cell\n",
       "var outputEl = gd.closest('.output');\n",
       "if (outputEl) {{\n",
       "    x.observe(outputEl, {childList: true});\n",
       "}}\n",
       "\n",
       "                        })\n",
       "                };\n",
       "                });\n",
       "            </script>\n",
       "        </div>"
      ]
     },
     "metadata": {},
     "output_type": "display_data"
    }
   ],
   "source": [
    "pop = Population(20,8)\n",
    "dist = pop.calculateDistribution()\n",
    "showRouletteWheel(pop.individuals, dist)"
   ]
  },
  {
   "cell_type": "code",
   "execution_count": null,
   "metadata": {},
   "outputs": [],
   "source": []
  }
 ],
 "metadata": {
  "kernelspec": {
   "display_name": "Python 3",
   "language": "python",
   "name": "python3"
  },
  "language_info": {
   "codemirror_mode": {
    "name": "ipython",
    "version": 3
   },
   "file_extension": ".py",
   "mimetype": "text/x-python",
   "name": "python",
   "nbconvert_exporter": "python",
   "pygments_lexer": "ipython3",
   "version": "3.7.4"
  }
 },
 "nbformat": 4,
 "nbformat_minor": 2
}
