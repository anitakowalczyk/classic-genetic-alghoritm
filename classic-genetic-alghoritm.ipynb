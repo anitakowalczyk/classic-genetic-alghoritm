{
 "cells": [
  {
   "cell_type": "markdown",
   "metadata": {},
   "source": [
    "## a. Implementacja binarnej reprezentacji chromosomu + konfiguracja dokładności\n",
    "- `bits` - liczba bitów chromosomu, liczba całkowita"
   ]
  },
  {
   "cell_type": "code",
   "execution_count": 77,
   "metadata": {},
   "outputs": [],
   "source": [
    "import random"
   ]
  },
  {
   "cell_type": "code",
   "execution_count": 88,
   "metadata": {},
   "outputs": [],
   "source": [
    "def gen_chromosome(bits):\n",
    "    return [random.randrange(0, 2) for row in range(bits)]"
   ]
  },
  {
   "cell_type": "code",
   "execution_count": 89,
   "metadata": {},
   "outputs": [
    {
     "name": "stdout",
     "output_type": "stream",
     "text": [
      "[1, 0, 0, 0, 1, 0, 0, 1, 0]\n"
     ]
    }
   ],
   "source": [
    "print(gen_chromosome(9))"
   ]
  },
  {
   "cell_type": "markdown",
   "metadata": {},
   "source": [
    "## Implementacja konfiguracji wielkości osobnika\n",
    "- `bits` - liczba bitów chromosomu, liczba całkowita\n",
    "- `chromoQuantity` - liczba chromosomów w każdym osobniku, liczba całkowita"
   ]
  },
  {
   "cell_type": "code",
   "execution_count": 98,
   "metadata": {},
   "outputs": [],
   "source": [
    "def get_individual(bits, chromoQuantity):\n",
    "    return [gen_chromosome(bits) for row in range(chromoQuantity)]"
   ]
  },
  {
   "cell_type": "code",
   "execution_count": 97,
   "metadata": {},
   "outputs": [
    {
     "name": "stdout",
     "output_type": "stream",
     "text": [
      "[[1, 1, 0, 0, 1, 1, 1, 1, 1], [0, 1, 1, 1, 0, 1, 1, 0, 1]]\n"
     ]
    }
   ],
   "source": [
    "print(get_individual(9, 2))"
   ]
  },
  {
   "cell_type": "markdown",
   "metadata": {},
   "source": [
    "## b. Implementacja konfiguracji wielkości populacji\n",
    "- `bits` - liczba bitów chromosomu, liczba całkowita\n",
    "- `chromoQuantity` - liczba chromosomów w każdym osobniku, liczba całkowita\n",
    "- `popSize` - liczba chromosomów w populacji, liczba całkowita"
   ]
  },
  {
   "cell_type": "code",
   "execution_count": 99,
   "metadata": {},
   "outputs": [],
   "source": [
    "def gen_population(bits, chromoQuantity, popSize):\n",
    "    return [get_individual(bits, chromoQuantity) for row in range(popSize)]"
   ]
  },
  {
   "cell_type": "code",
   "execution_count": 106,
   "metadata": {},
   "outputs": [
    {
     "data": {
      "text/plain": [
       "[[[0, 0, 1, 1, 0, 0, 1, 0, 0], [0, 0, 0, 0, 1, 1, 1, 1, 0]],\n",
       " [[0, 0, 0, 1, 0, 1, 1, 1, 1], [0, 1, 1, 0, 0, 0, 0, 1, 1]],\n",
       " [[1, 1, 0, 1, 0, 1, 0, 0, 1], [0, 1, 1, 0, 0, 0, 1, 0, 0]],\n",
       " [[1, 1, 1, 0, 0, 0, 0, 0, 0], [1, 1, 1, 0, 0, 0, 0, 1, 1]],\n",
       " [[0, 0, 0, 0, 0, 0, 0, 1, 1], [1, 0, 0, 1, 0, 1, 1, 1, 1]],\n",
       " [[1, 1, 1, 0, 0, 0, 1, 1, 0], [0, 1, 0, 1, 1, 0, 1, 1, 1]],\n",
       " [[1, 0, 1, 0, 1, 1, 1, 0, 0], [0, 0, 1, 1, 1, 0, 0, 0, 0]],\n",
       " [[0, 0, 1, 1, 1, 0, 1, 1, 0], [0, 0, 1, 0, 0, 0, 0, 1, 0]],\n",
       " [[0, 0, 1, 0, 1, 1, 1, 1, 0], [0, 0, 0, 1, 1, 0, 0, 1, 0]],\n",
       " [[1, 1, 0, 0, 1, 0, 0, 0, 0], [1, 0, 1, 1, 0, 0, 1, 1, 0]],\n",
       " [[0, 1, 1, 1, 1, 0, 0, 0, 0], [0, 0, 1, 0, 1, 1, 0, 1, 0]],\n",
       " [[0, 1, 0, 1, 0, 1, 1, 1, 1], [0, 1, 0, 0, 1, 0, 1, 1, 0]],\n",
       " [[1, 0, 1, 0, 0, 0, 0, 1, 1], [1, 1, 0, 1, 0, 0, 0, 1, 1]],\n",
       " [[0, 1, 1, 1, 1, 0, 1, 1, 0], [0, 0, 1, 0, 1, 0, 0, 0, 1]],\n",
       " [[0, 0, 1, 1, 1, 1, 1, 0, 1], [1, 1, 1, 1, 1, 1, 0, 0, 0]],\n",
       " [[1, 0, 1, 0, 1, 0, 1, 0, 1], [1, 0, 1, 0, 0, 1, 1, 0, 1]],\n",
       " [[1, 0, 0, 0, 1, 0, 1, 1, 1], [1, 1, 0, 1, 0, 0, 1, 0, 0]],\n",
       " [[1, 1, 1, 0, 1, 1, 1, 0, 0], [0, 1, 0, 0, 1, 0, 0, 1, 0]],\n",
       " [[0, 0, 0, 1, 1, 1, 1, 0, 0], [1, 1, 0, 1, 0, 0, 0, 1, 0]],\n",
       " [[1, 1, 1, 0, 1, 1, 0, 0, 0], [0, 0, 0, 1, 0, 0, 0, 1, 0]]]"
      ]
     },
     "execution_count": 106,
     "metadata": {},
     "output_type": "execute_result"
    }
   ],
   "source": [
    "population = gen_population(9, 2, 20)\n",
    "population"
   ]
  },
  {
   "cell_type": "markdown",
   "metadata": {},
   "source": [
    "## Implementacja rozkodowania osobników - konwersji osobnika z reprezentacji binarnej do reprezentacji dziesiętnej\n",
    "- `binary` - osobnik w reprezentacji binarnej, tablica jednowymiarowa `ndarray`\n",
    "- `decimal` - osobnik w reprezentacji dziesiętnej, liczba całkowita"
   ]
  },
  {
   "cell_type": "code",
   "execution_count": 62,
   "metadata": {},
   "outputs": [],
   "source": [
    "def toDecimal(binary):\n",
    "    decimal = 0\n",
    "    position = len(binary)\n",
    "    for bit in binary:\n",
    "        position -= 1\n",
    "        decimal += bit * pow(2, position)\n",
    "    return decimal"
   ]
  },
  {
   "cell_type": "code",
   "execution_count": 128,
   "metadata": {},
   "outputs": [
    {
     "data": {
      "text/plain": [
       "100"
      ]
     },
     "execution_count": 128,
     "metadata": {},
     "output_type": "execute_result"
    }
   ],
   "source": [
    "toDecimal(population[0][0])"
   ]
  },
  {
   "cell_type": "markdown",
   "metadata": {},
   "source": [
    "## Implementacja konwersji populacji z reprezentacji binarnej do dziesiętnej \n",
    "- `population` - populacja osobników, lista"
   ]
  },
  {
   "cell_type": "code",
   "execution_count": 125,
   "metadata": {},
   "outputs": [],
   "source": [
    "def popToDecimal(population):\n",
    "    return [[toDecimal(chromo) for chromo in individual] for individual in population]"
   ]
  },
  {
   "cell_type": "code",
   "execution_count": 129,
   "metadata": {},
   "outputs": [
    {
     "data": {
      "text/plain": [
       "[[100, 30],\n",
       " [47, 195],\n",
       " [425, 196],\n",
       " [448, 451],\n",
       " [3, 303],\n",
       " [454, 183],\n",
       " [348, 112],\n",
       " [118, 66],\n",
       " [94, 50],\n",
       " [400, 358],\n",
       " [240, 90],\n",
       " [175, 150],\n",
       " [323, 419],\n",
       " [246, 81],\n",
       " [125, 504],\n",
       " [341, 333],\n",
       " [279, 420],\n",
       " [476, 146],\n",
       " [60, 418],\n",
       " [472, 34]]"
      ]
     },
     "execution_count": 129,
     "metadata": {},
     "output_type": "execute_result"
    }
   ],
   "source": [
    "decimalPop = popToDecimal(population)\n",
    "decimalPop"
   ]
  },
  {
   "cell_type": "markdown",
   "metadata": {},
   "source": [
    "## c. Implementacja konfiguracji liczby epok"
   ]
  },
  {
   "cell_type": "code",
   "execution_count": null,
   "metadata": {},
   "outputs": [],
   "source": []
  },
  {
   "cell_type": "code",
   "execution_count": null,
   "metadata": {},
   "outputs": [],
   "source": []
  },
  {
   "cell_type": "code",
   "execution_count": null,
   "metadata": {},
   "outputs": [],
   "source": []
  },
  {
   "cell_type": "code",
   "execution_count": null,
   "metadata": {},
   "outputs": [],
   "source": []
  },
  {
   "cell_type": "code",
   "execution_count": null,
   "metadata": {},
   "outputs": [],
   "source": []
  },
  {
   "cell_type": "markdown",
   "metadata": {},
   "source": [
    "## Implementacja funkcji Booth dwóch zmienych\n",
    "- `x` - pierwsza zmienna, liczba całkowita\n",
    "- `y` - druga zmienna, liczba całkowita"
   ]
  },
  {
   "cell_type": "code",
   "execution_count": 64,
   "metadata": {},
   "outputs": [],
   "source": [
    "def boothFunc(x, y):\n",
    "    return pow((x + 2 * y - 7), 2) + pow((2 * x + y - 5), 2)"
   ]
  },
  {
   "cell_type": "markdown",
   "metadata": {},
   "source": [
    "## Implementacja funkcji Booth całej populacji\n",
    "- `decimalPop` - populacja osobników w reprezentacji dziesiętnej, lista"
   ]
  },
  {
   "cell_type": "code",
   "execution_count": 132,
   "metadata": {},
   "outputs": [],
   "source": [
    "def popBoothFunc(decimalPop):\n",
    "    return [boothFunc(individual[0], individual[1]) for individual in decimalPop]"
   ]
  },
  {
   "cell_type": "code",
   "execution_count": 279,
   "metadata": {},
   "outputs": [
    {
     "data": {
      "text/plain": [
       "[74034,\n",
       " 265556,\n",
       " 1739781,\n",
       " 3604613,\n",
       " 454820,\n",
       " 1840365,\n",
       " 964034,\n",
       " 147258,\n",
       " 89258,\n",
       " 2559290,\n",
       " 489794,\n",
       " 464049,\n",
       " 2455316,\n",
       " 483425,\n",
       " 1828877,\n",
       " 2020100,\n",
       " 2183273,\n",
       " 1773770,\n",
       " 1074410,\n",
       " 1230818]"
      ]
     },
     "execution_count": 279,
     "metadata": {},
     "output_type": "execute_result"
    }
   ],
   "source": [
    "popAdaptation = popBoothFunc(decimalPop)\n",
    "popAdaptation"
   ]
  },
  {
   "cell_type": "markdown",
   "metadata": {},
   "source": [
    "## d. Implementacja selekcji metodą najlepszych\n",
    "- `popAdaptation` - funkcje przystosowania populacji, lista\n",
    "- `percent` - procent najlepszych osobników, liczba całkowita\n",
    "- `bestSelected` - funkcje przystosowania najlepszych osobników, lista"
   ]
  },
  {
   "cell_type": "code",
   "execution_count": 299,
   "metadata": {},
   "outputs": [],
   "source": [
    "def bestSelection(popAdaptation, percent = 30):\n",
    "    bestSelected = []\n",
    "    N = int(len(popAdaptation) * percent / 100)\n",
    "    for i in range(0, N):  \n",
    "        best = max(popAdaptation)\n",
    "        popAdaptation.remove(best); \n",
    "        bestSelected.append(best)\n",
    "    return bestSelected"
   ]
  },
  {
   "cell_type": "code",
   "execution_count": 300,
   "metadata": {},
   "outputs": [
    {
     "data": {
      "text/plain": [
       "[3604613, 2559290]"
      ]
     },
     "execution_count": 300,
     "metadata": {},
     "output_type": "execute_result"
    }
   ],
   "source": [
    "bestSelected = bestSelection(popAdaptation[:], 10)\n",
    "bestSelected"
   ]
  },
  {
   "cell_type": "markdown",
   "metadata": {},
   "source": [
    "## d. Implementacja selekcji metodą ruletki\n"
   ]
  },
  {
   "cell_type": "markdown",
   "metadata": {},
   "source": []
  },
  {
   "cell_type": "code",
   "execution_count": null,
   "metadata": {},
   "outputs": [],
   "source": []
  }
 ],
 "metadata": {
  "kernelspec": {
   "display_name": "Python 3",
   "language": "python",
   "name": "python3"
  },
  "language_info": {
   "codemirror_mode": {
    "name": "ipython",
    "version": 3
   },
   "file_extension": ".py",
   "mimetype": "text/x-python",
   "name": "python",
   "nbconvert_exporter": "python",
   "pygments_lexer": "ipython3",
   "version": "3.7.4"
  }
 },
 "nbformat": 4,
 "nbformat_minor": 2
}
