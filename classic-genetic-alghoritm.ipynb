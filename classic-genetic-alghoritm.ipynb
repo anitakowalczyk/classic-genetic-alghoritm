{
 "cells": [
  {
   "cell_type": "markdown",
   "metadata": {},
   "source": [
    "## a) Implementacja binarnej reprezentacji chromosomu + konfiguracja dokładności\n",
    "- `bits` - liczba bitów chromosomu, liczba całkowita\n",
    "- `quantity` - liczba chromosomów, liczba całkowita"
   ]
  },
  {
   "cell_type": "code",
   "execution_count": 7,
   "metadata": {},
   "outputs": [],
   "source": [
    "import numpy as np"
   ]
  },
  {
   "cell_type": "code",
   "execution_count": 8,
   "metadata": {},
   "outputs": [],
   "source": [
    "def gen_chromosome(bits, quantity = 1):\n",
    "    return np.random.randint(0,2, size=(quantity, bits))"
   ]
  },
  {
   "cell_type": "code",
   "execution_count": 9,
   "metadata": {},
   "outputs": [
    {
     "name": "stdout",
     "output_type": "stream",
     "text": [
      "[[1 0 1 1 0 1 1 1 0]]\n"
     ]
    }
   ],
   "source": [
    "print(gen_chromosome(9))"
   ]
  },
  {
   "cell_type": "markdown",
   "metadata": {},
   "source": [
    "## b) Implementacja konfiguracji wielkości populacji\n",
    "- `bits` - liczba bitów chromosomu, liczba całkowita\n",
    "- `popSize` - liczba chromosomów w populacji, liczba całkowita"
   ]
  },
  {
   "cell_type": "code",
   "execution_count": 10,
   "metadata": {},
   "outputs": [],
   "source": [
    "def gen_population(bits, popSize):\n",
    "    return gen_chromosome(bits, popSize)"
   ]
  },
  {
   "cell_type": "code",
   "execution_count": 14,
   "metadata": {},
   "outputs": [
    {
     "name": "stdout",
     "output_type": "stream",
     "text": [
      "[[1 0 0 0 0 1 1 1 0]\n",
      " [1 0 1 1 0 0 0 1 1]\n",
      " [0 0 0 1 1 1 1 1 1]\n",
      " [1 0 0 1 0 0 0 0 0]\n",
      " [1 0 0 0 0 0 1 1 0]\n",
      " [1 0 0 1 0 1 0 0 0]\n",
      " [1 0 1 1 1 0 0 0 0]\n",
      " [0 1 0 0 1 1 0 0 0]\n",
      " [1 1 0 1 1 0 1 1 1]\n",
      " [1 0 1 1 1 0 1 0 0]\n",
      " [1 1 0 1 1 1 0 1 0]\n",
      " [0 0 0 0 1 1 0 1 1]\n",
      " [0 0 0 1 0 1 0 1 1]\n",
      " [0 0 1 0 0 1 1 0 1]\n",
      " [0 0 1 1 0 0 1 0 1]\n",
      " [0 0 0 0 0 0 1 1 1]\n",
      " [1 0 1 1 0 0 0 1 0]\n",
      " [1 0 1 0 1 1 0 1 0]\n",
      " [1 0 1 0 1 1 1 1 0]\n",
      " [1 1 1 0 0 1 1 0 0]]\n"
     ]
    }
   ],
   "source": [
    "population = gen_population(9, 20)\n",
    "print(population)"
   ]
  },
  {
   "cell_type": "code",
   "execution_count": null,
   "metadata": {},
   "outputs": [],
   "source": [
    "## b) Implementacja rozkodowania osobników - konwersji osobnika z reprezentacji binarnej do reprezentacji dziesiętnej\n",
    "- `binary` - osobnik w reprezentacji binarnej, liczba całkowita\n",
    "- `decimal` - liczba chromosomów w populacji, liczba całkowita\n"
   ]
  },
  {
   "cell_type": "code",
   "execution_count": 52,
   "metadata": {},
   "outputs": [],
   "source": [
    "def toDecimal(binary):\n",
    "    decimal = 0\n",
    "    position = len(binary)\n",
    "    for bit in binary:\n",
    "        position -= 1\n",
    "        decimal += bit * pow(2, position)\n",
    "    return decimal"
   ]
  },
  {
   "cell_type": "code",
   "execution_count": 53,
   "metadata": {},
   "outputs": [
    {
     "data": {
      "text/plain": [
       "270"
      ]
     },
     "execution_count": 53,
     "metadata": {},
     "output_type": "execute_result"
    }
   ],
   "source": [
    "toDecimal(population[0])"
   ]
  },
  {
   "cell_type": "markdown",
   "metadata": {},
   "source": [
    "## c) Implementacja konfiguracji liczby epok"
   ]
  },
  {
   "cell_type": "code",
   "execution_count": null,
   "metadata": {},
   "outputs": [],
   "source": []
  }
 ],
 "metadata": {
  "kernelspec": {
   "display_name": "Python 3",
   "language": "python",
   "name": "python3"
  },
  "language_info": {
   "codemirror_mode": {
    "name": "ipython",
    "version": 3
   },
   "file_extension": ".py",
   "mimetype": "text/x-python",
   "name": "python",
   "nbconvert_exporter": "python",
   "pygments_lexer": "ipython3",
   "version": "3.7.4"
  }
 },
 "nbformat": 4,
 "nbformat_minor": 2
}
