{
 "cells": [
  {
   "cell_type": "markdown",
   "metadata": {},
   "source": [
    "## a) Implementacja binarnej reprezentacji chromosomu + konfiguracja dokładności\n",
    "- `n` - liczba zmiennych, liczba całkowita\n",
    "- `bits` - liczba bitów chromosomu, liczba całkowita\n",
    "- `quantity` - liczba chromosomów, liczba całkowita"
   ]
  },
  {
   "cell_type": "code",
   "execution_count": 2,
   "metadata": {},
   "outputs": [],
   "source": [
    "import numpy as np"
   ]
  },
  {
   "cell_type": "code",
   "execution_count": 3,
   "metadata": {},
   "outputs": [],
   "source": [
    "def gen_chromosome(n, bits, quantity = 1):\n",
    "    return np.random.randint(0,2, size=(quantity, n * bits))"
   ]
  },
  {
   "cell_type": "code",
   "execution_count": 4,
   "metadata": {},
   "outputs": [
    {
     "name": "stdout",
     "output_type": "stream",
     "text": [
      "[[1 1 1 1 1 1 1 0]]\n"
     ]
    }
   ],
   "source": [
    "print(gen_chromosome(4,2))"
   ]
  },
  {
   "cell_type": "markdown",
   "metadata": {},
   "source": [
    "## b) Implementacja konfiguracji wielkości populacji\n",
    "- `n` - liczba zmiennych, liczba całkowita\n",
    "- `bits` - liczba bitów chromosomu, liczba całkowita\n",
    "- `popSize` - liczba chromosomów w populacji, liczba całkowita"
   ]
  },
  {
   "cell_type": "code",
   "execution_count": 5,
   "metadata": {},
   "outputs": [],
   "source": [
    "def gen_population(n, bits, popSize):\n",
    "    return gen_chromosome(n, bits, popSize)"
   ]
  },
  {
   "cell_type": "code",
   "execution_count": 6,
   "metadata": {},
   "outputs": [
    {
     "name": "stdout",
     "output_type": "stream",
     "text": [
      "[[1 1 1 1 1 0 0 0]\n",
      " [0 1 1 1 0 0 0 1]\n",
      " [1 0 1 1 1 0 1 0]\n",
      " [0 0 0 0 0 0 1 0]\n",
      " [0 0 1 1 1 0 1 0]\n",
      " [1 0 0 1 1 1 1 1]\n",
      " [1 1 0 1 0 0 0 1]\n",
      " [0 0 1 1 0 0 1 1]\n",
      " [0 0 1 1 0 1 1 1]\n",
      " [1 1 1 0 0 1 0 0]\n",
      " [1 1 1 0 0 0 0 0]\n",
      " [1 0 0 1 0 0 1 0]\n",
      " [1 1 1 0 0 1 0 0]\n",
      " [0 0 0 0 1 0 0 0]\n",
      " [0 0 0 0 1 1 1 0]\n",
      " [1 0 1 1 1 0 0 1]\n",
      " [1 1 0 1 1 1 1 1]\n",
      " [1 1 0 1 0 1 1 0]\n",
      " [1 0 0 0 0 0 0 1]\n",
      " [0 0 0 1 1 1 1 1]]\n"
     ]
    }
   ],
   "source": [
    "print(gen_population(4, 2, 20))"
   ]
  },
  {
   "cell_type": "markdown",
   "metadata": {},
   "source": [
    "## c) Implementacja konfiguracji liczby epok"
   ]
  },
  {
   "cell_type": "code",
   "execution_count": null,
   "metadata": {},
   "outputs": [],
   "source": []
  }
 ],
 "metadata": {
  "kernelspec": {
   "display_name": "Python 3",
   "language": "python",
   "name": "python3"
  },
  "language_info": {
   "codemirror_mode": {
    "name": "ipython",
    "version": 3
   },
   "file_extension": ".py",
   "mimetype": "text/x-python",
   "name": "python",
   "nbconvert_exporter": "python",
   "pygments_lexer": "ipython3",
   "version": "3.7.4"
  }
 },
 "nbformat": 4,
 "nbformat_minor": 2
}
