{
 "cells": [
  {
   "cell_type": "code",
   "execution_count": 1358,
   "metadata": {},
   "outputs": [],
   "source": [
    "import random\n",
    "import copy "
   ]
  },
  {
   "cell_type": "markdown",
   "metadata": {},
   "source": [
    "#### Implementacja krzyżowania jedno, dwu i trzy punktowego oraz krzyżowania jednorodnego\n",
    "- `x1` - chromosom pierwszy, lista\n",
    "- `x2` - chromosom drugi, lista\n",
    "- `crossoverProb` - prawdopodobieństwo krzyżowania, liczba z zakresu 0,1"
   ]
  },
  {
   "cell_type": "code",
   "execution_count": 756,
   "metadata": {},
   "outputs": [],
   "source": [
    "def singlePointCrossover(x1, x2):\n",
    "    point = random.randrange(1, len(x1))\n",
    "    temp = x1[:point]\n",
    "    x1[:point] = x2[:point]\n",
    "    x2[:point] = temp\n",
    "    return x1, x2"
   ]
  },
  {
   "cell_type": "code",
   "execution_count": 1108,
   "metadata": {},
   "outputs": [],
   "source": [
    "def twoPointsCrossover(x1, x2):\n",
    "    points = random.sample(range(1, len(x1)), 2)\n",
    "    point1 = min(points)\n",
    "    point2 = max(points)\n",
    "    temp = x1[point1:point2]\n",
    "    x1[point1:point2] = x2[point1:point2]\n",
    "    x2[point1:point2] = temp\n",
    "    return x1, x2"
   ]
  },
  {
   "cell_type": "code",
   "execution_count": 787,
   "metadata": {},
   "outputs": [],
   "source": [
    "def threePointsCrossover(x1, x2):\n",
    "    points = random.sample(range(1, len(x1)), 3)\n",
    "    point1 = min(points)\n",
    "    point2 = max(points)\n",
    "    point3 = [i for i in points if i != point1 and i != point2][0]\n",
    "\n",
    "    temp = x1[point1:point2]\n",
    "    x1[point1:point2] = x2[point1:point2]\n",
    "    x2[point1:point2] = temp\n",
    "    temp = x1[point3:]\n",
    "    x1[point3:] = x2[point3:]\n",
    "    x2[point3:] = temp\n",
    "    \n",
    "    return x1, x2"
   ]
  },
  {
   "cell_type": "code",
   "execution_count": 1113,
   "metadata": {},
   "outputs": [],
   "source": [
    "def probUniformCrossover(x1, x2, crossoverProb):\n",
    "    for index in range(len(x1)):\n",
    "        prob = random.random()\n",
    "        if prob < crossoverProb:\n",
    "            temp = x1[index]\n",
    "            x1[index] = x2[index]\n",
    "            x2[index] = temp\n",
    "    return x1, x2"
   ]
  },
  {
   "cell_type": "markdown",
   "metadata": {},
   "source": [
    "### Implementacja krzyżowania jedno, dwu i trzy punktowego oraz krzyżowania jednorodnego obiektowo\n",
    "- `ind1` - pierwszy osobnik, obiekt typu Individual\n",
    "- `ind2` - pierwszy osobnik, obiekt typu Individual\n",
    "- `crossoverProb` - prawdopodobieństwo krzyżowania, liczba z zakresu 0,1"
   ]
  },
  {
   "cell_type": "code",
   "execution_count": 1105,
   "metadata": {},
   "outputs": [],
   "source": [
    "def singlePointCrossoverObj(ind1, ind2):\n",
    "    x1, x2 = singlePointCrossover(ind1.X.binary, ind2.X.binary)\n",
    "    ind1.setX(x1)\n",
    "    ind2.setX(x2)\n",
    "\n",
    "    y1, y2 = singlePointCrossover(ind1.Y.binary, ind2.Y.binary)\n",
    "    ind1.setY(y1)\n",
    "    ind2.setY(y2)"
   ]
  },
  {
   "cell_type": "code",
   "execution_count": 1109,
   "metadata": {},
   "outputs": [],
   "source": [
    "def twoPointsCrossoverObj(ind1, ind2):\n",
    "    x1, x2 = twoPointsCrossover(ind1.X.binary, ind2.X.binary)\n",
    "    ind1.setX(x1)\n",
    "    ind2.setX(x2)\n",
    "\n",
    "    y1, y2 = twoPointsCrossover(ind1.Y.binary, ind2.Y.binary)\n",
    "    ind1.setY(y1)\n",
    "    ind2.setY(y2)"
   ]
  },
  {
   "cell_type": "code",
   "execution_count": 1110,
   "metadata": {},
   "outputs": [],
   "source": [
    "def threePointsCrossoverObj(ind1, ind2):\n",
    "    x1, x2 = threePointsCrossover(ind1.X.binary, ind2.X.binary)\n",
    "    ind1.setX(x1)\n",
    "    ind2.setX(x2)\n",
    "\n",
    "    y1, y2 = threePointsCrossover(ind1.Y.binary, ind2.Y.binary)\n",
    "    ind1.setY(y1)\n",
    "    ind2.setY(y2)"
   ]
  },
  {
   "cell_type": "code",
   "execution_count": 1141,
   "metadata": {},
   "outputs": [],
   "source": [
    "def probUniformCrossoverObj(ind1, ind2, crossoverProb):\n",
    "    x1, x2 = probUniformCrossover(ind1.X.binary, ind2.X.binary, crossoverProb)\n",
    "    ind1.setX(x1)\n",
    "    ind2.setX(x2)\n",
    "\n",
    "    y1, y2 = probUniformCrossover(ind1.Y.binary, ind2.Y.binary, crossoverProb)\n",
    "    ind1.setY(y1)\n",
    "    ind2.setY(y2)"
   ]
  }
 ],
 "metadata": {
  "kernelspec": {
   "display_name": "Python 3",
   "language": "python",
   "name": "python3"
  },
  "language_info": {
   "codemirror_mode": {
    "name": "ipython",
    "version": 3
   },
   "file_extension": ".py",
   "mimetype": "text/x-python",
   "name": "python",
   "nbconvert_exporter": "python",
   "pygments_lexer": "ipython3",
   "version": "3.7.4"
  }
 },
 "nbformat": 4,
 "nbformat_minor": 2
}
