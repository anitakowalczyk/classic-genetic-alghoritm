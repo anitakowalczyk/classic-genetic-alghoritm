{
 "cells": [
  {
   "cell_type": "markdown",
   "metadata": {},
   "source": [
    "#### Implementacja krzyżowania jedno, dwu i trzy punktowego oraz krzyżowania jednorodnego\n",
    "- `x1` - chromosom pierwszy, lista\n",
    "- `x2` - chromosom drugi, lista\n",
    "- `crossoverProb` - prawdopodobieństwo krzyżowania, liczba z zakresu 0,1"
   ]
  },
  {
   "cell_type": "code",
   "execution_count": 7,
   "metadata": {},
   "outputs": [],
   "source": [
    "def singlePointCrossover(x1, x2):\n",
    "    point = random.randrange(1, len(x1))\n",
    "    temp = x1[:point]\n",
    "    x1[:point] = x2[:point]\n",
    "    x2[:point] = temp\n",
    "    return x1, x2"
   ]
  },
  {
   "cell_type": "code",
   "execution_count": 8,
   "metadata": {},
   "outputs": [],
   "source": [
    "def twoPointsCrossover(x1, x2):\n",
    "    points = random.sample(range(1, len(x1)), 2)\n",
    "    point1 = min(points)\n",
    "    point2 = max(points)\n",
    "    temp = x1[point1:point2]\n",
    "    x1[point1:point2] = x2[point1:point2]\n",
    "    x2[point1:point2] = temp\n",
    "    return x1, x2"
   ]
  },
  {
   "cell_type": "code",
   "execution_count": 9,
   "metadata": {},
   "outputs": [],
   "source": [
    "def threePointsCrossover(x1, x2):\n",
    "    points = random.sample(range(1, len(x1)), 3)\n",
    "    point1 = min(points)\n",
    "    point2 = max(points)\n",
    "    point3 = [i for i in points if i != point1 and i != point2][0]\n",
    "\n",
    "    temp = x1[point1:point2]\n",
    "    x1[point1:point2] = x2[point1:point2]\n",
    "    x2[point1:point2] = temp\n",
    "    temp = x1[point3:]\n",
    "    x1[point3:] = x2[point3:]\n",
    "    x2[point3:] = temp\n",
    "    \n",
    "    return x1, x2"
   ]
  },
  {
   "cell_type": "code",
   "execution_count": 10,
   "metadata": {},
   "outputs": [],
   "source": [
    "def probUniformCrossover(x1, x2, crossoverProb):\n",
    "    for index in range(len(x1)):\n",
    "        prob = random.random()\n",
    "        if prob < crossoverProb:\n",
    "            temp = x1[index]\n",
    "            x1[index] = x2[index]\n",
    "            x2[index] = temp\n",
    "    return x1, x2"
   ]
  },
  {
   "cell_type": "markdown",
   "metadata": {},
   "source": [
    "### Implementacja krzyżowania jedno, dwu i trzy punktowego oraz krzyżowania jednorodnego obiektowo\n",
    "- `ind1` - pierwszy osobnik, obiekt typu Individual\n",
    "- `ind2` - pierwszy osobnik, obiekt typu Individual\n",
    "- `crossoverProb` - prawdopodobieństwo krzyżowania, liczba z zakresu 0,1"
   ]
  },
  {
   "cell_type": "code",
   "execution_count": 11,
   "metadata": {},
   "outputs": [],
   "source": [
    "def singlePointCrossoverObj(ind1, ind2):\n",
    "    x1, x2 = singlePointCrossover(ind1.X.binary, ind2.X.binary)\n",
    "    ind1.setX(x1)\n",
    "    ind2.setX(x2)\n",
    "\n",
    "    y1, y2 = singlePointCrossover(ind1.Y.binary, ind2.Y.binary)\n",
    "    ind1.setY(y1)\n",
    "    ind2.setY(y2)"
   ]
  },
  {
   "cell_type": "code",
   "execution_count": 12,
   "metadata": {},
   "outputs": [],
   "source": [
    "def twoPointsCrossoverObj(ind1, ind2):\n",
    "    x1, x2 = twoPointsCrossover(ind1.X.binary, ind2.X.binary)\n",
    "    ind1.setX(x1)\n",
    "    ind2.setX(x2)\n",
    "\n",
    "    y1, y2 = twoPointsCrossover(ind1.Y.binary, ind2.Y.binary)\n",
    "    ind1.setY(y1)\n",
    "    ind2.setY(y2)"
   ]
  },
  {
   "cell_type": "code",
   "execution_count": 13,
   "metadata": {},
   "outputs": [],
   "source": [
    "def threePointsCrossoverObj(ind1, ind2):\n",
    "    x1, x2 = threePointsCrossover(ind1.X.binary, ind2.X.binary)\n",
    "    ind1.setX(x1)\n",
    "    ind2.setX(x2)\n",
    "\n",
    "    y1, y2 = threePointsCrossover(ind1.Y.binary, ind2.Y.binary)\n",
    "    ind1.setY(y1)\n",
    "    ind2.setY(y2)"
   ]
  },
  {
   "cell_type": "code",
   "execution_count": 14,
   "metadata": {},
   "outputs": [],
   "source": [
    "def probUniformCrossoverObj(ind1, ind2, crossoverProb):\n",
    "    x1, x2 = probUniformCrossover(ind1.X.binary, ind2.X.binary, crossoverProb)\n",
    "    ind1.setX(x1)\n",
    "    ind2.setX(x2)\n",
    "\n",
    "    y1, y2 = probUniformCrossover(ind1.Y.binary, ind2.Y.binary, crossoverProb)\n",
    "    ind1.setY(y1)\n",
    "    ind2.setY(y2)"
   ]
  },
  {
   "cell_type": "markdown",
   "metadata": {},
   "source": [
    "# Przykłady użycia"
   ]
  },
  {
   "cell_type": "code",
   "execution_count": 31,
   "metadata": {},
   "outputs": [],
   "source": [
    "import random\n",
    "import copy\n",
    "\n",
    "from ipynb.fs.full.Chromosome import Chromosome\n",
    "from ipynb.fs.full.Individual import Individual"
   ]
  },
  {
   "cell_type": "code",
   "execution_count": 3,
   "metadata": {},
   "outputs": [],
   "source": [
    "ind1 = Individual(8)\n",
    "ind2 = Individual(8)"
   ]
  },
  {
   "cell_type": "code",
   "execution_count": 4,
   "metadata": {},
   "outputs": [
    {
     "name": "stdout",
     "output_type": "stream",
     "text": [
      "[1, 1, 0, 1, 0, 1, 0, 1] [1, 1, 0, 0, 1, 0, 1, 0]\n",
      "[0, 1, 1, 1, 0, 0, 1, 0] [1, 1, 0, 1, 1, 0, 0, 0]\n"
     ]
    }
   ],
   "source": [
    "print(ind1.X.binary, ind1.Y.binary)\n",
    "print(ind2.X.binary, ind2.Y.binary)"
   ]
  },
  {
   "cell_type": "code",
   "execution_count": 15,
   "metadata": {},
   "outputs": [],
   "source": [
    "singlePointCrossoverObj(ind1, ind2)"
   ]
  },
  {
   "cell_type": "code",
   "execution_count": 21,
   "metadata": {},
   "outputs": [
    {
     "name": "stdout",
     "output_type": "stream",
     "text": [
      "[0, 1, 0, 1, 0, 0, 1, 1] [1, 1, 0, 0, 1, 0, 0, 0]\n",
      "[1, 1, 1, 1, 0, 1, 0, 0] [1, 1, 0, 1, 1, 0, 1, 0]\n"
     ]
    }
   ],
   "source": [
    "print(ind1.X.binary, ind1.Y.binary)\n",
    "print(ind2.X.binary, ind2.Y.binary)"
   ]
  },
  {
   "cell_type": "code",
   "execution_count": 22,
   "metadata": {},
   "outputs": [],
   "source": [
    "twoPointsCrossoverObj(ind1, ind2)"
   ]
  },
  {
   "cell_type": "code",
   "execution_count": 26,
   "metadata": {},
   "outputs": [
    {
     "name": "stdout",
     "output_type": "stream",
     "text": [
      "[0, 1, 0, 1, 0, 1, 1, 0] [1, 1, 0, 0, 1, 0, 0, 0]\n",
      "[1, 1, 1, 1, 0, 0, 0, 1] [1, 1, 0, 1, 1, 0, 1, 0]\n"
     ]
    }
   ],
   "source": [
    "print(ind1.X.binary, ind1.Y.binary)\n",
    "print(ind2.X.binary, ind2.Y.binary)"
   ]
  },
  {
   "cell_type": "code",
   "execution_count": 27,
   "metadata": {},
   "outputs": [],
   "source": [
    "threePointsCrossoverObj(ind1, ind2)"
   ]
  },
  {
   "cell_type": "code",
   "execution_count": 28,
   "metadata": {},
   "outputs": [
    {
     "name": "stdout",
     "output_type": "stream",
     "text": [
      "[0, 1, 1, 1, 0, 0, 0, 1] [1, 1, 0, 1, 1, 0, 1, 0]\n",
      "[1, 1, 0, 1, 0, 1, 1, 0] [1, 1, 0, 0, 1, 0, 0, 0]\n"
     ]
    }
   ],
   "source": [
    "print(ind1.X.binary, ind1.Y.binary)\n",
    "print(ind2.X.binary, ind2.Y.binary)"
   ]
  },
  {
   "cell_type": "code",
   "execution_count": 29,
   "metadata": {},
   "outputs": [],
   "source": [
    "probUniformCrossoverObj(ind1, ind2, 0.8)"
   ]
  },
  {
   "cell_type": "code",
   "execution_count": 30,
   "metadata": {},
   "outputs": [
    {
     "name": "stdout",
     "output_type": "stream",
     "text": [
      "[1, 1, 0, 1, 0, 0, 1, 1] [1, 1, 0, 0, 1, 0, 0, 0]\n",
      "[0, 1, 1, 1, 0, 1, 0, 0] [1, 1, 0, 1, 1, 0, 1, 0]\n"
     ]
    }
   ],
   "source": [
    "print(ind1.X.binary, ind1.Y.binary)\n",
    "print(ind2.X.binary, ind2.Y.binary)"
   ]
  },
  {
   "cell_type": "code",
   "execution_count": null,
   "metadata": {},
   "outputs": [],
   "source": []
  }
 ],
 "metadata": {
  "kernelspec": {
   "display_name": "Python 3",
   "language": "python",
   "name": "python3"
  },
  "language_info": {
   "codemirror_mode": {
    "name": "ipython",
    "version": 3
   },
   "file_extension": ".py",
   "mimetype": "text/x-python",
   "name": "python",
   "nbconvert_exporter": "python",
   "pygments_lexer": "ipython3",
   "version": "3.7.4"
  }
 },
 "nbformat": 4,
 "nbformat_minor": 2
}
